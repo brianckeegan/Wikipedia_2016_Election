{
 "cells": [
  {
   "cell_type": "code",
   "execution_count": 1,
   "metadata": {},
   "outputs": [],
   "source": [
    "%matplotlib inline\n",
    "import numpy as np\n",
    "import matplotlib.pyplot as plt\n",
    "\n",
    "import requests\n",
    "\n",
    "# https://stackoverflow.com/a/46574866/1574687\n",
    "import matplotlib as mpl\n",
    "\n",
    "from scipy import stats\n",
    "\n",
    "from bs4 import BeautifulSoup\n",
    "\n",
    "import seaborn as sb\n",
    "sb.set_style('whitegrid')\n",
    "\n",
    "import pandas as pd\n",
    "pd.options.display.max_columns = 100\n",
    "idx = pd.IndexSlice\n",
    "\n",
    "import json, datetime, time, os, re\n",
    "\n",
    "import networkx as nx\n",
    "#from scipy.spatial import distance\n",
    "\n",
    "from matplotlib import colors, cm\n",
    "\n",
    "_dir = u'E:/Dropbox/Workspace/Wikipedia_Trump/'\n",
    "#_dir = u'/Users/briankeegan/Dropbox/Workspace/Wikipedia BLM/'"
   ]
  },
  {
   "cell_type": "code",
   "execution_count": 2,
   "metadata": {},
   "outputs": [],
   "source": [
    "pv_date_range = ('2015-07-01','2017-12-01')\n",
    "\n",
    "start, stop = pd.Timestamp('2015-06-01',freq='D'), pd.Timestamp('2017-11-09',freq='D')"
   ]
  },
  {
   "cell_type": "markdown",
   "metadata": {},
   "source": [
    "# Load data"
   ]
  },
  {
   "cell_type": "markdown",
   "metadata": {},
   "source": [
    "### Bots\n",
    "\n",
    "Load all the users who are categorized as bots."
   ]
  },
  {
   "cell_type": "code",
   "execution_count": 3,
   "metadata": {},
   "outputs": [
    {
     "name": "stdout",
     "output_type": "stream",
     "text": [
      "There are 1,712 bots.\n"
     ]
    }
   ],
   "source": [
    "with open('bots.json','r') as f:\n",
    "    bot_list = json.load(f)\n",
    "    \n",
    "bot_list = [name[5:] for name in bot_list]\n",
    "\n",
    "print(\"There are {0:,} bots.\".format(len(bot_list)))"
   ]
  },
  {
   "cell_type": "markdown",
   "metadata": {},
   "source": [
    "### Revisions"
   ]
  },
  {
   "cell_type": "markdown",
   "metadata": {},
   "source": [
    "Load all the revisions."
   ]
  },
  {
   "cell_type": "code",
   "execution_count": 4,
   "metadata": {},
   "outputs": [
    {
     "data": {
      "text/html": [
       "<div>\n",
       "<style scoped>\n",
       "    .dataframe tbody tr th:only-of-type {\n",
       "        vertical-align: middle;\n",
       "    }\n",
       "\n",
       "    .dataframe tbody tr th {\n",
       "        vertical-align: top;\n",
       "    }\n",
       "\n",
       "    .dataframe thead th {\n",
       "        text-align: right;\n",
       "    }\n",
       "</style>\n",
       "<table border=\"1\" class=\"dataframe\">\n",
       "  <thead>\n",
       "    <tr style=\"text-align: right;\">\n",
       "      <th></th>\n",
       "      <th>anon</th>\n",
       "      <th>comment</th>\n",
       "      <th>commenthidden</th>\n",
       "      <th>date</th>\n",
       "      <th>page</th>\n",
       "      <th>parentid</th>\n",
       "      <th>revid</th>\n",
       "      <th>sha1</th>\n",
       "      <th>sha1hidden</th>\n",
       "      <th>size</th>\n",
       "      <th>suppressed</th>\n",
       "      <th>timestamp</th>\n",
       "      <th>user</th>\n",
       "      <th>userhidden</th>\n",
       "      <th>userid</th>\n",
       "      <th>year</th>\n",
       "      <th>month</th>\n",
       "      <th>size_diff</th>\n",
       "      <th>prev_user</th>\n",
       "      <th>rev_index</th>\n",
       "      <th>age</th>\n",
       "      <th>latency</th>\n",
       "    </tr>\n",
       "  </thead>\n",
       "  <tbody>\n",
       "    <tr>\n",
       "      <th>0</th>\n",
       "      <td>False</td>\n",
       "      <td>NaN</td>\n",
       "      <td>NaN</td>\n",
       "      <td>2016-07-30</td>\n",
       "      <td>/r/The Donald</td>\n",
       "      <td>0</td>\n",
       "      <td>732214190</td>\n",
       "      <td>4e740bd73bb2774f20bd07e47c82aecef915d2db</td>\n",
       "      <td>NaN</td>\n",
       "      <td>42</td>\n",
       "      <td>NaN</td>\n",
       "      <td>2016-07-30 11:42:31</td>\n",
       "      <td>Nyuszika7H</td>\n",
       "      <td>NaN</td>\n",
       "      <td>0</td>\n",
       "      <td>2016</td>\n",
       "      <td>7</td>\n",
       "      <td>NaN</td>\n",
       "      <td>NaN</td>\n",
       "      <td>0</td>\n",
       "      <td>0.0</td>\n",
       "      <td>NaN</td>\n",
       "    </tr>\n",
       "    <tr>\n",
       "      <th>1</th>\n",
       "      <td>False</td>\n",
       "      <td>NaN</td>\n",
       "      <td>NaN</td>\n",
       "      <td>2016-07-30</td>\n",
       "      <td>/r/The Donald</td>\n",
       "      <td>732214190</td>\n",
       "      <td>732214592</td>\n",
       "      <td>2f0d2e463baf26803e343652b3f9bf5cfed3d552</td>\n",
       "      <td>NaN</td>\n",
       "      <td>87</td>\n",
       "      <td>NaN</td>\n",
       "      <td>2016-07-30 11:46:38</td>\n",
       "      <td>Nyuszika7H</td>\n",
       "      <td>NaN</td>\n",
       "      <td>0</td>\n",
       "      <td>2016</td>\n",
       "      <td>7</td>\n",
       "      <td>45.0</td>\n",
       "      <td>Nyuszika7H</td>\n",
       "      <td>1</td>\n",
       "      <td>0.0</td>\n",
       "      <td>247.0</td>\n",
       "    </tr>\n",
       "    <tr>\n",
       "      <th>2</th>\n",
       "      <td>False</td>\n",
       "      <td>NaN</td>\n",
       "      <td>NaN</td>\n",
       "      <td>2016-09-16</td>\n",
       "      <td>/r/The Donald</td>\n",
       "      <td>732214592</td>\n",
       "      <td>739695016</td>\n",
       "      <td>399fd716f6bea87cfe8d4378d8bca16f4fcfece3</td>\n",
       "      <td>NaN</td>\n",
       "      <td>139</td>\n",
       "      <td>NaN</td>\n",
       "      <td>2016-09-16 11:13:20</td>\n",
       "      <td>RussBot</td>\n",
       "      <td>NaN</td>\n",
       "      <td>0</td>\n",
       "      <td>2016</td>\n",
       "      <td>9</td>\n",
       "      <td>52.0</td>\n",
       "      <td>Nyuszika7H</td>\n",
       "      <td>2</td>\n",
       "      <td>48.0</td>\n",
       "      <td>4145202.0</td>\n",
       "    </tr>\n",
       "    <tr>\n",
       "      <th>3</th>\n",
       "      <td>False</td>\n",
       "      <td>NaN</td>\n",
       "      <td>NaN</td>\n",
       "      <td>2016-10-08</td>\n",
       "      <td>/r/The Donald</td>\n",
       "      <td>739695016</td>\n",
       "      <td>743240915</td>\n",
       "      <td>1aca16fca4e79cf715ce3970edebafaebec922a4</td>\n",
       "      <td>NaN</td>\n",
       "      <td>223</td>\n",
       "      <td>NaN</td>\n",
       "      <td>2016-10-08 18:38:31</td>\n",
       "      <td>Paine Ellsworth</td>\n",
       "      <td>NaN</td>\n",
       "      <td>0</td>\n",
       "      <td>2016</td>\n",
       "      <td>10</td>\n",
       "      <td>84.0</td>\n",
       "      <td>RussBot</td>\n",
       "      <td>3</td>\n",
       "      <td>70.0</td>\n",
       "      <td>1927511.0</td>\n",
       "    </tr>\n",
       "    <tr>\n",
       "      <th>4</th>\n",
       "      <td>False</td>\n",
       "      <td>NaN</td>\n",
       "      <td>NaN</td>\n",
       "      <td>2016-11-24</td>\n",
       "      <td>/r/The Donald</td>\n",
       "      <td>743240915</td>\n",
       "      <td>751319407</td>\n",
       "      <td>b7e9a0ae82d2f2337c03c10adbebcee2e7b0c3f2</td>\n",
       "      <td>NaN</td>\n",
       "      <td>5309</td>\n",
       "      <td>NaN</td>\n",
       "      <td>2016-11-24 21:31:53</td>\n",
       "      <td>Yoshiman6464</td>\n",
       "      <td>NaN</td>\n",
       "      <td>0</td>\n",
       "      <td>2016</td>\n",
       "      <td>11</td>\n",
       "      <td>5086.0</td>\n",
       "      <td>Paine Ellsworth</td>\n",
       "      <td>4</td>\n",
       "      <td>117.0</td>\n",
       "      <td>4071202.0</td>\n",
       "    </tr>\n",
       "  </tbody>\n",
       "</table>\n",
       "</div>"
      ],
      "text/plain": [
       "    anon comment commenthidden       date           page   parentid  \\\n",
       "0  False     NaN           NaN 2016-07-30  /r/The Donald          0   \n",
       "1  False     NaN           NaN 2016-07-30  /r/The Donald  732214190   \n",
       "2  False     NaN           NaN 2016-09-16  /r/The Donald  732214592   \n",
       "3  False     NaN           NaN 2016-10-08  /r/The Donald  739695016   \n",
       "4  False     NaN           NaN 2016-11-24  /r/The Donald  743240915   \n",
       "\n",
       "       revid                                      sha1 sha1hidden  size  \\\n",
       "0  732214190  4e740bd73bb2774f20bd07e47c82aecef915d2db        NaN    42   \n",
       "1  732214592  2f0d2e463baf26803e343652b3f9bf5cfed3d552        NaN    87   \n",
       "2  739695016  399fd716f6bea87cfe8d4378d8bca16f4fcfece3        NaN   139   \n",
       "3  743240915  1aca16fca4e79cf715ce3970edebafaebec922a4        NaN   223   \n",
       "4  751319407  b7e9a0ae82d2f2337c03c10adbebcee2e7b0c3f2        NaN  5309   \n",
       "\n",
       "  suppressed           timestamp             user userhidden userid  year  \\\n",
       "0        NaN 2016-07-30 11:42:31       Nyuszika7H        NaN      0  2016   \n",
       "1        NaN 2016-07-30 11:46:38       Nyuszika7H        NaN      0  2016   \n",
       "2        NaN 2016-09-16 11:13:20          RussBot        NaN      0  2016   \n",
       "3        NaN 2016-10-08 18:38:31  Paine Ellsworth        NaN      0  2016   \n",
       "4        NaN 2016-11-24 21:31:53     Yoshiman6464        NaN      0  2016   \n",
       "\n",
       "   month  size_diff        prev_user  rev_index    age    latency  \n",
       "0      7        NaN              NaN          0    0.0        NaN  \n",
       "1      7       45.0       Nyuszika7H          1    0.0      247.0  \n",
       "2      9       52.0       Nyuszika7H          2   48.0  4145202.0  \n",
       "3     10       84.0          RussBot          3   70.0  1927511.0  \n",
       "4     11     5086.0  Paine Ellsworth          4  117.0  4071202.0  "
      ]
     },
     "execution_count": 4,
     "metadata": {},
     "output_type": "execute_result"
    }
   ],
   "source": [
    "all_clinton_rev_df = pd.read_csv('all_clinton_page_revisions.csv',encoding='utf8',parse_dates=['date','timestamp'],\n",
    "                         dtype={'parentid':str,'revid':str,'userid':str},low_memory=False)\n",
    "all_trump_rev_df = pd.read_csv('all_trump_page_revisions.csv',encoding='utf8',parse_dates=['date','timestamp'],\n",
    "                         dtype={'parentid':str,'revid':str,'userid':str},low_memory=False)\n",
    "\n",
    "all_trump_rev_df.head()"
   ]
  },
  {
   "cell_type": "markdown",
   "metadata": {},
   "source": [
    "How many total revisions?"
   ]
  },
  {
   "cell_type": "code",
   "execution_count": 5,
   "metadata": {},
   "outputs": [
    {
     "name": "stdout",
     "output_type": "stream",
     "text": [
      "There are 375,315 revisions in the \"Hillary Clinton\" dataset\n",
      "There are 366,268 revisions pages in the \"Donald Trump\" dataset\n"
     ]
    }
   ],
   "source": [
    "_clinton_total_rev_count = len(all_clinton_rev_df)\n",
    "_trump_total_rev_count = len(all_trump_rev_df)\n",
    "\n",
    "print(\"There are {0:,} revisions in the \\\"Hillary Clinton\\\" dataset\".format(_clinton_total_rev_count))\n",
    "print(\"There are {0:,} revisions pages in the \\\"Donald Trump\\\" dataset\".format(_trump_total_rev_count))"
   ]
  },
  {
   "cell_type": "markdown",
   "metadata": {},
   "source": [
    "How many during the campaign?"
   ]
  },
  {
   "cell_type": "code",
   "execution_count": 6,
   "metadata": {},
   "outputs": [
    {
     "name": "stdout",
     "output_type": "stream",
     "text": [
      "There are 57,944 revisions (15.4%) in the \"Hillary Clinton\" dataset during the campaign\n",
      "There are 77,110 revisions (21.1%) pages in the \"Donald Trump\" dataset during the campaign\n"
     ]
    }
   ],
   "source": [
    "_clinton_campaign_rev_count = len(all_clinton_rev_df[(all_clinton_rev_df['date'] > pd.Timestamp('2015-01-01',freq='D')) & (all_clinton_rev_df['date'] < pd.Timestamp('2016-11-08',freq='D'))])\n",
    "_trump_campaign_rev_count = len(all_trump_rev_df[(all_trump_rev_df['date'] > pd.Timestamp('2015-01-01',freq='D')) & (all_trump_rev_df['date'] < pd.Timestamp('2016-11-08',freq='D'))])\n",
    "\n",
    "print(\"There are {0:,} revisions ({1:.1%}) in the \\\"Hillary Clinton\\\" dataset during the campaign\".format(_clinton_campaign_rev_count,_clinton_campaign_rev_count/_clinton_total_rev_count))\n",
    "print(\"There are {0:,} revisions ({1:.1%}) pages in the \\\"Donald Trump\\\" dataset during the campaign\".format(_trump_campaign_rev_count,_trump_campaign_rev_count/_trump_total_rev_count))"
   ]
  },
  {
   "cell_type": "markdown",
   "metadata": {},
   "source": [
    "How many unique users?"
   ]
  },
  {
   "cell_type": "code",
   "execution_count": 7,
   "metadata": {},
   "outputs": [
    {
     "name": "stdout",
     "output_type": "stream",
     "text": [
      "There are 93,012 unique users in the \"Hillary Clinton\" dataset\n",
      "There are 67,643 unique users in the \"Donald Trump\" dataset\n"
     ]
    }
   ],
   "source": [
    "_clinton_total_user_count = len(all_clinton_rev_df['user'].unique())\n",
    "_trump_total_user_count = len(all_trump_rev_df['user'].unique())\n",
    "\n",
    "print(\"There are {0:,} unique users in the \\\"Hillary Clinton\\\" dataset\".format(_clinton_total_user_count))\n",
    "print(\"There are {0:,} unique users in the \\\"Donald Trump\\\" dataset\".format(_trump_total_user_count))"
   ]
  },
  {
   "cell_type": "markdown",
   "metadata": {},
   "source": [
    "How many articles are there for each candidate?"
   ]
  },
  {
   "cell_type": "code",
   "execution_count": 8,
   "metadata": {},
   "outputs": [
    {
     "name": "stdout",
     "output_type": "stream",
     "text": [
      "There are 1,336 unique pages in the \"Hillary Clinton\" dataset\n",
      "There are 949 unique pages in the \"Donald Trump\" dataset\n"
     ]
    }
   ],
   "source": [
    "print(\"There are {0:,} unique pages in the \\\"Hillary Clinton\\\" dataset\".format(len(all_clinton_rev_df['page'].unique())))\n",
    "print(\"There are {0:,} unique pages in the \\\"Donald Trump\\\" dataset\".format(len(all_trump_rev_df['page'].unique())))"
   ]
  },
  {
   "cell_type": "markdown",
   "metadata": {},
   "source": [
    "Subset to only revision on the Donald Trump and Hillary Clinton articles."
   ]
  },
  {
   "cell_type": "code",
   "execution_count": 9,
   "metadata": {},
   "outputs": [
    {
     "name": "stdout",
     "output_type": "stream",
     "text": [
      "There are 3,237 revisions on the \"Hillary Clinton\" article over the year preceding and following the election\n",
      "There are 15,908 revisions on the \"Donald Trump\" article over the year preceding and following the election\n",
      "\n"
     ]
    }
   ],
   "source": [
    "clinton_rev_df = all_clinton_rev_df[all_clinton_rev_df['page'] == \"Hillary Clinton\"]\n",
    "trump_rev_df = all_trump_rev_df[all_trump_rev_df['page'] == \"Donald Trump\"]\n",
    "\n",
    "clinton_campaign_rev_df = clinton_rev_df[(clinton_rev_df['date'] > start) & (clinton_rev_df['date'] < stop)]\n",
    "trump_campaign_rev_df = trump_rev_df[(trump_rev_df['date'] > start) & (trump_rev_df['date'] < stop)]\n",
    "\n",
    "print(\"There are {0:,} revisions on the \\\"Hillary Clinton\\\" article over the year preceding and following the election\".format(len(clinton_campaign_rev_df)))\n",
    "print(\"There are {0:,} revisions on the \\\"Donald Trump\\\" article over the year preceding and following the election\\n\".format(len(trump_campaign_rev_df)))"
   ]
  },
  {
   "cell_type": "markdown",
   "metadata": {},
   "source": [
    "Unique users?"
   ]
  },
  {
   "cell_type": "code",
   "execution_count": 10,
   "metadata": {},
   "outputs": [
    {
     "name": "stdout",
     "output_type": "stream",
     "text": [
      "There are 4,354 unique users on the \"Hillary Clinton\" article\n",
      "There are 5,452 unique users on the \"Donald Trump\" article\n",
      "\n",
      "There are 823 unique users on the \"Hillary Clinton\" article over the year preceding and following the election\n",
      "There are 2,195 unique users on the \"Donald Trump\" article over the year preceding and following the election\n"
     ]
    }
   ],
   "source": [
    "print(\"There are {0:,} unique users on the \\\"Hillary Clinton\\\" article\".format(len(clinton_rev_df['user'].unique())))\n",
    "print(\"There are {0:,} unique users on the \\\"Donald Trump\\\" article\\n\".format(len(trump_rev_df['user'].unique())))\n",
    "\n",
    "print(\"There are {0:,} unique users on the \\\"Hillary Clinton\\\" article over the year preceding and following the election\".format(len(clinton_campaign_rev_df['user'].unique())))\n",
    "print(\"There are {0:,} unique users on the \\\"Donald Trump\\\" article over the year preceding and following the election\".format(len(trump_campaign_rev_df['user'].unique())))\n"
   ]
  },
  {
   "cell_type": "markdown",
   "metadata": {},
   "source": [
    "Load the median daily revisions."
   ]
  },
  {
   "cell_type": "code",
   "execution_count": 11,
   "metadata": {},
   "outputs": [
    {
     "data": {
      "text/plain": [
       "year  month\n",
       "2004  1         2377232\n",
       "      2         2924290\n",
       "      3         3017884\n",
       "      4         3415538\n",
       "      5         3837531\n",
       "      6         4995598\n",
       "      8         5723197\n",
       "      9         6353766\n",
       "      10        7060579\n",
       "      11        7950512\n",
       "      12        8968175\n",
       "2005  1         9942849\n",
       "      2        10772183\n",
       "Name: revid, dtype: object"
      ]
     },
     "execution_count": 11,
     "metadata": {},
     "output_type": "execute_result"
    }
   ],
   "source": [
    "with open('median_trump_revids.json','r') as f:\n",
    "    median_trump_revids = json.load(f)\n",
    "\n",
    "median_trump_revid_s = pd.Series(median_trump_revids)\n",
    "median_trump_revid_s = median_trump_revid_s.reset_index().rename(columns = {'index':'date',0:'revid'})\n",
    "median_trump_revid_s['date'] = pd.to_datetime(median_trump_revid_s['date'])\n",
    "median_trump_revid_s['year'] = median_trump_revid_s['date'].apply(lambda x:x.year)\n",
    "median_trump_revid_s['month'] = median_trump_revid_s['date'].apply(lambda x:x.month)\n",
    "\n",
    "# https://stackoverflow.com/questions/15705630/python-getting-the-row-which-has-the-max-value-in-groups-using-groupby\n",
    "annual_revids = median_trump_revid_s.loc[median_trump_revid_s.groupby(['year','month'])['date'].idxmax()].set_index(['year','month'])['revid']\n",
    "annual_revids.head(13)"
   ]
  },
  {
   "cell_type": "markdown",
   "metadata": {},
   "source": [
    "### Pageviews"
   ]
  },
  {
   "cell_type": "code",
   "execution_count": 12,
   "metadata": {},
   "outputs": [],
   "source": [
    "all_clinton_pv_df = pd.read_csv('all_clinton_pageviews_redirects.csv',encoding='utf8',parse_dates = [0],index_col=[0,1],header=[0,1],skiprows=[2], low_memory=False).sort_index()\n",
    "all_trump_pv_df = pd.read_csv('all_trump_pageviews_redirects.csv',encoding='utf8',parse_dates = [0],index_col=[0,1],header=[0,1],skiprows=[2], low_memory=False).sort_index()\n",
    "\n",
    "def cleanup_pv_df(pv_df):\n",
    "    pv_df = pv_df.unstack(0).fillna(0)\n",
    "    pv_df.index = pd.to_datetime(pv_df.index)\n",
    "    pv_df = pv_df.reindex(pd.date_range('2015-07-01','2017-11-09'))\n",
    "    pv_df = pv_df.stack(-1)\n",
    "    pv_df = pv_df.swaplevel().sort_index(0)\n",
    "    return pv_df\n",
    "\n",
    "cleaned_clinton_pv_df = cleanup_pv_df(all_clinton_pv_df)\n",
    "cleaned_trump_pv_df = cleanup_pv_df(all_trump_pv_df)"
   ]
  },
  {
   "cell_type": "code",
   "execution_count": 13,
   "metadata": {},
   "outputs": [
    {
     "data": {
      "text/plain": [
       "2015-07-01    13624.0\n",
       "2015-07-02    12686.0\n",
       "2015-07-03    11251.0\n",
       "2015-07-04    10373.0\n",
       "2015-07-05    11907.0\n",
       "Freq: D, Name: (all-agents, all-access), dtype: float64"
      ]
     },
     "execution_count": 13,
     "metadata": {},
     "output_type": "execute_result"
    }
   ],
   "source": [
    "cleaned_clinton_pv_df.loc['Hillary Clinton',('all-agents','all-access')].head()"
   ]
  },
  {
   "cell_type": "code",
   "execution_count": 14,
   "metadata": {},
   "outputs": [
    {
     "data": {
      "text/plain": [
       "2015-07-01    89519.0\n",
       "2015-07-02    90804.0\n",
       "2015-07-03    60450.0\n",
       "2015-07-04    47489.0\n",
       "2015-07-05    45924.0\n",
       "Freq: D, Name: (all-agents, all-access), dtype: float64"
      ]
     },
     "execution_count": 14,
     "metadata": {},
     "output_type": "execute_result"
    }
   ],
   "source": [
    "cleaned_trump_pv_df.loc['Donald Trump',('all-agents','all-access')].head()"
   ]
  },
  {
   "cell_type": "markdown",
   "metadata": {},
   "source": [
    "### Log events"
   ]
  },
  {
   "cell_type": "code",
   "execution_count": 15,
   "metadata": {},
   "outputs": [
    {
     "data": {
      "text/html": [
       "<div>\n",
       "<style scoped>\n",
       "    .dataframe tbody tr th:only-of-type {\n",
       "        vertical-align: middle;\n",
       "    }\n",
       "\n",
       "    .dataframe tbody tr th {\n",
       "        vertical-align: top;\n",
       "    }\n",
       "\n",
       "    .dataframe thead th {\n",
       "        text-align: right;\n",
       "    }\n",
       "</style>\n",
       "<table border=\"1\" class=\"dataframe\">\n",
       "  <thead>\n",
       "    <tr style=\"text-align: right;\">\n",
       "      <th></th>\n",
       "      <th>action</th>\n",
       "      <th>comment</th>\n",
       "      <th>commenthidden</th>\n",
       "      <th>date</th>\n",
       "      <th>logid</th>\n",
       "      <th>logpage</th>\n",
       "      <th>ns</th>\n",
       "      <th>page</th>\n",
       "      <th>pageid</th>\n",
       "      <th>tags</th>\n",
       "      <th>timestamp</th>\n",
       "      <th>title</th>\n",
       "      <th>type</th>\n",
       "      <th>user</th>\n",
       "      <th>userid</th>\n",
       "      <th>redirect_page</th>\n",
       "    </tr>\n",
       "  </thead>\n",
       "  <tbody>\n",
       "    <tr>\n",
       "      <th>119</th>\n",
       "      <td>patrol</td>\n",
       "      <td>NaN</td>\n",
       "      <td>NaN</td>\n",
       "      <td>2015-04-30</td>\n",
       "      <td>65912051.0</td>\n",
       "      <td>46569183.0</td>\n",
       "      <td>0.0</td>\n",
       "      <td>Hilary Diane Rodham Clinton</td>\n",
       "      <td>46569183.0</td>\n",
       "      <td>[]</td>\n",
       "      <td>2015-04-30 11:17:08</td>\n",
       "      <td>Hilary Diane Rodham Clinton</td>\n",
       "      <td>patrol</td>\n",
       "      <td>Rich Farmbrough</td>\n",
       "      <td>82835</td>\n",
       "      <td>Hillary Clinton</td>\n",
       "    </tr>\n",
       "    <tr>\n",
       "      <th>161</th>\n",
       "      <td>patrol</td>\n",
       "      <td>NaN</td>\n",
       "      <td>NaN</td>\n",
       "      <td>2015-04-30</td>\n",
       "      <td>65914631.0</td>\n",
       "      <td>46569502.0</td>\n",
       "      <td>0.0</td>\n",
       "      <td>Clinton, Hilary</td>\n",
       "      <td>46569502.0</td>\n",
       "      <td>[]</td>\n",
       "      <td>2015-04-30 12:15:41</td>\n",
       "      <td>Clinton, Hilary</td>\n",
       "      <td>patrol</td>\n",
       "      <td>Rich Farmbrough</td>\n",
       "      <td>82835</td>\n",
       "      <td>Hillary Clinton</td>\n",
       "    </tr>\n",
       "    <tr>\n",
       "      <th>276</th>\n",
       "      <td>reviewed</td>\n",
       "      <td>NaN</td>\n",
       "      <td>NaN</td>\n",
       "      <td>2016-10-19</td>\n",
       "      <td>78154734.0</td>\n",
       "      <td>24199473.0</td>\n",
       "      <td>0.0</td>\n",
       "      <td>H. Clinton</td>\n",
       "      <td>24199473.0</td>\n",
       "      <td>[]</td>\n",
       "      <td>2016-10-19 07:39:19</td>\n",
       "      <td>H. Clinton</td>\n",
       "      <td>pagetriage-curation</td>\n",
       "      <td>Ymblanter</td>\n",
       "      <td>14596827</td>\n",
       "      <td>Hillary Clinton</td>\n",
       "    </tr>\n",
       "    <tr>\n",
       "      <th>898</th>\n",
       "      <td>move</td>\n",
       "      <td>shorter</td>\n",
       "      <td>NaN</td>\n",
       "      <td>2006-06-02</td>\n",
       "      <td>2999042.0</td>\n",
       "      <td>0.0</td>\n",
       "      <td>0.0</td>\n",
       "      <td>Controversies surrounding Hillary Rodham Clinton</td>\n",
       "      <td>5398389.0</td>\n",
       "      <td>[]</td>\n",
       "      <td>2006-06-02 22:29:00</td>\n",
       "      <td>Controversies surrounding Hillary Rodham Clinton</td>\n",
       "      <td>move</td>\n",
       "      <td>Savidan</td>\n",
       "      <td>677067</td>\n",
       "      <td>Hillary Clinton</td>\n",
       "    </tr>\n",
       "    <tr>\n",
       "      <th>1134</th>\n",
       "      <td>reviewed</td>\n",
       "      <td>NaN</td>\n",
       "      <td>NaN</td>\n",
       "      <td>2016-10-17</td>\n",
       "      <td>78107670.0</td>\n",
       "      <td>14178116.0</td>\n",
       "      <td>0.0</td>\n",
       "      <td>Hillary Diane</td>\n",
       "      <td>14178116.0</td>\n",
       "      <td>[]</td>\n",
       "      <td>2016-10-17 08:10:16</td>\n",
       "      <td>Hillary Diane</td>\n",
       "      <td>pagetriage-curation</td>\n",
       "      <td>Ymblanter</td>\n",
       "      <td>14596827</td>\n",
       "      <td>Hillary Clinton</td>\n",
       "    </tr>\n",
       "  </tbody>\n",
       "</table>\n",
       "</div>"
      ],
      "text/plain": [
       "        action  comment commenthidden       date       logid     logpage   ns  \\\n",
       "119     patrol      NaN           NaN 2015-04-30  65912051.0  46569183.0  0.0   \n",
       "161     patrol      NaN           NaN 2015-04-30  65914631.0  46569502.0  0.0   \n",
       "276   reviewed      NaN           NaN 2016-10-19  78154734.0  24199473.0  0.0   \n",
       "898       move  shorter           NaN 2006-06-02   2999042.0         0.0  0.0   \n",
       "1134  reviewed      NaN           NaN 2016-10-17  78107670.0  14178116.0  0.0   \n",
       "\n",
       "                                                  page      pageid tags  \\\n",
       "119                        Hilary Diane Rodham Clinton  46569183.0   []   \n",
       "161                                    Clinton, Hilary  46569502.0   []   \n",
       "276                                         H. Clinton  24199473.0   []   \n",
       "898   Controversies surrounding Hillary Rodham Clinton   5398389.0   []   \n",
       "1134                                     Hillary Diane  14178116.0   []   \n",
       "\n",
       "               timestamp                                             title  \\\n",
       "119  2015-04-30 11:17:08                       Hilary Diane Rodham Clinton   \n",
       "161  2015-04-30 12:15:41                                   Clinton, Hilary   \n",
       "276  2016-10-19 07:39:19                                        H. Clinton   \n",
       "898  2006-06-02 22:29:00  Controversies surrounding Hillary Rodham Clinton   \n",
       "1134 2016-10-17 08:10:16                                     Hillary Diane   \n",
       "\n",
       "                     type             user    userid    redirect_page  \n",
       "119                patrol  Rich Farmbrough     82835  Hillary Clinton  \n",
       "161                patrol  Rich Farmbrough     82835  Hillary Clinton  \n",
       "276   pagetriage-curation        Ymblanter  14596827  Hillary Clinton  \n",
       "898                  move          Savidan    677067  Hillary Clinton  \n",
       "1134  pagetriage-curation        Ymblanter  14596827  Hillary Clinton  "
      ]
     },
     "execution_count": 15,
     "metadata": {},
     "output_type": "execute_result"
    }
   ],
   "source": [
    "all_clinton_le_df = pd.read_csv('all_clinton_logevents.csv',low_memory=False,parse_dates=['date','timestamp'])\n",
    "all_trump_le_df = pd.read_csv('all_trump_logevents.csv',low_memory=False,parse_dates=['date','timestamp'])\n",
    "\n",
    "clinton_article_le_df = all_clinton_le_df[all_clinton_le_df['redirect_page'] == \"Hillary Clinton\"]\n",
    "trump_article_le_df = all_trump_le_df[all_trump_le_df['redirect_page'] == \"Donald Trump\"]\n",
    "\n",
    "clinton_article_le_df.head()"
   ]
  },
  {
   "cell_type": "markdown",
   "metadata": {},
   "source": [
    "### Content"
   ]
  },
  {
   "cell_type": "code",
   "execution_count": null,
   "metadata": {},
   "outputs": [],
   "source": [
    "monthly_content_d = {}\n",
    "\n",
    "for (_year,_month),_revid in annual_revids.items():\n",
    "    with open(_dir+\"Data/Content/{0}.json\".format(_revid),'r') as f:\n",
    "        _json = json.load(f)\n",
    "        monthly_content_d[(str(_year),str(_month))] = _json['content']"
   ]
  },
  {
   "cell_type": "markdown",
   "metadata": {},
   "source": [
    "### Links"
   ]
  },
  {
   "cell_type": "code",
   "execution_count": 16,
   "metadata": {},
   "outputs": [
    {
     "ename": "FileNotFoundError",
     "evalue": "[WinError 3] The system cannot find the path specified: 'E:/Dropbox/Workspace/Wikipedia_Trump/Data/Links'",
     "output_type": "error",
     "traceback": [
      "\u001b[1;31m---------------------------------------------------------------------------\u001b[0m",
      "\u001b[1;31mFileNotFoundError\u001b[0m                         Traceback (most recent call last)",
      "\u001b[1;32m<ipython-input-16-ed23c5c50e01>\u001b[0m in \u001b[0;36m<module>\u001b[1;34m\u001b[0m\n\u001b[1;32m----> 1\u001b[1;33m \u001b[0mlink_files\u001b[0m \u001b[1;33m=\u001b[0m \u001b[0mos\u001b[0m\u001b[1;33m.\u001b[0m\u001b[0mlistdir\u001b[0m\u001b[1;33m(\u001b[0m\u001b[0m_dir\u001b[0m\u001b[1;33m+\u001b[0m\u001b[1;34m'Data/Links'\u001b[0m\u001b[1;33m)\u001b[0m\u001b[1;33m\u001b[0m\u001b[1;33m\u001b[0m\u001b[0m\n\u001b[0m\u001b[0;32m      2\u001b[0m \u001b[0mprint\u001b[0m\u001b[1;33m(\u001b[0m\u001b[1;34m\"There are {0:,} link files.\"\u001b[0m\u001b[1;33m.\u001b[0m\u001b[0mformat\u001b[0m\u001b[1;33m(\u001b[0m\u001b[0mlen\u001b[0m\u001b[1;33m(\u001b[0m\u001b[0mlink_files\u001b[0m\u001b[1;33m)\u001b[0m\u001b[1;33m)\u001b[0m\u001b[1;33m)\u001b[0m\u001b[1;33m\u001b[0m\u001b[1;33m\u001b[0m\u001b[0m\n\u001b[0;32m      3\u001b[0m \u001b[1;33m\u001b[0m\u001b[0m\n\u001b[0;32m      4\u001b[0m \u001b[0mlink_file_d\u001b[0m \u001b[1;33m=\u001b[0m \u001b[1;33m{\u001b[0m\u001b[1;33m}\u001b[0m\u001b[1;33m\u001b[0m\u001b[1;33m\u001b[0m\u001b[0m\n\u001b[0;32m      5\u001b[0m \u001b[1;33m\u001b[0m\u001b[0m\n",
      "\u001b[1;31mFileNotFoundError\u001b[0m: [WinError 3] The system cannot find the path specified: 'E:/Dropbox/Workspace/Wikipedia_Trump/Data/Links'"
     ]
    }
   ],
   "source": [
    "link_files = os.listdir(_dir+'Data/Links')\n",
    "print(\"There are {0:,} link files.\".format(len(link_files)))\n",
    "\n",
    "link_file_d = {}\n",
    "\n",
    "for lf in link_files:\n",
    "    revid = lf[:-5]\n",
    "    with open(_dir+'Data/Links/'+lf,'r') as f:\n",
    "        link_file_d[revid] = json.load(f)"
   ]
  },
  {
   "cell_type": "markdown",
   "metadata": {},
   "source": [
    "### 538 chances"
   ]
  },
  {
   "cell_type": "code",
   "execution_count": 17,
   "metadata": {},
   "outputs": [],
   "source": [
    "with open('chance_538_raw_d.txt','r') as f:\n",
    "    chance_538_d = f.readlines()[0]\n",
    "\n",
    "with open('chance_538_raw_r.txt','r') as f:\n",
    "    chance_538_r = f.readlines()[0]\n",
    "\n",
    "soup_d = BeautifulSoup(chance_538_d,'lxml')  \n",
    "soup_r = BeautifulSoup(chance_538_r,'lxml')"
   ]
  },
  {
   "cell_type": "code",
   "execution_count": 18,
   "metadata": {},
   "outputs": [
    {
     "data": {
      "text/plain": [
       "(0, 100)"
      ]
     },
     "execution_count": 18,
     "metadata": {},
     "output_type": "execute_result"
    },
    {
     "data": {
      "image/png": "[encoded data removed]",
      "text/plain": [
       "<Figure size 432x288 with 1 Axes>"
      ]
     },
     "metadata": {
      "needs_background": "light"
     },
     "output_type": "display_data"
    }
   ],
   "source": [
    "fte_clinton = pd.Series({np.float64(i.split('L')[1]):np.float64(i.split('L')[0])*(81.1/150.5) for i in soup_d.html.body.path['d'].split(',') if len(i.split('L')) > 1}).sort_index()\n",
    "fte_trump = pd.Series({np.float64(i.split('L')[1]):np.float64(i.split('L')[0])*(81.1/150.5) for i in soup_r.html.body.path['d'].split(',') if len(i.split('L')) > 1}).sort_index()\n",
    "\n",
    "fte_clinton.index = pd.date_range('2016-06-09','2016-11-08')\n",
    "fte_trump.index = pd.date_range('2016-06-09','2016-11-08')\n",
    "\n",
    "fte_df = pd.DataFrame({'Trump 538':fte_trump,'Clinton 538':fte_clinton})\n",
    "fte_df.to_csv('fivethirtyeight_likelihood.csv')\n",
    "\n",
    "ax = fte_df.plot(color=['b','r'])\n",
    "ax.set_ylim((0,100))"
   ]
  },
  {
   "cell_type": "markdown",
   "metadata": {},
   "source": [
    "### User contributions"
   ]
  },
  {
   "cell_type": "code",
   "execution_count": 19,
   "metadata": {},
   "outputs": [],
   "source": [
    "with open('active_users_clinton.json','r') as f:\n",
    "    clinton_active_user_list = json.load(f)\n",
    "    \n",
    "with open('active_users_trump.json','r') as f:\n",
    "    trump_active_user_list = json.load(f)\n",
    "    \n",
    "with open('active_users_both.json','r') as f:\n",
    "    both_active_user_list = json.load(f)\n",
    "    \n",
    "with open('userinfo_active_users_both.json','r') as f:\n",
    "    both_active_userinfo = json.load(f)"
   ]
  },
  {
   "cell_type": "code",
   "execution_count": 20,
   "metadata": {},
   "outputs": [
    {
     "name": "stderr",
     "output_type": "stream",
     "text": [
      "C:\\ProgramData\\Anaconda3\\lib\\site-packages\\IPython\\core\\interactiveshell.py:3058: DtypeWarning: Columns (1,11,12) have mixed types. Specify dtype option on import or set low_memory=False.\n",
      "  interactivity=interactivity, compiler=compiler, result=result)\n"
     ]
    }
   ],
   "source": [
    "all_user_contribs = pd.read_csv('active_user_contribs.csv',encoding='utf8',parse_dates=['timestamp','date'])"
   ]
  },
  {
   "cell_type": "markdown",
   "metadata": {},
   "source": [
    "# Basic descriptives\n",
    "\n",
    "### Revisions"
   ]
  },
  {
   "cell_type": "code",
   "execution_count": 21,
   "metadata": {},
   "outputs": [],
   "source": [
    "daily_trump_revs = trump_rev_df.groupby('date').agg({'sha1':pd.Series.nunique,'size':np.median})\n",
    "daily_trump_revs = daily_trump_revs.reindex(index=pd.date_range(daily_trump_revs.index.min(),\n",
    "                                                                daily_trump_revs.index.max()))\n",
    "daily_trump_revs['sha1'].fillna(0,inplace=True)\n",
    "daily_trump_revs['size'].fillna(method='ffill',inplace=True)\n",
    "\n",
    "daily_clinton_revs = clinton_rev_df.groupby('date').agg({'sha1':pd.Series.nunique,'size':np.median})\n",
    "daily_clinton_revs = daily_clinton_revs.reindex(index=pd.date_range(daily_clinton_revs.index.min(),\n",
    "                                                                    daily_clinton_revs.index.max()))\n",
    "daily_clinton_revs['sha1'].fillna(0,inplace=True)\n",
    "daily_clinton_revs['size'].fillna(method='ffill',inplace=True)\n",
    "\n",
    "all_revs_min_ts = min(daily_trump_revs.index.min(),daily_clinton_revs.index.min())\n",
    "all_revs_max_ts = min(daily_trump_revs.index.max(),daily_clinton_revs.index.max())"
   ]
  },
  {
   "cell_type": "code",
   "execution_count": 22,
   "metadata": {},
   "outputs": [],
   "source": [
    "def ts_to_unix(ts):\n",
    "    return (ts - pd.Timestamp('1970-01-01'))/np.timedelta64(1,'D')\n",
    "\n",
    "def ts_frac(ts_val,ts_min = all_revs_min_ts, ts_max = all_revs_max_ts):\n",
    "    val_as_unix_int = ts_to_unix(ts_val)\n",
    "    min_as_unix_int = ts_to_unix(ts_min)\n",
    "    max_as_unix_int = ts_to_unix(ts_max)\n",
    "    return (val_as_unix_int - min_as_unix_int)/(max_as_unix_int - min_as_unix_int)"
   ]
  },
  {
   "cell_type": "code",
   "execution_count": 23,
   "metadata": {},
   "outputs": [
    {
     "data": {
      "image/png": "[encoded data removed]",
      "text/plain": [
       "<Figure size 1152x144 with 1 Axes>"
      ]
     },
     "metadata": {
      "needs_background": "light"
     },
     "output_type": "display_data"
    }
   ],
   "source": [
    "f,ax = plt.subplots(1,1,figsize=(16,2))\n",
    "\n",
    "daily_trump_revs.rolling(28).mean()['sha1'].plot(lw=3,ax=ax,color='r',legend=False)\n",
    "daily_clinton_revs.rolling(28).mean()['sha1'].plot(lw=3,ax=ax,color='b',legend=False)\n",
    "ax.set_ylim((0,80))\n",
    "ax.set_xlabel('Year')\n",
    "ax.set_ylabel('Revisions')\n",
    "\n",
    "# Endogenous Wikipedia growth\n",
    "ax.axhline(y=40,xmin=ts_frac(pd.Timestamp('2005-01-01')),xmax=ts_frac(pd.Timestamp('2008-07-01')),color='k',lw=3)\n",
    "ax.annotate(\"Endogenous Wikipedia growth\", xy=(ts_to_unix(pd.Timestamp('2005-01-01')), 34), va=\"center\", ha=\"left\")\n",
    "\n",
    "# Clinton as Senator\n",
    "ax.axhline(y=50,xmin=ts_frac(all_revs_min_ts),xmax=ts_frac(pd.Timestamp('2009-01-21')),color='b',lw=3)\n",
    "ax.annotate(\"Senate\", xy=(ts_to_unix(all_revs_min_ts), 55), va=\"center\", ha=\"left\", color='b')\n",
    "\n",
    "# Clinton 2008 campaign\n",
    "ax.axhline(y=55,xmin=ts_frac(pd.Timestamp('2007-01-20')),xmax=ts_frac(pd.Timestamp('2008-06-07')),color='b',lw=3)\n",
    "ax.annotate(\"2008 campaign\", xy=(ts_to_unix(pd.Timestamp('2007-01-20')), 60), va=\"center\", ha=\"left\", color='b')\n",
    "\n",
    "# Clinton as SoS\n",
    "ax.axhline(y=55,xmin=ts_frac(pd.Timestamp('2009-01-21')),xmax=ts_frac(pd.Timestamp('2013-02-01')),color='b',lw=3)\n",
    "ax.annotate(\"Secretary of State\", xy=(ts_to_unix(pd.Timestamp('2009-01-21')), 60), va=\"center\", ha=\"left\", color='b')\n",
    "\n",
    "# Trump on Apprentice\n",
    "ax.axhline(y=65,xmin=ts_frac(pd.Timestamp('2004-01-08')),xmax=ts_frac(pd.Timestamp('2010-12-09')),color='r',lw=3)\n",
    "ax.annotate(\"The Apprentice\", xy=(ts_to_unix(pd.Timestamp('2004-01-08')), 70), va=\"center\", ha=\"left\", color='r')\n",
    "\n",
    "# Trump Birther controversy\n",
    "ax.axhline(y=70,xmin=ts_frac(pd.Timestamp('2011-01-01')),xmax=ts_frac(pd.Timestamp('2011-09-01')),color='r',lw=3)\n",
    "ax.annotate(\"Birther controversy\", xy=(ts_to_unix(pd.Timestamp('2011-01-01')), 75), va=\"center\", ha=\"left\", color='r')\n",
    "\n",
    "# Presidential campaign\n",
    "ax.axhline(y=55,xmin=ts_frac(pd.Timestamp('2015-07-01')),xmax=ts_frac(pd.Timestamp('2016-11-08')),color='k',lw=3)\n",
    "ax.annotate(\"2016 campaign\", xy=(ts_to_unix(pd.Timestamp('2015-07-01')), 60), va=\"center\", ha=\"left\")\n",
    "\n",
    "# Presidential administration\n",
    "ax.axhline(y=65,xmin=ts_frac(pd.Timestamp('2017-01-20')),xmax=ts_frac(all_revs_max_ts),color='r',lw=3)\n",
    "ax.annotate(\"Administration\", xy=(ts_to_unix(pd.Timestamp('2017-01-20')), 70), va=\"center\", ha=\"left\", color='r')\n",
    "\n",
    "plt.tight_layout()\n",
    "plt.savefig('article_revisions_max.pdf')\n",
    "\n",
    "#ax.axvspan(pd.Timestamp('2001-01-03'),pd.Timestamp('2009-01-21'),color='b',alpha=.1) # Clinton's Senate tenure\n",
    "#ax.axvspan(pd.Timestamp('2009-01-21'),pd.Timestamp('2013-02-01'),color='b',alpha=.1) # Clinton's SoS tenure\n",
    "#ax.axvspan(pd.Timestamp('2011-01-01'),pd.Timestamp('2011-09-01'),color='r',alpha=.1) # Trump's Birther controversy\n",
    "#ax.axvspan(pd.Timestamp('2015-07-01'),pd.Timestamp('2016-12-08'),color='k',alpha=.1) # 2016 presidential campaign\n",
    "#ax.axvspan(pd.Timestamp('2017-02-26'),pd.Timestamp('2017-11-29'),color='r',alpha=.1) # Presidential administration"
   ]
  },
  {
   "cell_type": "code",
   "execution_count": 24,
   "metadata": {},
   "outputs": [
    {
     "name": "stdout",
     "output_type": "stream",
     "text": [
      "Trump mean edits: 4.2 ± 9.63 (max. 155.0)\n",
      "Clinton mean edits: 2.2 ± 5.84 (max 172.0)\n",
      "ANOVA: 174.43 (p = 1.591e-39)\n",
      "\n",
      "Trump median edits: 1.000\n",
      "Clinton median edits: 0.000\n",
      "Kruskal-Wallis: 105.66 (p = 8.745e-25)\n"
     ]
    }
   ],
   "source": [
    "trump_daily_revs_max = daily_trump_revs.loc[:'2017-11-09']['sha1']\n",
    "clinton_daily_revs_max = daily_clinton_revs.loc[:'2017-11-09']['sha1']\n",
    "\n",
    "F,p_F = stats.f_oneway(trump_daily_revs_max.values,clinton_daily_revs_max.values)\n",
    "H,p_H = stats.kruskal(trump_daily_revs_max.values,clinton_daily_revs_max.values)\n",
    "\n",
    "print(\"Trump mean edits: {0:.1f} ± {1:.2f} (max. {2})\\nClinton mean edits: {3:.1f} ± {4:.2f} (max {5})\\nANOVA: {6:.2f} (p = {7:.3e})\\n\".format(trump_daily_revs_max.mean(),trump_daily_revs_max.std(),trump_daily_revs_max.max(),clinton_daily_revs_max.mean(),clinton_daily_revs_max.std(),clinton_daily_revs_max.max(),F,p_F))\n",
    "print(\"Trump median edits: {0:.3f}\\nClinton median edits: {1:.3f}\\nKruskal-Wallis: {2:.2f} (p = {3:.3e})\".format(trump_daily_revs_max.median(),clinton_daily_revs_max.median(),H,p_H))"
   ]
  },
  {
   "cell_type": "code",
   "execution_count": 35,
   "metadata": {},
   "outputs": [
    {
     "data": {
      "image/png": "[encoded data removed]",
      "text/plain": [
       "<Figure size 1152x144 with 1 Axes>"
      ]
     },
     "metadata": {
      "needs_background": "light"
     },
     "output_type": "display_data"
    }
   ],
   "source": [
    "f,ax = plt.subplots(1,1,figsize=(16,2))\n",
    "daily_trump_revs.loc[pd.Timestamp('2015-01-01'):]['sha1'].plot(lw=1,ax=ax,color='r',legend=False)\n",
    "daily_clinton_revs.loc[pd.Timestamp('2015-01-01'):]['sha1'].plot(lw=1,ax=ax,color='b',legend=False)\n",
    "ax.set_ylim((0,200))\n",
    "#ax.set_yscale('symlog')\n",
    "ax.set_xlabel('')\n",
    "ax.set_ylabel('Revisions')\n",
    "\n",
    "label_height = 175\n",
    "\n",
    "ax.axvline(pd.Timestamp('2015-04-12'),color='k',zorder=-1,lw=.5) # Clinton Announcement\n",
    "ax.annotate('A',xy=(ts_to_unix(pd.Timestamp('2015-04-14')),label_height),va=\"center\", ha=\"left\", color='k', size=12)\n",
    "\n",
    "ax.axvline(pd.Timestamp('2015-06-16'),color='k',zorder=-1,lw=.5) # Trump Announcement\n",
    "ax.annotate('B',xy=(ts_to_unix(pd.Timestamp('2015-06-18')),label_height),va=\"center\", ha=\"left\", color='k', size=12)\n",
    "\n",
    "ax.axvline(pd.Timestamp('2016-03-09'),color='k',zorder=-1,lw=.5) # Super Tuesdays\n",
    "ax.annotate('C',xy=(ts_to_unix(pd.Timestamp('2016-03-11')),label_height),va=\"center\", ha=\"left\", color='k', size=12)\n",
    "\n",
    "ax.axvline(pd.Timestamp('2016-04-29'),color='k',zorder=-1,lw=.5) # Acela primary\n",
    "ax.annotate('D',xy=(ts_to_unix(pd.Timestamp('2016-05-01')),label_height),va=\"center\", ha=\"left\", color='k', size=12)\n",
    "\n",
    "ax.axvline(pd.Timestamp('2016-05-27'),color='k',zorder=-1,lw=.5) # Trump presumtive nominee\n",
    "ax.annotate('E',xy=(ts_to_unix(pd.Timestamp('2016-05-29')),label_height),va=\"center\", ha=\"left\", color='k', size=12)\n",
    "\n",
    "ax.axvline(pd.Timestamp('2016-06-08'),color='k',zorder=-1,lw=.5) # Clinton presumptive nominee\n",
    "ax.annotate('F',xy=(ts_to_unix(pd.Timestamp('2016-06-10')),label_height),va=\"center\", ha=\"left\", color='k', size=12)\n",
    "\n",
    "ax.axvline(pd.Timestamp('2016-07-21'),color='k',zorder=-1,lw=.5) # Republican National Convention\n",
    "ax.annotate('G',xy=(ts_to_unix(pd.Timestamp('2016-07-08')),label_height),va=\"center\", ha=\"left\", color='k', size=12)\n",
    "\n",
    "ax.axvline(pd.Timestamp('2016-07-28'),color='k',zorder=-1,lw=.5) # Democratic National convention\n",
    "ax.annotate('H',xy=(ts_to_unix(pd.Timestamp('2016-07-30')),label_height),va=\"center\", ha=\"left\", color='k', size=12)\n",
    "\n",
    "ax.axvline(pd.Timestamp('2016-10-07'),color='k',zorder=-1,lw=.5) # Access Hollywood tape\n",
    "ax.annotate('I',xy=(ts_to_unix(pd.Timestamp('2016-10-09')),label_height),va=\"center\", ha=\"left\", color='k', size=12)\n",
    "\n",
    "ax.axvline(pd.Timestamp('2016-10-31'),color='k',zorder=-1,lw=.5) # User:Anthony22 edits\n",
    "ax.annotate('*',xy=(ts_to_unix(pd.Timestamp('2016-11-01')),label_height),va=\"center\", ha=\"left\", color='k', size=12)\n",
    "\n",
    "ax.axvline(pd.Timestamp('2016-11-08'),color='k',zorder=-1,lw=.5) # Election\n",
    "ax.annotate('J',xy=(ts_to_unix(pd.Timestamp('2016-11-10')),label_height),va=\"center\", ha=\"left\", color='k', size=12)\n",
    "\n",
    "ax.axvline(pd.Timestamp('2017-01-20'),color='k',zorder=-1,lw=.5) # Inauguration\n",
    "ax.annotate('K',xy=(ts_to_unix(pd.Timestamp('2017-01-22')),label_height),va=\"center\", ha=\"left\", color='k', size=12)\n",
    "\n",
    "ax.axvline(pd.Timestamp('2017-03-18'),color='k',zorder=-1,lw=.5) # User:Anthony22 edits\n",
    "ax.annotate('*',xy=(ts_to_unix(pd.Timestamp('2017-03-20')),label_height),va=\"center\", ha=\"left\", color='k', size=12)\n",
    "\n",
    "ax.axvline(pd.Timestamp('2017-04-18'),color='k',zorder=-1,lw=.5) # User:Anythingyouwant edits\n",
    "ax.annotate('*',xy=(ts_to_unix(pd.Timestamp('2017-04-20')),label_height),va=\"center\", ha=\"left\", color='k', size=12)\n",
    "\n",
    "plt.tight_layout()\n",
    "plt.savefig('article_revisions_campaign.pdf')"
   ]
  },
  {
   "cell_type": "code",
   "execution_count": 36,
   "metadata": {},
   "outputs": [
    {
     "name": "stdout",
     "output_type": "stream",
     "text": [
      "Trump mean edits: 16.5+/-15.90\n",
      "Clinton mean edits: 4.2+/-5.94\n",
      "ANOVA: 278.17 (p = 1.359e-55)\n",
      "\n",
      "Trump median edits: 12.000\n",
      "Clinton median edits: 2.000\n",
      "Kruskal-Wallis: 295.96 (p = 2.503e-66)\n"
     ]
    }
   ],
   "source": [
    "trump_daily_revs_campaign = daily_trump_revs.loc['2015-06-01':'2016-11-08']['sha1']\n",
    "clinton_daily_revs_campaign = daily_clinton_revs.loc['2015-06-01':'2016-11-08']['sha1']\n",
    "\n",
    "F,p_F = stats.f_oneway(trump_daily_revs_campaign.values,clinton_daily_revs_campaign.values)\n",
    "H,p_H = stats.kruskal(trump_daily_revs_campaign.values,clinton_daily_revs_campaign.values)\n",
    "\n",
    "print(\"Trump mean edits: {0:.1f}+/-{1:.2f}\\nClinton mean edits: {2:.1f}+/-{3:.2f}\\nANOVA: {4:.2f} (p = {5:.3e})\\n\".format(trump_daily_revs_campaign.mean(),trump_daily_revs_campaign.std(),clinton_daily_revs_campaign.mean(),clinton_daily_revs_campaign.std(),F,p_F))\n",
    "print(\"Trump median edits: {0:.3f}\\nClinton median edits: {1:.3f}\\nKruskal-Wallis: {2:.2f} (p = {3:.3e})\".format(trump_daily_revs_campaign.median(),clinton_daily_revs_campaign.median(),H,p_H))"
   ]
  },
  {
   "cell_type": "markdown",
   "metadata": {},
   "source": [
    "### Page size"
   ]
  },
  {
   "cell_type": "code",
   "execution_count": 37,
   "metadata": {},
   "outputs": [
    {
     "data": {
      "image/png": "[encoded data removed]",
      "text/plain": [
       "<Figure size 1152x144 with 1 Axes>"
      ]
     },
     "metadata": {
      "needs_background": "light"
     },
     "output_type": "display_data"
    }
   ],
   "source": [
    "f,ax = plt.subplots(1,1,figsize=(16,2))\n",
    "\n",
    "(daily_trump_revs.loc[:'2017-11-09','size']/1000).plot(lw=3,ax=ax,color='r',legend=False)\n",
    "(daily_clinton_revs.loc[:'2017-11-09','size']/1000).plot(lw=3,ax=ax,color='b',legend=False)\n",
    "ax.set_ylim((0,600))\n",
    "ax.set_xlabel('Year')\n",
    "ax.set_ylabel('Page size (KB)')\n",
    "\n",
    "# Endogenous Wikipedia growth\n",
    "ax.axhline(y=300,xmin=ts_frac(pd.Timestamp('2005-01-01')),xmax=ts_frac(pd.Timestamp('2008-07-01')),color='k',lw=3)\n",
    "ax.annotate(\"Endogenous Wikipedia growth\", xy=(ts_to_unix(pd.Timestamp('2005-01-01')), 250), xycoords=\"data\", va=\"center\", ha=\"left\")\n",
    "\n",
    "# Clinton as Senator\n",
    "ax.axhline(y=350,xmin=ts_frac(all_revs_min_ts),xmax=ts_frac(pd.Timestamp('2009-01-21')),color='b',lw=3)\n",
    "ax.annotate(\"Senate\", xy=(ts_to_unix(all_revs_min_ts), 400), xycoords=\"data\", va=\"center\", ha=\"left\", color='b')\n",
    "\n",
    "# Clinton 2008 campaign\n",
    "ax.axhline(y=400,xmin=ts_frac(pd.Timestamp('2007-01-20')),xmax=ts_frac(pd.Timestamp('2008-06-07')),color='b',lw=3)\n",
    "ax.annotate(\"2008 campaign\", xy=(ts_to_unix(pd.Timestamp('2007-01-20')), 450), va=\"center\", ha=\"left\", color='b')\n",
    "\n",
    "# Clinton as SoS\n",
    "ax.axhline(y=400,xmin=ts_frac(pd.Timestamp('2009-01-21')),xmax=ts_frac(pd.Timestamp('2013-02-01')),color='b',lw=3)\n",
    "ax.annotate(\"Secretary of State\", xy=(ts_to_unix(pd.Timestamp('2009-01-21')), 450), va=\"center\", ha=\"left\", color='b')\n",
    "\n",
    "# Trump on Apprentice\n",
    "ax.axhline(y=500,xmin=ts_frac(pd.Timestamp('2004-01-08')),xmax=ts_frac(pd.Timestamp('2010-12-09')),color='r',lw=3)\n",
    "ax.annotate(\"The Apprentice\", xy=(ts_to_unix(pd.Timestamp('2004-01-08')), 550), va=\"center\", ha=\"left\", color='r')\n",
    "\n",
    "# Trump Birther controversy\n",
    "ax.axhline(y=525,xmin=ts_frac(pd.Timestamp('2011-01-01')),xmax=ts_frac(pd.Timestamp('2011-09-01')),color='r',lw=3)\n",
    "ax.annotate(\"Birther controversy\", xy=(ts_to_unix(pd.Timestamp('2011-01-01')), 575), xycoords=\"data\", va=\"center\", ha=\"left\", color='r')\n",
    "\n",
    "# Presidential campaign\n",
    "ax.axhline(y=400,xmin=ts_frac(pd.Timestamp('2015-07-01')),xmax=ts_frac(pd.Timestamp('2016-11-08')),color='k',lw=3)\n",
    "ax.annotate(\"2016 campaign\", xy=(ts_to_unix(pd.Timestamp('2015-07-01')), 450), xycoords=\"data\", va=\"center\", ha=\"left\")\n",
    "\n",
    "# Presidential administration\n",
    "ax.axhline(y=500,xmin=ts_frac(pd.Timestamp('2017-01-20')),xmax=ts_frac(all_revs_max_ts),color='r',lw=3)\n",
    "ax.annotate(\"Administration\", xy=(ts_to_unix(pd.Timestamp('2017-01-20')), 550), va=\"center\", ha=\"left\", color='r')\n",
    "\n",
    "plt.tight_layout()\n",
    "plt.savefig('article_size_max.pdf')"
   ]
  },
  {
   "cell_type": "code",
   "execution_count": 38,
   "metadata": {},
   "outputs": [
    {
     "name": "stdout",
     "output_type": "stream",
     "text": [
      "Trump mean size: 91183.570\n",
      "Clinton mean size: 134652.281\n",
      "ANOVA: 649.11 (p = 3.611e-139)\n",
      "\n",
      "Trump median size: 52032.000\n",
      "Clinton median size: 167058.000\n",
      "Kruskal-Wallis: 510.35 (p = 5.334e-113)\n"
     ]
    }
   ],
   "source": [
    "trump_daily_size_max = daily_trump_revs.loc[:'2017-11-09']['size']\n",
    "clinton_daily_size_max = daily_clinton_revs.loc[:'2017-11-09']['size']\n",
    "\n",
    "F,p_F = stats.f_oneway(trump_daily_size_max.values,clinton_daily_size_max.values)\n",
    "H,p_H = stats.kruskal(trump_daily_size_max.values,clinton_daily_size_max.values)\n",
    "\n",
    "print(\"Trump mean size: {0:.3f}\\nClinton mean size: {1:.3f}\\nANOVA: {2:.2f} (p = {3:.3e})\\n\".format(trump_daily_size_max.mean(),clinton_daily_size_max.mean(),F,p_F))\n",
    "print(\"Trump median size: {0:.3f}\\nClinton median size: {1:.3f}\\nKruskal-Wallis: {2:.2f} (p = {3:.3e})\".format(trump_daily_size_max.median(),clinton_daily_size_max.median(),H,p_H))"
   ]
  },
  {
   "cell_type": "code",
   "execution_count": 39,
   "metadata": {},
   "outputs": [
    {
     "data": {
      "text/plain": [
       "Text(0, 0.5, 'Page size (KB)')"
      ]
     },
     "execution_count": 39,
     "metadata": {},
     "output_type": "execute_result"
    },
    {
     "data": {
      "image/png": "[encoded data removed]",
      "text/plain": [
       "<Figure size 1152x144 with 1 Axes>"
      ]
     },
     "metadata": {
      "needs_background": "light"
     },
     "output_type": "display_data"
    }
   ],
   "source": [
    "f,ax = plt.subplots(1,1,figsize=(16,2))\n",
    "(daily_trump_revs.loc['2015-06-01':'2016-11-08']['size']/1000).plot(lw=3,ax=ax,color='r',legend=False)\n",
    "(daily_clinton_revs.loc['2015-06-01':'2016-11-08']['size']/1000).plot(lw=3,ax=ax,color='b',legend=False)\n",
    "ax.set_ylim((0,500))\n",
    "ax.set_xlabel('Year')\n",
    "ax.set_ylabel('Page size (KB)')\n",
    "\n",
    "# ax.axvline(pd.Timestamp('2015-06-16'),color='k',zorder=-1) # Announcement\n",
    "# ax.annotate('A',xy=(ts_to_unix(pd.Timestamp('2015-06-18')),450),va=\"center\", ha=\"left\", color='k', size=12)\n",
    "\n",
    "# ax.axvline(pd.Timestamp('2016-03-09'),color='k',zorder=-1) # Super Tuesdays\n",
    "# ax.annotate('B',xy=(ts_to_unix(pd.Timestamp('2016-03-11')),450),va=\"center\", ha=\"left\", color='k', size=12)\n",
    "\n",
    "# ax.axvline(pd.Timestamp('2016-04-29'),color='k',zorder=-1) # Acela primary\n",
    "# ax.annotate('C',xy=(ts_to_unix(pd.Timestamp('2016-05-01')),450),va=\"center\", ha=\"left\", color='k', size=12)\n",
    "\n",
    "# ax.axvline(pd.Timestamp('2016-05-27'),color='k',zorder=-1) # Trump presumtive nominee\n",
    "# ax.annotate('D',xy=(ts_to_unix(pd.Timestamp('2016-05-29')),450),va=\"center\", ha=\"left\", color='k', size=12)\n",
    "\n",
    "# ax.axvline(pd.Timestamp('2016-06-08'),color='k',zorder=-1) # Clinton presumptive nominee\n",
    "# ax.annotate('E',xy=(ts_to_unix(pd.Timestamp('2016-06-10')),450),va=\"center\", ha=\"left\", color='k', size=12)\n",
    "\n",
    "# ax.axvline(pd.Timestamp('2016-07-21'),color='k',zorder=-1) # Republican National Convention\n",
    "# ax.annotate('F',xy=(ts_to_unix(pd.Timestamp('2016-07-11')),450),va=\"center\", ha=\"left\", color='k', size=12)\n",
    "\n",
    "# ax.axvline(pd.Timestamp('2016-07-28'),color='k',zorder=-1) # Democratic National convention\n",
    "# ax.annotate('G',xy=(ts_to_unix(pd.Timestamp('2016-07-30')),450),va=\"center\", ha=\"left\", color='k', size=12)\n",
    "\n",
    "# ax.axvline(pd.Timestamp('2016-10-07'),color='k',zorder=-1) # Access Hollywood tape\n",
    "# ax.annotate('H',xy=(ts_to_unix(pd.Timestamp('2016-10-09')),450),va=\"center\", ha=\"left\", color='k', size=12)\n",
    "\n",
    "# #ax.axvline(pd.Timestamp('2016-10-31'),color='k',zorder=-1) # User:Anthony22 edits\n",
    "# #ax.annotate('I',xy=(ts_to_unix(pd.Timestamp('2016-11-02')),450),va=\"center\", ha=\"left\", color='k', size=12)\n",
    "\n",
    "# ax.axvline(pd.Timestamp('2016-11-08'),color='k',zorder=-1) # Election\n",
    "# ax.annotate('I',xy=(ts_to_unix(pd.Timestamp('2016-11-10')),450),va=\"center\", ha=\"left\", color='k', size=12)\n",
    "\n",
    "# ax.axvline(pd.Timestamp('2017-01-20'),color='k',zorder=-1) # Inauguration\n",
    "# ax.annotate('J',xy=(ts_to_unix(pd.Timestamp('2017-01-22')),450),va=\"center\", ha=\"left\", color='k', size=12)\n",
    "\n",
    "# #ax.axvline(pd.Timestamp('2017-03-18'),color='k',zorder=-1) # User:Anthony22 edits\n",
    "# #ax.annotate('L',xy=(ts_to_unix(pd.Timestamp('2017-03-20')),450),va=\"center\", ha=\"left\", color='k', size=12)\n",
    "\n",
    "# #ax.axvline(pd.Timestamp('2017-04-18'),color='k',zorder=-1) # User:Anythingyouwant edits\n",
    "# #ax.annotate('M',xy=(ts_to_unix(pd.Timestamp('2017-04-20')),450),va=\"center\", ha=\"left\", color='k', size=12)"
   ]
  },
  {
   "cell_type": "code",
   "execution_count": 40,
   "metadata": {},
   "outputs": [
    {
     "name": "stdout",
     "output_type": "stream",
     "text": [
      "Trump article before start of campaign: 106217.00\n",
      "Clinton article before start of campaign: 241079.00\n"
     ]
    }
   ],
   "source": [
    "print(\"Trump article before start of campaign: {0:.2f}\".format(daily_trump_revs.loc['2015-05-30','size']))\n",
    "print(\"Clinton article before start of campaign: {0:.2f}\".format(daily_clinton_revs.loc['2016-05-30','size']))"
   ]
  },
  {
   "cell_type": "code",
   "execution_count": 42,
   "metadata": {},
   "outputs": [
    {
     "name": "stdout",
     "output_type": "stream",
     "text": [
      "Trump article size at start of campaign: 106,257.00\n",
      "Trump article size at end of campaign: 342,705.00\n",
      "Clinton article size at end of campaign: 280,403.00\n",
      "Ratio of ending to beginning size: 3.23\n"
     ]
    }
   ],
   "source": [
    "print(\"Trump article size at start of campaign: {0:,.2f}\".format(daily_trump_revs.loc['2015-06-01','size']))\n",
    "print(\"Trump article size at end of campaign: {0:,.2f}\".format(daily_trump_revs.loc['2016-11-08','size']))\n",
    "print(\"Clinton article size at end of campaign: {0:,.2f}\".format(daily_clinton_revs.loc['2016-11-08','size']))\n",
    "print(\"Ratio of ending to beginning size: {0:,.2f}\".format(daily_trump_revs.loc['2016-11-08','size']/daily_trump_revs.loc['2015-06-01','size']))"
   ]
  },
  {
   "cell_type": "code",
   "execution_count": 45,
   "metadata": {},
   "outputs": [
    {
     "name": "stdout",
     "output_type": "stream",
     "text": [
      "Trump mean size: 208,779.6\n",
      "Clinton mean size: 234,294.1\n",
      "ANOVA: 52.29 (p = 9.224e-13)\n",
      "\n",
      "Trump median size: 206,703.8\n",
      "Clinton median size: 228,256.0\n",
      "Kruskal-Wallis: 8.23 (p = 4.111e-03)\n"
     ]
    }
   ],
   "source": [
    "trump_daily_size_campaign = daily_trump_revs.loc['2015-06-01':'2016-11-07']['size']\n",
    "clinton_daily_size_campaign = daily_clinton_revs.loc['2015-06-01':'2016-11-07']['size']\n",
    "\n",
    "F,p_F = stats.f_oneway(trump_daily_size_campaign.values,clinton_daily_size_campaign.values)\n",
    "H,p_H = stats.kruskal(trump_daily_size_campaign.values,clinton_daily_size_campaign.values)\n",
    "\n",
    "print(\"Trump mean size: {0:,.1f}\\nClinton mean size: {1:,.1f}\\nANOVA: {2:.2f} (p = {3:.3e})\\n\".format(trump_daily_size_campaign.mean(),clinton_daily_size_campaign.mean(),F,p_F))\n",
    "print(\"Trump median size: {0:,.1f}\\nClinton median size: {1:,.1f}\\nKruskal-Wallis: {2:.2f} (p = {3:.3e})\".format(trump_daily_size_campaign.median(),clinton_daily_size_campaign.median(),H,p_H))"
   ]
  },
  {
   "cell_type": "markdown",
   "metadata": {},
   "source": [
    "When did Trump's article size surpass Clinton's?"
   ]
  },
  {
   "cell_type": "code",
   "execution_count": 46,
   "metadata": {},
   "outputs": [
    {
     "data": {
      "text/plain": [
       "Timestamp('2016-03-09 00:00:00')"
      ]
     },
     "execution_count": 46,
     "metadata": {},
     "output_type": "execute_result"
    }
   ],
   "source": [
    "daily_trump_revs.loc[idx['2015-01-01':'2017-11-09'],'size'][daily_trump_revs.loc[idx['2015-01-01':'2017-11-09'],'size'] > daily_clinton_revs.loc[idx['2015-01-01':'2017-11-09'],'size']].idxmin()"
   ]
  },
  {
   "cell_type": "markdown",
   "metadata": {},
   "source": [
    "### Pageviews"
   ]
  },
  {
   "cell_type": "code",
   "execution_count": 53,
   "metadata": {},
   "outputs": [
    {
     "data": {
      "image/png": "[encoded data removed]",
      "text/plain": [
       "<Figure size 1152x144 with 1 Axes>"
      ]
     },
     "metadata": {
      "needs_background": "light"
     },
     "output_type": "display_data"
    }
   ],
   "source": [
    "trump_pv_df = cleaned_trump_pv_df.loc['Donald Trump',('all-agents','all-access')]\n",
    "trump_pv_df = trump_pv_df.reindex(pd.date_range(trump_pv_df.index.min(),trump_pv_df.index.max()),fill_value=0)\n",
    "\n",
    "clinton_pv_df = cleaned_clinton_pv_df.loc['Hillary Clinton',('all-agents','all-access')]\n",
    "clinton_pv_df = clinton_pv_df.reindex(pd.date_range(clinton_pv_df.index.min(),clinton_pv_df.index.max()),fill_value=0)\n",
    "\n",
    "f,ax = plt.subplots(1,1,figsize=(16,2))\n",
    "\n",
    "trump_pv_df.loc['2015-07-01':'2017-11-09'].plot(lw=2,ax=ax,color=['r'],legend=False)\n",
    "clinton_pv_df.loc['2015-07-01':'2017-11-09'].plot(lw=2,ax=ax,color=['b'],legend=False)\n",
    "ax.set_ylim((1e3,1e8))\n",
    "ax.set_yscale('log')\n",
    "ax.set_ylabel('Pageviews')\n",
    "ax.set_yticks([1e3,1e4,1e5,1e6,1e7,1e8])\n",
    "\n",
    "#ax.axvline(pd.Timestamp('2015-06-16'),color='k',zorder=-1) # Announcement\n",
    "#ax.annotate('B',xy=(ts_to_unix(pd.Timestamp('2015-06-18')),175),va=\"center\", ha=\"left\", color='k', size=12)\n",
    "\n",
    "_height = 3e7\n",
    "\n",
    "ax.axvline(pd.Timestamp('2016-03-03'),color='k',zorder=-1) # Super Tuesdays\n",
    "ax.annotate('C',xy=(ts_to_unix(pd.Timestamp('2016-03-05')),_height),va=\"center\", ha=\"left\", color='k', size=12)\n",
    "\n",
    "ax.axvline(pd.Timestamp('2016-04-29'),color='k',zorder=-1) # Acela primary\n",
    "ax.annotate('D',xy=(ts_to_unix(pd.Timestamp('2016-05-01')),_height),va=\"center\", ha=\"left\", color='k', size=12)\n",
    "\n",
    "ax.axvline(pd.Timestamp('2016-05-27'),color='k',zorder=-1) # Trump presumtive nominee\n",
    "ax.annotate('E',xy=(ts_to_unix(pd.Timestamp('2016-05-29')),_height),va=\"center\", ha=\"left\", color='k', size=12)\n",
    "\n",
    "ax.axvline(pd.Timestamp('2016-06-08'),color='k',zorder=-1) # Clinton presumptive nominee\n",
    "ax.annotate('F',xy=(ts_to_unix(pd.Timestamp('2016-06-10')),_height),va=\"center\", ha=\"left\", color='k', size=12)\n",
    "\n",
    "ax.axvline(pd.Timestamp('2016-07-21'),color='k',zorder=-1) # Republican National Convention\n",
    "ax.annotate('G',xy=(ts_to_unix(pd.Timestamp('2016-07-11')),_height),va=\"center\", ha=\"left\", color='k', size=12)\n",
    "\n",
    "ax.axvline(pd.Timestamp('2016-07-28'),color='k',zorder=-1) # Democratic National convention\n",
    "ax.annotate('H',xy=(ts_to_unix(pd.Timestamp('2016-07-30')),_height),va=\"center\", ha=\"left\", color='k', size=12)\n",
    "\n",
    "ax.axvline(pd.Timestamp('2016-10-07'),color='k',zorder=-1) # Access Hollywood tape\n",
    "ax.annotate('I',xy=(ts_to_unix(pd.Timestamp('2016-10-09')),_height),va=\"center\", ha=\"left\", color='k', size=12)\n",
    "\n",
    "ax.axvline(pd.Timestamp('2016-11-08'),color='k',zorder=-1) # Election\n",
    "ax.annotate('J',xy=(ts_to_unix(pd.Timestamp('2016-11-10')),_height),va=\"center\", ha=\"left\", color='k', size=12)\n",
    "\n",
    "ax.axvline(pd.Timestamp('2017-01-20'),color='k',zorder=-1) # Inauguration\n",
    "ax.annotate('K',xy=(ts_to_unix(pd.Timestamp('2017-01-22')),_height),va=\"center\", ha=\"left\", color='k', size=12)\n",
    "\n",
    "#ax.axvspan(pd.Timestamp('2016-03-01'),pd.Timestamp('2016-03-15'),color='r',zorder=-1,alpha=.25) # Super Tuesdays\n",
    "#ax.axvline(pd.Timestamp('2016-07-21'),color='r',zorder=-1) # National Convention\n",
    "#ax.axvline(pd.Timestamp('2016-10-07'),color='r',zorder=-1) # Access Hollywood tape\n",
    "#ax.axvline(pd.Timestamp('2016-11-09'),color='r',zorder=-1) # Election\n",
    "#ax.axvline(pd.Timestamp('2017-01-20'),color='r',zorder=-1) # Inauguration\n",
    "#ax.axvline(pd.Timestamp('2017-05-16'),color='r',zorder=-1) # Comey dismissal\n",
    "\n",
    "plt.tight_layout()\n",
    "plt.savefig('article_pageviews_campaign.pdf')"
   ]
  },
  {
   "cell_type": "code",
   "execution_count": 54,
   "metadata": {},
   "outputs": [
    {
     "name": "stdout",
     "output_type": "stream",
     "text": [
      "Clinton mean page views: 41,787.3\n",
      "Trump mean page views: 159,283.1\n",
      "ANOVA: 42.73 (p = 1.005e-10)\n",
      "\n",
      "Clinton median page views: 27,301.5\n",
      "Trump median page views: 83,086.0\n",
      "Kruskal-Wallis: 460.61 (p = 3.543e-102)\n"
     ]
    }
   ],
   "source": [
    "trump_daily_pv_campaign = trump_pv_df.loc['2015-06-01':'2016-11-09']\n",
    "clinton_daily_pv_campaign = clinton_pv_df.loc['2015-06-01':'2016-11-09']\n",
    "\n",
    "F,p_F = stats.f_oneway(trump_daily_pv_campaign.values,clinton_daily_pv_campaign.values)\n",
    "H,p_H = stats.kruskal(trump_daily_pv_campaign.values,clinton_daily_pv_campaign.values)\n",
    "\n",
    "print(\"Clinton mean page views: {1:,.1f}\\nTrump mean page views: {0:,.1f}\\nANOVA: {2:.2f} (p = {3:.3e})\\n\".format(trump_daily_pv_campaign.mean(),clinton_daily_pv_campaign.mean(),F,p_F))\n",
    "print(\"Clinton median page views: {1:,.1f}\\nTrump median page views: {0:,.1f}\\nKruskal-Wallis: {2:.2f} (p = {3:.3e})\".format(trump_daily_pv_campaign.median(),clinton_daily_pv_campaign.median(),H,p_H))"
   ]
  },
  {
   "cell_type": "markdown",
   "metadata": {},
   "source": [
    "What days did Clinton's page views surpass Trump's?"
   ]
  },
  {
   "cell_type": "code",
   "execution_count": 55,
   "metadata": {},
   "outputs": [
    {
     "data": {
      "text/plain": [
       "2015-10-14    114782.0\n",
       "2015-10-22     47717.0\n",
       "2015-10-23     47703.0\n",
       "2015-11-15     36096.0\n",
       "2016-06-08    164013.0\n",
       "2016-06-09     88033.0\n",
       "2016-06-10     85796.0\n",
       "2016-07-26    146130.0\n",
       "2016-07-27    353079.0\n",
       "2016-07-28    212981.0\n",
       "2016-07-29    482980.0\n",
       "2016-07-30    125481.0\n",
       "Name: (all-agents, all-access), dtype: float64"
      ]
     },
     "execution_count": 55,
     "metadata": {},
     "output_type": "execute_result"
    }
   ],
   "source": [
    "clinton_daily_pv_campaign[clinton_daily_pv_campaign > trump_daily_pv_campaign]"
   ]
  },
  {
   "cell_type": "code",
   "execution_count": 56,
   "metadata": {},
   "outputs": [
    {
     "data": {
      "text/plain": [
       "20810054.0"
      ]
     },
     "execution_count": 56,
     "metadata": {},
     "output_type": "execute_result"
    }
   ],
   "source": [
    "clinton_daily_pv_campaign.sum()"
   ]
  },
  {
   "cell_type": "code",
   "execution_count": 57,
   "metadata": {},
   "outputs": [
    {
     "name": "stdout",
     "output_type": "stream",
     "text": [
      "Clinton received 19,535,002 page views over the course of the campaign\n",
      "Trump received 73,116,431 page views over the course of the campaign\n"
     ]
    }
   ],
   "source": [
    "print(\"Clinton received {0:,.0f} page views over the course of the campaign\".format(clinton_pv_df.loc['2015-07-01':'2016-11-08'].sum()))\n",
    "print(\"Trump received {0:,.0f} page views over the course of the campaign\".format(trump_pv_df.loc['2015-07-01':'2016-11-08'].sum()))"
   ]
  },
  {
   "cell_type": "code",
   "execution_count": 58,
   "metadata": {},
   "outputs": [
    {
     "data": {
      "text/plain": [
       "3.7428422582193748"
      ]
     },
     "execution_count": 58,
     "metadata": {},
     "output_type": "execute_result"
    }
   ],
   "source": [
    "trump_pv_df.loc['2015-07-01':'2016-11-08'].sum()/clinton_pv_df.loc['2015-07-01':'2016-11-08'].sum()"
   ]
  },
  {
   "cell_type": "markdown",
   "metadata": {},
   "source": [
    "### Correlations between 538 and activity?"
   ]
  },
  {
   "cell_type": "code",
   "execution_count": 65,
   "metadata": {},
   "outputs": [
    {
     "data": {
      "text/html": [
       "<div>\n",
       "<style scoped>\n",
       "    .dataframe tbody tr th:only-of-type {\n",
       "        vertical-align: middle;\n",
       "    }\n",
       "\n",
       "    .dataframe tbody tr th {\n",
       "        vertical-align: top;\n",
       "    }\n",
       "\n",
       "    .dataframe thead th {\n",
       "        text-align: right;\n",
       "    }\n",
       "</style>\n",
       "<table border=\"1\" class=\"dataframe\">\n",
       "  <thead>\n",
       "    <tr style=\"text-align: right;\">\n",
       "      <th></th>\n",
       "      <th>Trump 538</th>\n",
       "      <th>Clinton 538</th>\n",
       "    </tr>\n",
       "  </thead>\n",
       "  <tbody>\n",
       "    <tr>\n",
       "      <th>2016-06-12</th>\n",
       "      <td>NaN</td>\n",
       "      <td>NaN</td>\n",
       "    </tr>\n",
       "    <tr>\n",
       "      <th>2016-06-19</th>\n",
       "      <td>57.611446</td>\n",
       "      <td>241.511489</td>\n",
       "    </tr>\n",
       "    <tr>\n",
       "      <th>2016-06-26</th>\n",
       "      <td>-9.101791</td>\n",
       "      <td>9.111760</td>\n",
       "    </tr>\n",
       "    <tr>\n",
       "      <th>2016-07-03</th>\n",
       "      <td>28.725970</td>\n",
       "      <td>-28.740924</td>\n",
       "    </tr>\n",
       "    <tr>\n",
       "      <th>2016-07-10</th>\n",
       "      <td>-2.377631</td>\n",
       "      <td>2.392585</td>\n",
       "    </tr>\n",
       "    <tr>\n",
       "      <th>2016-07-17</th>\n",
       "      <td>79.548457</td>\n",
       "      <td>-79.448766</td>\n",
       "    </tr>\n",
       "    <tr>\n",
       "      <th>2016-07-24</th>\n",
       "      <td>51.694784</td>\n",
       "      <td>-51.769552</td>\n",
       "    </tr>\n",
       "    <tr>\n",
       "      <th>2016-07-31</th>\n",
       "      <td>91.351875</td>\n",
       "      <td>-91.401721</td>\n",
       "    </tr>\n",
       "    <tr>\n",
       "      <th>2016-08-07</th>\n",
       "      <td>-285.221021</td>\n",
       "      <td>285.230990</td>\n",
       "    </tr>\n",
       "    <tr>\n",
       "      <th>2016-08-14</th>\n",
       "      <td>-10.995921</td>\n",
       "      <td>11.060720</td>\n",
       "    </tr>\n",
       "    <tr>\n",
       "      <th>2016-08-21</th>\n",
       "      <td>21.323911</td>\n",
       "      <td>-21.338865</td>\n",
       "    </tr>\n",
       "    <tr>\n",
       "      <th>2016-08-28</th>\n",
       "      <td>30.311058</td>\n",
       "      <td>-30.326011</td>\n",
       "    </tr>\n",
       "    <tr>\n",
       "      <th>2016-09-04</th>\n",
       "      <td>65.232825</td>\n",
       "      <td>-65.237810</td>\n",
       "    </tr>\n",
       "    <tr>\n",
       "      <th>2016-09-11</th>\n",
       "      <td>15.402264</td>\n",
       "      <td>-15.322511</td>\n",
       "    </tr>\n",
       "    <tr>\n",
       "      <th>2016-09-18</th>\n",
       "      <td>57.093053</td>\n",
       "      <td>-57.172806</td>\n",
       "    </tr>\n",
       "    <tr>\n",
       "      <th>2016-09-25</th>\n",
       "      <td>39.258328</td>\n",
       "      <td>-39.238389</td>\n",
       "    </tr>\n",
       "    <tr>\n",
       "      <th>2016-10-02</th>\n",
       "      <td>-57.332311</td>\n",
       "      <td>57.337296</td>\n",
       "    </tr>\n",
       "    <tr>\n",
       "      <th>2016-10-09</th>\n",
       "      <td>-126.268658</td>\n",
       "      <td>126.193890</td>\n",
       "    </tr>\n",
       "    <tr>\n",
       "      <th>2016-10-16</th>\n",
       "      <td>-27.200698</td>\n",
       "      <td>27.255528</td>\n",
       "    </tr>\n",
       "    <tr>\n",
       "      <th>2016-10-23</th>\n",
       "      <td>4.511019</td>\n",
       "      <td>-4.401359</td>\n",
       "    </tr>\n",
       "    <tr>\n",
       "      <th>2016-10-30</th>\n",
       "      <td>35.250748</td>\n",
       "      <td>-34.996536</td>\n",
       "    </tr>\n",
       "    <tr>\n",
       "      <th>2016-11-06</th>\n",
       "      <td>109.470720</td>\n",
       "      <td>-109.490658</td>\n",
       "    </tr>\n",
       "    <tr>\n",
       "      <th>2016-11-13</th>\n",
       "      <td>-174.190137</td>\n",
       "      <td>-324.658793</td>\n",
       "    </tr>\n",
       "  </tbody>\n",
       "</table>\n",
       "</div>"
      ],
      "text/plain": [
       "             Trump 538  Clinton 538\n",
       "2016-06-12         NaN          NaN\n",
       "2016-06-19   57.611446   241.511489\n",
       "2016-06-26   -9.101791     9.111760\n",
       "2016-07-03   28.725970   -28.740924\n",
       "2016-07-10   -2.377631     2.392585\n",
       "2016-07-17   79.548457   -79.448766\n",
       "2016-07-24   51.694784   -51.769552\n",
       "2016-07-31   91.351875   -91.401721\n",
       "2016-08-07 -285.221021   285.230990\n",
       "2016-08-14  -10.995921    11.060720\n",
       "2016-08-21   21.323911   -21.338865\n",
       "2016-08-28   30.311058   -30.326011\n",
       "2016-09-04   65.232825   -65.237810\n",
       "2016-09-11   15.402264   -15.322511\n",
       "2016-09-18   57.093053   -57.172806\n",
       "2016-09-25   39.258328   -39.238389\n",
       "2016-10-02  -57.332311    57.337296\n",
       "2016-10-09 -126.268658   126.193890\n",
       "2016-10-16  -27.200698    27.255528\n",
       "2016-10-23    4.511019    -4.401359\n",
       "2016-10-30   35.250748   -34.996536\n",
       "2016-11-06  109.470720  -109.490658\n",
       "2016-11-13 -174.190137  -324.658793"
      ]
     },
     "execution_count": 65,
     "metadata": {},
     "output_type": "execute_result"
    }
   ],
   "source": [
    "campaign_activity_df[_fte_cols].resample('W').sum().diff()"
   ]
  },
  {
   "cell_type": "code",
   "execution_count": 69,
   "metadata": {},
   "outputs": [],
   "source": [
    "campaign_activity_df = pd.DataFrame({'Trump PV':trump_pv_df.loc['2016-06-09':'2016-11-08'].cumsum(),\n",
    "                        'Clinton PV':clinton_pv_df.loc['2016-06-09':'2016-11-08'].cumsum(),\n",
    "                        'Trump Size':daily_trump_revs.loc['2016-06-09':'2016-11-08']['size'],\n",
    "                        'Clinton Size':daily_clinton_revs.loc['2016-06-09':'2016-11-08']['size'],\n",
    "                        'Trump Revs':daily_trump_revs.loc['2016-06-09':'2016-11-08']['sha1'].cumsum(),\n",
    "                        'Clinton Revs':daily_clinton_revs.loc['2016-06-09':'2016-11-08']['sha1'].cumsum(),\n",
    "                        'Trump 538':fte_df.loc[:,'Trump 538'],\n",
    "                        'Clinton 538':fte_df.loc[:,'Clinton 538']})\n",
    "\n",
    "for _col in campaign_activity_df.columns:\n",
    "    campaign_activity_df['{0} lag {1}'.format(_col,-1)] = campaign_activity_df[_col].shift(-1)\n",
    "\n",
    "_fte_cols = ['Trump 538','Clinton 538']\n",
    "_df1 = campaign_activity_df[_fte_cols].resample('W').mean().diff()\n",
    "_df2 = campaign_activity_df[[_col for _col in campaign_activity_df.columns if _col not in _fte_cols]].resample('W').mean().pct_change()\n",
    "weekly_campaign_activity_df = pd.concat([_df1,_df2],axis=1)"
   ]
  },
  {
   "cell_type": "code",
   "execution_count": 70,
   "metadata": {},
   "outputs": [
    {
     "data": {
      "text/html": [
       "<div>\n",
       "<style scoped>\n",
       "    .dataframe tbody tr th:only-of-type {\n",
       "        vertical-align: middle;\n",
       "    }\n",
       "\n",
       "    .dataframe tbody tr th {\n",
       "        vertical-align: top;\n",
       "    }\n",
       "\n",
       "    .dataframe thead th {\n",
       "        text-align: right;\n",
       "    }\n",
       "</style>\n",
       "<table border=\"1\" class=\"dataframe\">\n",
       "  <thead>\n",
       "    <tr style=\"text-align: right;\">\n",
       "      <th></th>\n",
       "      <th>level_0</th>\n",
       "      <th>level_1</th>\n",
       "      <th>0</th>\n",
       "    </tr>\n",
       "  </thead>\n",
       "  <tbody>\n",
       "    <tr>\n",
       "      <th>15</th>\n",
       "      <td>Trump 538</td>\n",
       "      <td>Clinton 538 lag -1</td>\n",
       "      <td>-0.973190</td>\n",
       "    </tr>\n",
       "    <tr>\n",
       "      <th>239</th>\n",
       "      <td>Trump 538 lag -1</td>\n",
       "      <td>Clinton 538 lag -1</td>\n",
       "      <td>-0.876883</td>\n",
       "    </tr>\n",
       "    <tr>\n",
       "      <th>143</th>\n",
       "      <td>Trump PV lag -1</td>\n",
       "      <td>Clinton 538 lag -1</td>\n",
       "      <td>-0.073009</td>\n",
       "    </tr>\n",
       "    <tr>\n",
       "      <th>47</th>\n",
       "      <td>Trump PV</td>\n",
       "      <td>Clinton 538 lag -1</td>\n",
       "      <td>-0.055926</td>\n",
       "    </tr>\n",
       "    <tr>\n",
       "      <th>111</th>\n",
       "      <td>Trump Revs</td>\n",
       "      <td>Clinton 538 lag -1</td>\n",
       "      <td>-0.003388</td>\n",
       "    </tr>\n",
       "    <tr>\n",
       "      <th>207</th>\n",
       "      <td>Trump Revs lag -1</td>\n",
       "      <td>Clinton 538 lag -1</td>\n",
       "      <td>0.000729</td>\n",
       "    </tr>\n",
       "    <tr>\n",
       "      <th>159</th>\n",
       "      <td>Clinton PV lag -1</td>\n",
       "      <td>Clinton 538 lag -1</td>\n",
       "      <td>0.026134</td>\n",
       "    </tr>\n",
       "    <tr>\n",
       "      <th>223</th>\n",
       "      <td>Clinton Revs lag -1</td>\n",
       "      <td>Clinton 538 lag -1</td>\n",
       "      <td>0.032878</td>\n",
       "    </tr>\n",
       "    <tr>\n",
       "      <th>127</th>\n",
       "      <td>Clinton Revs</td>\n",
       "      <td>Clinton 538 lag -1</td>\n",
       "      <td>0.040115</td>\n",
       "    </tr>\n",
       "    <tr>\n",
       "      <th>63</th>\n",
       "      <td>Clinton PV</td>\n",
       "      <td>Clinton 538 lag -1</td>\n",
       "      <td>0.070337</td>\n",
       "    </tr>\n",
       "    <tr>\n",
       "      <th>175</th>\n",
       "      <td>Trump Size lag -1</td>\n",
       "      <td>Clinton 538 lag -1</td>\n",
       "      <td>0.097744</td>\n",
       "    </tr>\n",
       "    <tr>\n",
       "      <th>79</th>\n",
       "      <td>Trump Size</td>\n",
       "      <td>Clinton 538 lag -1</td>\n",
       "      <td>0.118608</td>\n",
       "    </tr>\n",
       "    <tr>\n",
       "      <th>95</th>\n",
       "      <td>Clinton Size</td>\n",
       "      <td>Clinton 538 lag -1</td>\n",
       "      <td>0.428476</td>\n",
       "    </tr>\n",
       "    <tr>\n",
       "      <th>191</th>\n",
       "      <td>Clinton Size lag -1</td>\n",
       "      <td>Clinton 538 lag -1</td>\n",
       "      <td>0.533190</td>\n",
       "    </tr>\n",
       "    <tr>\n",
       "      <th>31</th>\n",
       "      <td>Clinton 538</td>\n",
       "      <td>Clinton 538 lag -1</td>\n",
       "      <td>0.973180</td>\n",
       "    </tr>\n",
       "    <tr>\n",
       "      <th>255</th>\n",
       "      <td>Clinton 538 lag -1</td>\n",
       "      <td>Clinton 538 lag -1</td>\n",
       "      <td>1.000000</td>\n",
       "    </tr>\n",
       "  </tbody>\n",
       "</table>\n",
       "</div>"
      ],
      "text/plain": [
       "                 level_0             level_1         0\n",
       "15             Trump 538  Clinton 538 lag -1 -0.973190\n",
       "239     Trump 538 lag -1  Clinton 538 lag -1 -0.876883\n",
       "143      Trump PV lag -1  Clinton 538 lag -1 -0.073009\n",
       "47              Trump PV  Clinton 538 lag -1 -0.055926\n",
       "111           Trump Revs  Clinton 538 lag -1 -0.003388\n",
       "207    Trump Revs lag -1  Clinton 538 lag -1  0.000729\n",
       "159    Clinton PV lag -1  Clinton 538 lag -1  0.026134\n",
       "223  Clinton Revs lag -1  Clinton 538 lag -1  0.032878\n",
       "127         Clinton Revs  Clinton 538 lag -1  0.040115\n",
       "63            Clinton PV  Clinton 538 lag -1  0.070337\n",
       "175    Trump Size lag -1  Clinton 538 lag -1  0.097744\n",
       "79            Trump Size  Clinton 538 lag -1  0.118608\n",
       "95          Clinton Size  Clinton 538 lag -1  0.428476\n",
       "191  Clinton Size lag -1  Clinton 538 lag -1  0.533190\n",
       "31           Clinton 538  Clinton 538 lag -1  0.973180\n",
       "255   Clinton 538 lag -1  Clinton 538 lag -1  1.000000"
      ]
     },
     "execution_count": 70,
     "metadata": {},
     "output_type": "execute_result"
    }
   ],
   "source": [
    "weekly_corr_df = weekly_campaign_activity_df.corr()\n",
    "#weekly_corr_df = weekly_corr_df.mask(np.triu(np.ones(weekly_corr_df.shape),0).astype(bool))\n",
    "weekly_corr_df = weekly_corr_df.stack().reset_index().sort_values('level_1')\n",
    "weekly_corr_df[weekly_corr_df['level_1'] == 'Clinton 538 lag -1'].sort_values(0)"
   ]
  },
  {
   "cell_type": "code",
   "execution_count": 71,
   "metadata": {},
   "outputs": [
    {
     "data": {
      "text/html": [
       "<div>\n",
       "<style scoped>\n",
       "    .dataframe tbody tr th:only-of-type {\n",
       "        vertical-align: middle;\n",
       "    }\n",
       "\n",
       "    .dataframe tbody tr th {\n",
       "        vertical-align: top;\n",
       "    }\n",
       "\n",
       "    .dataframe thead th {\n",
       "        text-align: right;\n",
       "    }\n",
       "</style>\n",
       "<table border=\"1\" class=\"dataframe\">\n",
       "  <thead>\n",
       "    <tr style=\"text-align: right;\">\n",
       "      <th></th>\n",
       "      <th>Var 1</th>\n",
       "      <th>Var 2</th>\n",
       "      <th>Corr</th>\n",
       "      <th>Abs Corr</th>\n",
       "    </tr>\n",
       "  </thead>\n",
       "  <tbody>\n",
       "    <tr>\n",
       "      <th>62</th>\n",
       "      <td>Clinton Size lag -1</td>\n",
       "      <td>Clinton 538</td>\n",
       "      <td>0.069660</td>\n",
       "      <td>0.069660</td>\n",
       "    </tr>\n",
       "    <tr>\n",
       "      <th>61</th>\n",
       "      <td>Clinton Size lag -1</td>\n",
       "      <td>Trump 538</td>\n",
       "      <td>-0.069047</td>\n",
       "      <td>0.069047</td>\n",
       "    </tr>\n",
       "    <tr>\n",
       "      <th>18</th>\n",
       "      <td>Trump 538</td>\n",
       "      <td>Clinton Size</td>\n",
       "      <td>-0.058358</td>\n",
       "      <td>0.058358</td>\n",
       "    </tr>\n",
       "    <tr>\n",
       "      <th>108</th>\n",
       "      <td>Clinton 538 lag -1</td>\n",
       "      <td>Clinton Size</td>\n",
       "      <td>0.056977</td>\n",
       "      <td>0.056977</td>\n",
       "    </tr>\n",
       "    <tr>\n",
       "      <th>94</th>\n",
       "      <td>Trump 538 lag -1</td>\n",
       "      <td>Clinton Size</td>\n",
       "      <td>-0.056353</td>\n",
       "      <td>0.056353</td>\n",
       "    </tr>\n",
       "    <tr>\n",
       "      <th>107</th>\n",
       "      <td>Clinton 538 lag -1</td>\n",
       "      <td>Trump Size</td>\n",
       "      <td>0.042074</td>\n",
       "      <td>0.042074</td>\n",
       "    </tr>\n",
       "    <tr>\n",
       "      <th>93</th>\n",
       "      <td>Trump 538 lag -1</td>\n",
       "      <td>Trump Size</td>\n",
       "      <td>-0.041111</td>\n",
       "      <td>0.041111</td>\n",
       "    </tr>\n",
       "    <tr>\n",
       "      <th>52</th>\n",
       "      <td>Trump Size lag -1</td>\n",
       "      <td>Clinton 538</td>\n",
       "      <td>0.040111</td>\n",
       "      <td>0.040111</td>\n",
       "    </tr>\n",
       "    <tr>\n",
       "      <th>51</th>\n",
       "      <td>Trump Size lag -1</td>\n",
       "      <td>Trump 538</td>\n",
       "      <td>-0.039140</td>\n",
       "      <td>0.039140</td>\n",
       "    </tr>\n",
       "    <tr>\n",
       "      <th>106</th>\n",
       "      <td>Clinton 538 lag -1</td>\n",
       "      <td>Clinton PV</td>\n",
       "      <td>0.035112</td>\n",
       "      <td>0.035112</td>\n",
       "    </tr>\n",
       "    <tr>\n",
       "      <th>23</th>\n",
       "      <td>Clinton 538</td>\n",
       "      <td>Trump Size</td>\n",
       "      <td>0.034730</td>\n",
       "      <td>0.034730</td>\n",
       "    </tr>\n",
       "    <tr>\n",
       "      <th>92</th>\n",
       "      <td>Trump 538 lag -1</td>\n",
       "      <td>Clinton PV</td>\n",
       "      <td>-0.034267</td>\n",
       "      <td>0.034267</td>\n",
       "    </tr>\n",
       "    <tr>\n",
       "      <th>16</th>\n",
       "      <td>Trump 538</td>\n",
       "      <td>Clinton PV</td>\n",
       "      <td>-0.022410</td>\n",
       "      <td>0.022410</td>\n",
       "    </tr>\n",
       "    <tr>\n",
       "      <th>43</th>\n",
       "      <td>Clinton PV lag -1</td>\n",
       "      <td>Clinton 538</td>\n",
       "      <td>0.021309</td>\n",
       "      <td>0.021309</td>\n",
       "    </tr>\n",
       "    <tr>\n",
       "      <th>42</th>\n",
       "      <td>Clinton PV lag -1</td>\n",
       "      <td>Trump 538</td>\n",
       "      <td>-0.020466</td>\n",
       "      <td>0.020466</td>\n",
       "    </tr>\n",
       "    <tr>\n",
       "      <th>20</th>\n",
       "      <td>Trump 538</td>\n",
       "      <td>Clinton Revs</td>\n",
       "      <td>0.016582</td>\n",
       "      <td>0.016582</td>\n",
       "    </tr>\n",
       "    <tr>\n",
       "      <th>21</th>\n",
       "      <td>Clinton 538</td>\n",
       "      <td>Trump PV</td>\n",
       "      <td>-0.014583</td>\n",
       "      <td>0.014583</td>\n",
       "    </tr>\n",
       "    <tr>\n",
       "      <th>84</th>\n",
       "      <td>Clinton Revs lag -1</td>\n",
       "      <td>Trump 538</td>\n",
       "      <td>0.014473</td>\n",
       "      <td>0.014473</td>\n",
       "    </tr>\n",
       "    <tr>\n",
       "      <th>85</th>\n",
       "      <td>Clinton Revs lag -1</td>\n",
       "      <td>Clinton 538</td>\n",
       "      <td>-0.013768</td>\n",
       "      <td>0.013768</td>\n",
       "    </tr>\n",
       "    <tr>\n",
       "      <th>34</th>\n",
       "      <td>Trump PV lag -1</td>\n",
       "      <td>Trump 538</td>\n",
       "      <td>0.012559</td>\n",
       "      <td>0.012559</td>\n",
       "    </tr>\n",
       "    <tr>\n",
       "      <th>35</th>\n",
       "      <td>Trump PV lag -1</td>\n",
       "      <td>Clinton 538</td>\n",
       "      <td>-0.011715</td>\n",
       "      <td>0.011715</td>\n",
       "    </tr>\n",
       "    <tr>\n",
       "      <th>73</th>\n",
       "      <td>Trump Revs lag -1</td>\n",
       "      <td>Clinton 538</td>\n",
       "      <td>0.010513</td>\n",
       "      <td>0.010513</td>\n",
       "    </tr>\n",
       "    <tr>\n",
       "      <th>96</th>\n",
       "      <td>Trump 538 lag -1</td>\n",
       "      <td>Clinton Revs</td>\n",
       "      <td>0.009779</td>\n",
       "      <td>0.009779</td>\n",
       "    </tr>\n",
       "    <tr>\n",
       "      <th>72</th>\n",
       "      <td>Trump Revs lag -1</td>\n",
       "      <td>Trump 538</td>\n",
       "      <td>-0.009658</td>\n",
       "      <td>0.009658</td>\n",
       "    </tr>\n",
       "    <tr>\n",
       "      <th>110</th>\n",
       "      <td>Clinton 538 lag -1</td>\n",
       "      <td>Clinton Revs</td>\n",
       "      <td>-0.009083</td>\n",
       "      <td>0.009083</td>\n",
       "    </tr>\n",
       "    <tr>\n",
       "      <th>91</th>\n",
       "      <td>Trump 538 lag -1</td>\n",
       "      <td>Trump PV</td>\n",
       "      <td>0.008984</td>\n",
       "      <td>0.008984</td>\n",
       "    </tr>\n",
       "    <tr>\n",
       "      <th>105</th>\n",
       "      <td>Clinton 538 lag -1</td>\n",
       "      <td>Trump PV</td>\n",
       "      <td>-0.008138</td>\n",
       "      <td>0.008138</td>\n",
       "    </tr>\n",
       "    <tr>\n",
       "      <th>109</th>\n",
       "      <td>Clinton 538 lag -1</td>\n",
       "      <td>Trump Revs</td>\n",
       "      <td>0.003753</td>\n",
       "      <td>0.003753</td>\n",
       "    </tr>\n",
       "    <tr>\n",
       "      <th>95</th>\n",
       "      <td>Trump 538 lag -1</td>\n",
       "      <td>Trump Revs</td>\n",
       "      <td>-0.002895</td>\n",
       "      <td>0.002895</td>\n",
       "    </tr>\n",
       "    <tr>\n",
       "      <th>25</th>\n",
       "      <td>Clinton 538</td>\n",
       "      <td>Trump Revs</td>\n",
       "      <td>0.002341</td>\n",
       "      <td>0.002341</td>\n",
       "    </tr>\n",
       "  </tbody>\n",
       "</table>\n",
       "</div>"
      ],
      "text/plain": [
       "                   Var 1         Var 2      Corr  Abs Corr\n",
       "62   Clinton Size lag -1   Clinton 538  0.069660  0.069660\n",
       "61   Clinton Size lag -1     Trump 538 -0.069047  0.069047\n",
       "18             Trump 538  Clinton Size -0.058358  0.058358\n",
       "108   Clinton 538 lag -1  Clinton Size  0.056977  0.056977\n",
       "94      Trump 538 lag -1  Clinton Size -0.056353  0.056353\n",
       "107   Clinton 538 lag -1    Trump Size  0.042074  0.042074\n",
       "93      Trump 538 lag -1    Trump Size -0.041111  0.041111\n",
       "52     Trump Size lag -1   Clinton 538  0.040111  0.040111\n",
       "51     Trump Size lag -1     Trump 538 -0.039140  0.039140\n",
       "106   Clinton 538 lag -1    Clinton PV  0.035112  0.035112\n",
       "23           Clinton 538    Trump Size  0.034730  0.034730\n",
       "92      Trump 538 lag -1    Clinton PV -0.034267  0.034267\n",
       "16             Trump 538    Clinton PV -0.022410  0.022410\n",
       "43     Clinton PV lag -1   Clinton 538  0.021309  0.021309\n",
       "42     Clinton PV lag -1     Trump 538 -0.020466  0.020466\n",
       "20             Trump 538  Clinton Revs  0.016582  0.016582\n",
       "21           Clinton 538      Trump PV -0.014583  0.014583\n",
       "84   Clinton Revs lag -1     Trump 538  0.014473  0.014473\n",
       "85   Clinton Revs lag -1   Clinton 538 -0.013768  0.013768\n",
       "34       Trump PV lag -1     Trump 538  0.012559  0.012559\n",
       "35       Trump PV lag -1   Clinton 538 -0.011715  0.011715\n",
       "73     Trump Revs lag -1   Clinton 538  0.010513  0.010513\n",
       "96      Trump 538 lag -1  Clinton Revs  0.009779  0.009779\n",
       "72     Trump Revs lag -1     Trump 538 -0.009658  0.009658\n",
       "110   Clinton 538 lag -1  Clinton Revs -0.009083  0.009083\n",
       "91      Trump 538 lag -1      Trump PV  0.008984  0.008984\n",
       "105   Clinton 538 lag -1      Trump PV -0.008138  0.008138\n",
       "109   Clinton 538 lag -1    Trump Revs  0.003753  0.003753\n",
       "95      Trump 538 lag -1    Trump Revs -0.002895  0.002895\n",
       "25           Clinton 538    Trump Revs  0.002341  0.002341"
      ]
     },
     "execution_count": 71,
     "metadata": {},
     "output_type": "execute_result"
    }
   ],
   "source": [
    "## corr_df = campaign_activity_df.corr()#.stack().reset_index().sort_values(0,ascending=False)\n",
    "corr_df = campaign_activity_df.corr()\n",
    "corr_df = corr_df.mask(np.triu(np.ones(corr_df.shape),0).astype(bool))\n",
    "melted_corr_df = corr_df.stack().reset_index()\n",
    "melted_corr_df.columns = ['Var 1','Var 2','Corr']\n",
    "melted_corr_df['Abs Corr'] = melted_corr_df['Corr'].apply(np.abs)\n",
    "\n",
    "_c1 = melted_corr_df['Var 1'].str.split(' ').str.get(1) != melted_corr_df['Var 2'].str.split(' ').str.get(1)\n",
    "_c2 = melted_corr_df['Var 1'].str.split(' ').str.get(-2) != melted_corr_df['Var 2'].str.split(' ').str.get(-2)\n",
    "_c3 = melted_corr_df['Var 1'].str.contains('538') | melted_corr_df['Var 2'].str.contains('538')\n",
    "_c4 = melted_corr_df['Var 1'].str.contains('538 lag -1') | melted_corr_df['Var 2'].str.contains('538 lag -1')\n",
    "melted_corr_df[(_c1 & _c2) & (_c3 | _c4)].sort_values('Abs Corr',ascending=False)#.loc[::2,:]"
   ]
  },
  {
   "cell_type": "markdown",
   "metadata": {},
   "source": [
    "### Page protections"
   ]
  },
  {
   "cell_type": "code",
   "execution_count": 545,
   "metadata": {
    "collapsed": true
   },
   "outputs": [],
   "source": [
    "clinton_redirect_mapping = {r:article for article,redirects in clinton_redirect_members.items() for r in redirects}\n",
    "trump_redirect_mapping = {r:article for article,redirects in trump_redirect_members.items() for r in redirects}"
   ]
  },
  {
   "cell_type": "code",
   "execution_count": 585,
   "metadata": {},
   "outputs": [
    {
     "data": {
      "text/plain": [
       "approve-a     905\n",
       "patrol        531\n",
       "approve       135\n",
       "revision       30\n",
       "reviewed       27\n",
       "modify         17\n",
       "delete         15\n",
       "autopatrol     15\n",
       "unapprove      11\n",
       "protect         7\n",
       "move            3\n",
       "unprotect       2\n",
       "move_prot       2\n",
       "approve-ia      1\n",
       "config          1\n",
       "reset           1\n",
       "restore         1\n",
       "Name: action, dtype: int64"
      ]
     },
     "execution_count": 585,
     "metadata": {},
     "output_type": "execute_result"
    }
   ],
   "source": [
    "trump_article_le_df['action'].value_counts()"
   ]
  },
  {
   "cell_type": "code",
   "execution_count": 586,
   "metadata": {},
   "outputs": [
    {
     "data": {
      "text/plain": [
       "review                 1052\n",
       "patrol                  546\n",
       "delete                   44\n",
       "protect                  28\n",
       "pagetriage-curation      28\n",
       "move                      3\n",
       "stable                    2\n",
       "pagetriage-deletion       1\n",
       "Name: type, dtype: int64"
      ]
     },
     "execution_count": 586,
     "metadata": {},
     "output_type": "execute_result"
    }
   ],
   "source": [
    "trump_article_le_df['type'].value_counts()"
   ]
  },
  {
   "cell_type": "code",
   "execution_count": 1129,
   "metadata": {},
   "outputs": [
    {
     "data": {
      "text/plain": [
       "action                                         protect\n",
       "comment          Persistent [[WP:Vandalism|vandalism]]\n",
       "date                               2016-02-01 00:00:00\n",
       "logid                                      7.22434e+07\n",
       "logpage                                     3.2553e+06\n",
       "ns                                                   0\n",
       "page                                      Donald trump\n",
       "pageid                                      3.2553e+06\n",
       "tags                                                []\n",
       "timestamp                          2016-02-01 23:55:51\n",
       "title                                     Donald trump\n",
       "type                                           protect\n",
       "user                                           Gilliam\n",
       "userid                                          506179\n",
       "redirect_page                             Donald Trump\n",
       "Name: 10769, dtype: object"
      ]
     },
     "execution_count": 1129,
     "metadata": {},
     "output_type": "execute_result"
    }
   ],
   "source": [
    "trump_article_le_df[trump_article_le_df['action'] == 'protect'].loc[10769,:]"
   ]
  },
  {
   "cell_type": "markdown",
   "metadata": {},
   "source": [
    "### Redirects"
   ]
  },
  {
   "cell_type": "code",
   "execution_count": 72,
   "metadata": {},
   "outputs": [
    {
     "name": "stdout",
     "output_type": "stream",
     "text": [
      "There are 78 redirects resolving to \"Hillary Clinton\"\n",
      "There are 67 redirects resolving to \"Donald Trump\"\n"
     ]
    }
   ],
   "source": [
    "with open('clinton_category_members_redirects.json','r') as f:\n",
    "    clinton_redirect_members = json.load(f)\n",
    "    \n",
    "with open('trump_category_members_redirects.json','r') as f:\n",
    "    trump_redirect_members = json.load(f)\n",
    "    \n",
    "print(\"There are {0:,} redirects resolving to \\\"Hillary Clinton\\\"\".format(len(clinton_redirect_members['Hillary Clinton'])))\n",
    "print(\"There are {0:,} redirects resolving to \\\"Donald Trump\\\"\".format(len(trump_redirect_members['Donald Trump'])))"
   ]
  },
  {
   "cell_type": "markdown",
   "metadata": {},
   "source": [
    "# Related articles"
   ]
  },
  {
   "cell_type": "code",
   "execution_count": 73,
   "metadata": {},
   "outputs": [
    {
     "name": "stdout",
     "output_type": "stream",
     "text": [
      "There are 16 articles related to both candidates\n",
      "1,320 Clinton-related articles underneath the Clinton category\n",
      "933 Trump-related articles underneath the Trump category\n"
     ]
    }
   ],
   "source": [
    "all_clinton_article_creations = all_clinton_rev_df.groupby('page').agg({'date':np.min})['date']\n",
    "all_trump_article_creations = all_trump_rev_df.groupby('page').agg({'date':np.min})['date']\n",
    "\n",
    "articles_for_both_candidates = list(set(all_clinton_article_creations.index) & set(all_trump_article_creations.index))\n",
    "print(\"There are {0:} articles related to both candidates\".format(len(articles_for_both_candidates)))\n",
    "\n",
    "all_clinton_article_creations = all_clinton_article_creations.loc[set(all_clinton_article_creations.index) - set(articles_for_both_candidates)]\n",
    "all_trump_article_creations = all_trump_article_creations.loc[set(all_trump_article_creations.index) - set(articles_for_both_candidates)]\n",
    "\n",
    "print(\"{0:,} Clinton-related articles underneath the Clinton category\".format(len(all_clinton_article_creations)))\n",
    "print(\"{0:,} Trump-related articles underneath the Trump category\".format(len(all_trump_article_creations)))"
   ]
  },
  {
   "cell_type": "code",
   "execution_count": 74,
   "metadata": {},
   "outputs": [
    {
     "name": "stdout",
     "output_type": "stream",
     "text": [
      "84 Clinton-related articles were created after January 1, 2015\n",
      "692 Trump-related articles were created after January 1, 2015\n"
     ]
    }
   ],
   "source": [
    "new_articles_clinton = all_clinton_article_creations[all_clinton_article_creations > pd.Timestamp('2015-01-01')]\n",
    "new_articles_trump = all_trump_article_creations[all_trump_article_creations > pd.Timestamp('2015-01-01')]\n",
    "\n",
    "print(\"{0:,} Clinton-related articles were created after January 1, 2015\".format(len(new_articles_clinton)))\n",
    "print(\"{0:,} Trump-related articles were created after January 1, 2015\".format(len(new_articles_trump)))\n",
    "\n",
    "clinton_creation_dates = new_articles_clinton.reset_index().groupby('date').apply(len)\n",
    "trump_creation_dates = new_articles_trump.reset_index().groupby('date').apply(len)\n",
    "\n",
    "#clinton_creation_dates = all_clinton_article_creations.reset_index().groupby('date').apply(len)\n",
    "#trump_creation_dates = all_trump_article_creations.reset_index().groupby('date').apply(len)"
   ]
  },
  {
   "cell_type": "markdown",
   "metadata": {},
   "source": [
    "Generate the raw data for new articles, revisions, editors, and page views."
   ]
  },
  {
   "cell_type": "code",
   "execution_count": 125,
   "metadata": {},
   "outputs": [],
   "source": [
    "_clinton_all_subdf = all_clinton_rev_df[(all_clinton_rev_df['date'] > pd.Timestamp('2015-01-01')) & (all_clinton_rev_df['page'] != 'Hillary Clinton') & (all_clinton_rev_df['page'].isin(all_clinton_article_creations.index))]\n",
    "_clinton_new_subdf = _clinton_all_subdf[_clinton_all_subdf['page'].isin(new_articles_clinton.index)]\n",
    "\n",
    "_trump_all_subdf = all_trump_rev_df[(all_trump_rev_df['date'] > pd.Timestamp('2015-01-01')) & (all_trump_rev_df['page'] != 'Donald Trump') & (all_trump_rev_df['page'].isin(all_trump_article_creations.index))]\n",
    "_trump_new_subdf = _trump_all_subdf[_trump_all_subdf['page'].isin(new_articles_trump.index)]\n",
    "\n",
    "_clinton_all_articles = _clinton_all_subdf['page'].unique()\n",
    "_clinton_new_articles = _clinton_new_subdf['page'].unique()\n",
    "_trump_all_articles = _trump_all_subdf['page'].unique()\n",
    "_trump_new_articles = _trump_new_subdf['page'].unique()\n",
    "\n",
    "_agg = {'revid':pd.Series.nunique,'size':np.median,'size_diff':np.sum}\n",
    "\n",
    "_clinton_all_agg_df = _clinton_all_subdf.groupby(['date']).agg(_agg)\n",
    "_trump_all_agg_df = _trump_all_subdf.groupby(['date']).agg(_agg) \n",
    "\n",
    "_clinton_new_agg_df = _clinton_new_subdf.groupby(['date']).agg(_agg)\n",
    "_trump_new_agg_df = _trump_new_subdf.groupby(['date']).agg(_agg) \n",
    "\n",
    "def list_set(x):\n",
    "    return list(set(x))\n",
    "\n",
    "# Editors\n",
    "#_clinton_all_editors = _clinton_all_subdf.groupby(['page','date'])['user'].apply(list_set).sum(level=1).cumsum().apply(list_set).apply(len).reindex(pd.date_range('2015-01-01','2017-11-09')).fillna(method='ffill').fillna(0)\n",
    "# _trump_all_editors = _trump_all_subdf.groupby(['page','date'])['user'].apply(list_set).sum(level=1).cumsum().apply(list_set).apply(len).reindex(pd.date_range('2015-01-01','2017-11-09')).fillna(method='ffill').fillna(0)\n",
    "\n",
    "_clinton_all_editors = _clinton_all_subdf.groupby(['date'])['user'].apply(list_set).cumsum().apply(len).reindex(pd.date_range('2015-01-01','2017-11-09')).fillna(method='ffill').fillna(0)\n",
    "_trump_all_editors = _trump_all_subdf.groupby(['date'])['user'].apply(list_set).cumsum().apply(len).reindex(pd.date_range('2015-01-01','2017-11-09')).fillna(method='ffill').fillna(0)\n",
    "\n",
    "#_clinton_new_editors = _clinton_new_subdf.groupby(['page','date'])['user'].apply(list_set).sum(level=1).cumsum().apply(list_set).apply(len).reindex(pd.date_range('2015-01-01','2017-11-09')).fillna(method='ffill').fillna(0)\n",
    "#_trump_new_editors = _trump_new_subdf.groupby(['page','date'])['user'].apply(list_set).sum(level=1).cumsum().apply(list_set).apply(len).reindex(pd.date_range('2015-01-01','2017-11-09')).fillna(method='ffill').fillna(0)\n",
    "_clinton_new_editors = _clinton_new_subdf.groupby(['date'])['user'].apply(list_set).cumsum().apply(len).reindex(pd.date_range('2015-01-01','2017-11-09')).fillna(method='ffill').fillna(0)\n",
    "_trump_new_editors = _trump_new_subdf.groupby(['date'])['user'].apply(list_set).cumsum().apply(len).reindex(pd.date_range('2015-01-01','2017-11-09')).fillna(method='ffill').fillna(0)\n",
    "\n",
    "# Page views\n",
    "_clinton_all_pvs = all_clinton_pv_df[('all-agents','all-access')].loc[_clinton_all_articles].sum(level=1)\n",
    "_clinton_new_pvs = all_clinton_pv_df[('all-agents','all-access')].loc[_clinton_new_articles].sum(level=1)\n",
    "\n",
    "_trump_all_pvs = all_trump_pv_df[('all-agents','all-access')].loc[_trump_all_articles].sum(level=1)\n",
    "_trump_new_pvs = all_trump_pv_df[('all-agents','all-access')].loc[_trump_new_articles].sum(level=1)"
   ]
  },
  {
   "cell_type": "markdown",
   "metadata": {},
   "source": [
    "Format the page view data so it's compatible with the other plots."
   ]
  },
  {
   "cell_type": "code",
   "execution_count": 139,
   "metadata": {},
   "outputs": [],
   "source": [
    "_date_range = pd.date_range('2015-01-01','2017-11-09')\n",
    "\n",
    "_clinton_all_pvs = all_clinton_pv_df[('all-agents','all-access')].loc[_clinton_all_articles].sum(level=1)\n",
    "_clinton_all_pvs.index = pd.to_datetime(_clinton_all_pvs.index)\n",
    "_clinton_all_pvs = _clinton_all_pvs.reindex(_date_range).fillna(0)\n",
    "\n",
    "_clinton_new_pvs = all_clinton_pv_df[('all-agents','all-access')].loc[_clinton_new_articles].sum(level=1)\n",
    "_clinton_new_pvs.index = pd.to_datetime(_clinton_new_pvs.index)\n",
    "_clinton_new_pvs = _clinton_new_pvs.reindex(_date_range).fillna(0)\n",
    "\n",
    "_trump_all_pvs = all_trump_pv_df[('all-agents','all-access')].loc[_trump_all_articles].sum(level=1)\n",
    "_trump_all_pvs.index = pd.to_datetime(_trump_all_pvs.index)\n",
    "_trump_all_pvs = _trump_all_pvs.reindex(_date_range).fillna(0)\n",
    "\n",
    "_trump_new_pvs = all_trump_pv_df[('all-agents','all-access')].loc[_trump_new_articles].sum(level=1)\n",
    "_trump_new_pvs.index = pd.to_datetime(_trump_new_pvs.index)\n",
    "_trump_new_pvs = _trump_new_pvs.reindex(_date_range).fillna(0)"
   ]
  },
  {
   "cell_type": "markdown",
   "metadata": {},
   "source": [
    "Create the DataFrames that will be used for plotting."
   ]
  },
  {
   "cell_type": "code",
   "execution_count": 150,
   "metadata": {},
   "outputs": [],
   "source": [
    "both_new_article_creations = pd.DataFrame({'Clinton':clinton_creation_dates,\n",
    "                                           'Trump':trump_creation_dates})\n",
    "both_new_article_creations = both_new_article_creations.reindex(_date_range).fillna(0)\n",
    "\n",
    "# Revisions\n",
    "both_all_article_revisions = pd.DataFrame({'Clinton':_clinton_all_agg_df['revid'],\n",
    "                                           'Trump':_trump_all_agg_df['revid']})\n",
    "both_all_article_revisions = both_all_article_revisions.reindex(_date_range).fillna(0)\n",
    "\n",
    "both_new_article_revisions = pd.DataFrame({'Clinton':_clinton_new_agg_df['revid'],\n",
    "                                           'Trump':_trump_new_agg_df['revid']})\n",
    "both_new_article_revisions = both_new_article_revisions.reindex(_date_range).fillna(0)\n",
    "\n",
    "# Editors\n",
    "both_all_article_editors = pd.DataFrame({'Clinton':_clinton_all_editors,\n",
    "                                         'Trump':_trump_all_editors})\n",
    "both_new_article_editors = pd.DataFrame({'Clinton':_clinton_new_editors,\n",
    "                                         'Trump':_trump_new_editors})\n",
    "\n",
    "# Size\n",
    "both_all_article_size = pd.DataFrame({'Clinton':_clinton_all_agg_df['size_diff'].cumsum(),\n",
    "                                      'Trump':_trump_all_agg_df['size_diff'].cumsum()})\n",
    "both_all_article_size = both_all_article_size.reindex(_date_range).fillna(method='ffill')\n",
    "both_new_article_size = pd.DataFrame({'Clinton':_clinton_new_agg_df['size_diff'].cumsum(),\n",
    "                                      'Trump':_trump_new_agg_df['size_diff'].cumsum()})\n",
    "both_new_article_size = both_new_article_size.reindex(_date_range).fillna(method='ffill')\n",
    "\n",
    "# Pageviews\n",
    "both_all_article_pvs = pd.DataFrame({'Clinton':_clinton_all_pvs,\n",
    "                                     'Trump':_trump_all_pvs})\n",
    "both_all_article_pvs = both_all_article_pvs.reindex(_date_range).fillna(0)\n",
    "both_new_article_pvs = pd.DataFrame({'Clinton':_clinton_new_pvs,\n",
    "                                     'Trump':_trump_new_pvs})\n",
    "both_new_article_pvs = both_new_article_pvs.reindex(_date_range).fillna(0)"
   ]
  },
  {
   "cell_type": "markdown",
   "metadata": {},
   "source": [
    "Make the plots."
   ]
  },
  {
   "cell_type": "code",
   "execution_count": 155,
   "metadata": {},
   "outputs": [
    {
     "name": "stderr",
     "output_type": "stream",
     "text": [
      "C:\\ProgramData\\Anaconda3\\lib\\site-packages\\matplotlib\\scale.py:489: RuntimeWarning: invalid value encountered in sign\n",
      "  sign = np.sign(a)\n",
      "C:\\ProgramData\\Anaconda3\\lib\\site-packages\\numpy\\ma\\core.py:2146: RuntimeWarning: invalid value encountered in greater_equal\n",
      "  condition = (xf >= v1) & (xf <= v2)\n",
      "C:\\ProgramData\\Anaconda3\\lib\\site-packages\\numpy\\ma\\core.py:2146: RuntimeWarning: invalid value encountered in less_equal\n",
      "  condition = (xf >= v1) & (xf <= v2)\n",
      "C:\\ProgramData\\Anaconda3\\lib\\site-packages\\matplotlib\\scale.py:489: RuntimeWarning: invalid value encountered in sign\n",
      "  sign = np.sign(a)\n",
      "C:\\ProgramData\\Anaconda3\\lib\\site-packages\\numpy\\ma\\core.py:2146: RuntimeWarning: invalid value encountered in greater_equal\n",
      "  condition = (xf >= v1) & (xf <= v2)\n",
      "C:\\ProgramData\\Anaconda3\\lib\\site-packages\\numpy\\ma\\core.py:2146: RuntimeWarning: invalid value encountered in less_equal\n",
      "  condition = (xf >= v1) & (xf <= v2)\n"
     ]
    },
    {
     "data": {
      "image/png": "[encoded data removed]",
      "text/plain": [
       "<Figure size 720x432 with 5 Axes>"
      ]
     },
     "metadata": {
      "needs_background": "light"
     },
     "output_type": "display_data"
    }
   ],
   "source": [
    "f,axs = plt.subplots(2,3,figsize=(10,6))\n",
    "\n",
    "both_new_article_creations.cumsum().plot(color=['b','r'],lw=2,legend=False,ax=axs[0][0])\n",
    "axs[0][0].set_ylim((0,1e4))\n",
    "axs[0][0].set_yscale('symlog')\n",
    "axs[0][0].set_ylabel('Articles')\n",
    "axs[0][0].set_title('Cumulative article creation')\n",
    "\n",
    "both_all_article_revisions.cumsum().plot(color=['b','r'],lw=2,legend=False,ax=axs[0][1])\n",
    "both_new_article_revisions.cumsum().plot(color=['b','r'],style=['--','--'],lw=2,legend=False,ax=axs[0][1])\n",
    "axs[0][1].set_ylim((0,1e7))\n",
    "axs[0][1].set_yscale('symlog')\n",
    "axs[0][1].set_ylabel('Revisions')\n",
    "axs[0][1].set_title('Cumulative revisions')\n",
    "\n",
    "both_all_article_editors.plot(color=['b','r'],lw=2,legend=False,ax=axs[0][2])\n",
    "both_new_article_editors.plot(color=['b','r'],style=['--','--'],lw=2,legend=False,ax=axs[0][2])\n",
    "axs[0][2].set_ylim((0,1e5))\n",
    "axs[0][2].set_yticks([0,1e0,1e1,1e2,1e3,1e4,1e5])\n",
    "axs[0][2].set_yscale('symlog')\n",
    "axs[0][2].set_ylabel('Editors')\n",
    "axs[0][2].set_title('Cumulative editors')\n",
    "\n",
    "both_all_article_size.plot(color=['b','r'],lw=2,legend=False,ax=axs[1][0])\n",
    "both_new_article_size.plot(color=['b','r'],style=['--','--'],lw=2,legend=False,ax=axs[1][0])\n",
    "axs[1][0].set_ylim((0,1e8))\n",
    "axs[1][0].set_yscale('symlog')\n",
    "axs[1][0].set_ylabel('Bytes')\n",
    "axs[1][0].set_yticks([0,1e0,1e2,1e4,1e6,1e8])\n",
    "axs[1][0].set_title('Cumulative diffs')\n",
    "\n",
    "both_all_article_pvs.cumsum().plot(color=['b','r'],lw=2,legend=False,ax=axs[1][1])\n",
    "both_new_article_pvs.cumsum().plot(color=['b','r'],style=['--','--'],lw=2,legend=False,ax=axs[1][1])\n",
    "axs[1][1].set_ylim((0,1e10))\n",
    "axs[1][1].set_yscale('symlog')\n",
    "axs[1][1].set_ylabel('Page views')\n",
    "axs[1][1].set_yticks([0,1e0,1e2,1e4,1e6,1e8,1e10])\n",
    "axs[1][1].set_title('Cumulative page views')\n",
    "\n",
    "#axs[3].axvline(pd.Timestamp('2015-07-01'),color='k',zorder=10, lw=1)\n",
    "#axs[3].annotate('*',xy=(pd.Timestamp('2015-07-15'),1e9),va=\"center\", ha=\"left\", color='k', size=12)\n",
    "\n",
    "for _ax,_height in zip(axs.flatten(),[4e3,3e6,3e5,2e9,2e9]):\n",
    "    _ax.axvline(pd.Timestamp('2015-04-12'),color='k',zorder=-1, lw=.5) # Clinton Announcement\n",
    "    _ax.annotate('A',xy=(pd.Timestamp('2015-01-15'),_height),va=\"center\", ha=\"left\", color='k', size=12)\n",
    "    \n",
    "    _ax.axvline(pd.Timestamp('2015-06-13'),color='k',zorder=-1, lw=.5) # Trump Announcement\n",
    "    _ax.annotate('B',xy=(pd.Timestamp('2015-06-23'),_height),va=\"center\", ha=\"left\", color='k', size=12)\n",
    "\n",
    "    _ax.axvline(pd.Timestamp('2016-11-08'),color='k',zorder=-1, lw=.5) # Election\n",
    "    _ax.annotate('J',xy=(pd.Timestamp('2016-09-15'),_height),va=\"center\", ha=\"left\", color='k', size=12)\n",
    "    \n",
    "    _ax.axvline(pd.Timestamp('2017-01-20'),color='k',zorder=-1, lw=.5) # Inauguration\n",
    "    _ax.annotate('K',xy=(pd.Timestamp('2017-01-30'),_height),va=\"center\", ha=\"left\", color='k', size=12)\n",
    "\n",
    "f.delaxes(axs[1][2])    \n",
    "\n",
    "plt.tight_layout()\n",
    "plt.savefig('child_article_dynamics_wide.pdf',bbox_inches='tight')"
   ]
  },
  {
   "cell_type": "markdown",
   "metadata": {},
   "source": [
    "### Revisions\n",
    "Generate the stats reported in the manuscript."
   ]
  },
  {
   "cell_type": "code",
   "execution_count": 49,
   "metadata": {},
   "outputs": [
    {
     "name": "stdout",
     "output_type": "stream",
     "text": [
      "Clinton's all related articles had a mean of 5.9 pre-campaign revisions\n",
      "Trump's all related articles had a mean of 4.4 pre-campaign revisions\n",
      "H = 410.9 (p = 2.351e-91)\n",
      "\n",
      "Clinton's new related articles had a mean of 1.7 pre-campaign revisions\n",
      "Trump's new related articles had a mean of 0.2 pre-campaign revisions\n",
      "H = 39.2 (p = 3.827e-10)\n",
      "\n",
      "-------------\n",
      "\n",
      "Clinton's all related articles had a mean of 28.2 campaign revisions\n",
      "Trump's all related articles had a mean of 55.0 campaign revisions\n",
      "H = 267.0 (p = 5.208e-60)\n",
      "\n",
      "Clinton's new related articles had a mean of 41.1 campaign revisions\n",
      "Trump's new related articles had a mean of 38.2 campaign revisions\n",
      "H = 82.6 (p = 1.013e-19)\n",
      "\n",
      "-------------\n",
      "\n",
      "Clinton's all related articles had a mean of 19.2 post-campaign revisions\n",
      "Trump's all related articles had a mean of 154.6 post-campaign revisions\n",
      "H = 351.5 (p = 1.960e-78)\n",
      "\n",
      "Clinton's new related articles had a mean of 38.8 post-campaign revisions\n",
      "Trump's new related articles had a mean of 144.1 post-campaign revisions\n",
      "H = 11.9 (p = 5.635e-04)\n",
      "\n"
     ]
    }
   ],
   "source": [
    "_clinton_all_revs_for_stats =  _clinton_all_agg_df['revid'].unstack(0).reindex(_date_range).fillna(0)\n",
    "_trump_all_revs_for_stats = _trump_all_agg_df['revid'].unstack(0).reindex(_date_range).fillna(0)\n",
    "\n",
    "_clinton_new_revs_for_stats =  _clinton_new_agg_df['revid'].unstack(0).reindex(_date_range).fillna(0)\n",
    "_trump_new_revs_for_stats = _trump_new_agg_df['revid'].unstack(0).reindex(_date_range).fillna(0)\n",
    "\n",
    "# January to Trump announcement revisions\n",
    "_clinton_precampaign_all_revs = _clinton_all_revs_for_stats.loc['2015-01-01':'2015-06-12'].sum()\n",
    "_trump_precampaign_all_revs = _trump_all_revs_for_stats.loc['2015-01-01':'2015-06-12'].sum()\n",
    "_H_precampaign_all_revs, _p_precampaign_all_revs = stats.kruskal(_clinton_precampaign_all_revs,_trump_precampaign_all_revs)\n",
    "\n",
    "_clinton_precampaign_new_revs = _clinton_new_revs_for_stats.loc['2015-01-01':'2015-06-12'].sum()\n",
    "_trump_precampaign_new_revs = _trump_new_revs_for_stats.loc['2015-01-01':'2015-06-12'].sum()\n",
    "_H_precampaign_new_revs, _p_precampaign_new_revs = stats.kruskal(_clinton_precampaign_new_revs,_trump_precampaign_new_revs)\n",
    "\n",
    "print(\"Clinton's all related articles had a mean of {0:,.1f} pre-campaign revisions\\nTrump's all related articles had a mean of {1:,.1f} pre-campaign revisions\\nH = {2:.1f} (p = {3:.3e})\\n\".format(_clinton_precampaign_all_revs.mean(),_trump_precampaign_all_revs.mean(),_H_precampaign_all_revs,_p_precampaign_all_revs))\n",
    "print(\"Clinton's new related articles had a mean of {0:,.1f} pre-campaign revisions\\nTrump's new related articles had a mean of {1:,.1f} pre-campaign revisions\\nH = {2:.1f} (p = {3:.3e})\\n\".format(_clinton_precampaign_new_revs.mean(),_trump_precampaign_new_revs.mean(),_H_precampaign_new_revs,_p_precampaign_new_revs))\n",
    "print(\"-------------\\n\")\n",
    "\n",
    "# Campaign revisions\n",
    "_clinton_campaign_all_revs = _clinton_all_revs_for_stats.loc['2015-06-13':'2016-11-07'].sum()\n",
    "_trump_campaign_all_revs = _trump_all_revs_for_stats.loc['2015-06-13':'2016-11-07'].sum()\n",
    "_H_campaign_all_revs, _p_campaign_all_revs = stats.kruskal(_clinton_campaign_all_revs,_trump_campaign_all_revs)\n",
    "\n",
    "_clinton_campaign_new_revs = _clinton_new_revs_for_stats.loc['2015-06-13':'2016-11-07'].sum()\n",
    "_trump_campaign_new_revs = _trump_new_revs_for_stats.loc['2015-06-13':'2016-11-07'].sum()\n",
    "_H_campaign_new_revs, _p_campaign_new_revs = stats.kruskal(_clinton_campaign_new_revs,_trump_campaign_new_revs)\n",
    "\n",
    "print(\"Clinton's all related articles had a mean of {0:,.1f} campaign revisions\\nTrump's all related articles had a mean of {1:,.1f} campaign revisions\\nH = {2:.1f} (p = {3:.3e})\\n\".format(_clinton_campaign_all_revs.mean(),_trump_campaign_all_revs.mean(),_H_campaign_all_revs,_p_campaign_all_revs))\n",
    "print(\"Clinton's new related articles had a mean of {0:,.1f} campaign revisions\\nTrump's new related articles had a mean of {1:,.1f} campaign revisions\\nH = {2:.1f} (p = {3:.3e})\\n\".format(_clinton_campaign_new_revs.mean(),_trump_campaign_new_revs.mean(),_H_campaign_new_revs,_p_campaign_new_revs))\n",
    "print(\"-------------\\n\")\n",
    "\n",
    "# Post-election revisions\n",
    "_clinton_postcampaign_all_revs = _clinton_all_revs_for_stats.loc['2016-11-08':'2017-11-09'].sum()\n",
    "_trump_postcampaign_all_revs = _trump_all_revs_for_stats.loc['2016-11-08':'2017-11-09'].sum()\n",
    "_H_postcampaign_all_revs, _p_postcampaign_all_revs = stats.kruskal(_clinton_postcampaign_all_revs,_trump_postcampaign_all_revs)\n",
    "\n",
    "_clinton_postcampaign_new_revs = _clinton_new_revs_for_stats.loc['2016-11-08':'2017-11-09'].sum()\n",
    "_trump_postcampaign_new_revs = _trump_new_revs_for_stats.loc['2016-11-08':'2017-11-09'].sum()\n",
    "_H_postcampaign_new_revs, _p_postcampaign_new_revs = stats.kruskal(_clinton_postcampaign_new_revs,_trump_postcampaign_new_revs)\n",
    "\n",
    "print(\"Clinton's all related articles had a mean of {0:,.1f} post-campaign revisions\\nTrump's all related articles had a mean of {1:,.1f} post-campaign revisions\\nH = {2:.1f} (p = {3:.3e})\\n\".format(_clinton_postcampaign_all_revs.mean(),_trump_postcampaign_all_revs.mean(),_H_postcampaign_all_revs,_p_postcampaign_all_revs))\n",
    "print(\"Clinton's new related articles had a mean of {0:,.1f} post-campaign revisions\\nTrump's new related articles had a mean of {1:,.1f} post-campaign revisions\\nH = {2:.1f} (p = {3:.3e})\\n\".format(_clinton_postcampaign_new_revs.mean(),_trump_postcampaign_new_revs.mean(),_H_postcampaign_new_revs,_p_postcampaign_new_revs))"
   ]
  },
  {
   "cell_type": "markdown",
   "metadata": {},
   "source": [
    "Total revision by election."
   ]
  },
  {
   "cell_type": "code",
   "execution_count": 50,
   "metadata": {},
   "outputs": [
    {
     "data": {
      "text/plain": [
       "Clinton    43010.0\n",
       "Trump      55232.0\n",
       "Name: 2016-11-07 00:00:00, dtype: float64"
      ]
     },
     "execution_count": 50,
     "metadata": {},
     "output_type": "execute_result"
    }
   ],
   "source": [
    "both_all_article_revisions.cumsum().loc['2016-11-07']"
   ]
  },
  {
   "cell_type": "code",
   "execution_count": 51,
   "metadata": {},
   "outputs": [
    {
     "data": {
      "text/plain": [
       "Clinton     3602.0\n",
       "Trump      26557.0\n",
       "Name: 2016-11-07 00:00:00, dtype: float64"
      ]
     },
     "execution_count": 51,
     "metadata": {},
     "output_type": "execute_result"
    }
   ],
   "source": [
    "both_new_article_revisions.cumsum().loc['2016-11-07']"
   ]
  },
  {
   "cell_type": "markdown",
   "metadata": {},
   "source": [
    "Top articles from the pre-campaign phase."
   ]
  },
  {
   "cell_type": "code",
   "execution_count": 52,
   "metadata": {},
   "outputs": [
    {
     "data": {
      "text/plain": [
       "page\n",
       "Hillary Clinton presidential campaign, 2016    518.0\n",
       "Ash Carter                                     207.0\n",
       "NATO bombing of Yugoslavia                     174.0\n",
       "Broad City                                     142.0\n",
       "Sheryl Sandberg                                123.0\n",
       "dtype: float64"
      ]
     },
     "execution_count": 52,
     "metadata": {},
     "output_type": "execute_result"
    }
   ],
   "source": [
    "_clinton_precampaign_all_revs.sort_values(ascending=False).head()"
   ]
  },
  {
   "cell_type": "code",
   "execution_count": 53,
   "metadata": {},
   "outputs": [
    {
     "data": {
      "text/plain": [
       "page\n",
       "Clinton Cash                    57.0\n",
       "Executive Order 13175           26.0\n",
       "Maryscott (Scotty) Greenwood    17.0\n",
       "Clinton: The Musical            15.0\n",
       "Ann O'Leary                     10.0\n",
       "dtype: float64"
      ]
     },
     "execution_count": 53,
     "metadata": {},
     "output_type": "execute_result"
    }
   ],
   "source": [
    "_clinton_precampaign_new_revs.sort_values(ascending=False).head()"
   ]
  },
  {
   "cell_type": "code",
   "execution_count": 54,
   "metadata": {},
   "outputs": [
    {
     "data": {
      "text/plain": [
       "page\n",
       "Miss Universe                      684.0\n",
       "The Apprentice (U.S. season 14)    437.0\n",
       "Ben Carson                         350.0\n",
       "Mike Pence                         168.0\n",
       "Rick Perry                         142.0\n",
       "dtype: float64"
      ]
     },
     "execution_count": 54,
     "metadata": {},
     "output_type": "execute_result"
    }
   ],
   "source": [
    "_trump_precampaign_all_revs.sort_values(ascending=False).head()"
   ]
  },
  {
   "cell_type": "code",
   "execution_count": 55,
   "metadata": {},
   "outputs": [
    {
     "data": {
      "text/plain": [
       "page\n",
       "Internet Research Agency    56.0\n",
       "Pepe the Frog               36.0\n",
       "Sally Yates                 20.0\n",
       "Donald Grump                 1.0\n",
       "Executive Order 13789        0.0\n",
       "dtype: float64"
      ]
     },
     "execution_count": 55,
     "metadata": {},
     "output_type": "execute_result"
    }
   ],
   "source": [
    "_trump_precampaign_new_revs.sort_values(ascending=False).head()"
   ]
  },
  {
   "cell_type": "markdown",
   "metadata": {},
   "source": [
    "Top articles from the campaign phase."
   ]
  },
  {
   "cell_type": "code",
   "execution_count": 56,
   "metadata": {},
   "outputs": [
    {
     "data": {
      "text/plain": [
       "page\n",
       "Hillary Clinton presidential campaign, 2016    1520.0\n",
       "Political positions of Hillary Clinton         1005.0\n",
       "Tim Kaine                                       964.0\n",
       "Huma Abedin                                     896.0\n",
       "2016 Democratic National Convention             868.0\n",
       "dtype: float64"
      ]
     },
     "execution_count": 56,
     "metadata": {},
     "output_type": "execute_result"
    }
   ],
   "source": [
    "_clinton_campaign_all_revs.sort_values(ascending=False).head()"
   ]
  },
  {
   "cell_type": "code",
   "execution_count": 57,
   "metadata": {},
   "outputs": [
    {
     "data": {
      "text/plain": [
       "page\n",
       "Khizr and Ghazala Khan                                           475.0\n",
       "Hillary's America: The Secret History of the Democratic Party    365.0\n",
       "Democratic Party vice presidential candidate selection, 2016     240.0\n",
       "Clinton Foundationâ€“State Department controversy                225.0\n",
       "Clinton Cash                                                     215.0\n",
       "dtype: float64"
      ]
     },
     "execution_count": 57,
     "metadata": {},
     "output_type": "execute_result"
    }
   ],
   "source": [
    "_clinton_campaign_new_revs.sort_values(ascending=False).head()"
   ]
  },
  {
   "cell_type": "code",
   "execution_count": 58,
   "metadata": {},
   "outputs": [
    {
     "data": {
      "text/plain": [
       "page\n",
       "List of Donald Trump presidential campaign endorsements, 2016    5135.0\n",
       "Donald Trump presidential campaign, 2016                         4775.0\n",
       "Miss Universe                                                    2216.0\n",
       "Political positions of Donald Trump                              1962.0\n",
       "Ben Carson                                                       1538.0\n",
       "dtype: float64"
      ]
     },
     "execution_count": 58,
     "metadata": {},
     "output_type": "execute_result"
    }
   ],
   "source": [
    "_trump_campaign_all_revs.sort_values(ascending=False).head()"
   ]
  },
  {
   "cell_type": "code",
   "execution_count": 59,
   "metadata": {},
   "outputs": [
    {
     "data": {
      "text/plain": [
       "page\n",
       "List of Donald Trump presidential campaign endorsements, 2016                   5135.0\n",
       "Donald Trump presidential campaign, 2016                                        4775.0\n",
       "Political positions of Donald Trump                                             1962.0\n",
       "Donald Trump sexual misconduct allegations                                      1517.0\n",
       "List of Republicans who opposed the Donald Trump presidential campaign, 2016    1051.0\n",
       "dtype: float64"
      ]
     },
     "execution_count": 59,
     "metadata": {},
     "output_type": "execute_result"
    }
   ],
   "source": [
    "_trump_campaign_new_revs.sort_values(ascending=False).head()"
   ]
  },
  {
   "cell_type": "markdown",
   "metadata": {},
   "source": [
    "Top articles from the post-campaign phase."
   ]
  },
  {
   "cell_type": "code",
   "execution_count": 60,
   "metadata": {},
   "outputs": [
    {
     "data": {
      "text/plain": [
       "page\n",
       "What Happened (Clinton book)                                                      504.0\n",
       "List of Hillary Clinton presidential campaign non-political endorsements, 2016    444.0\n",
       "Hillary Clinton presidential campaign, 2016                                       442.0\n",
       "Ruth Bader Ginsburg                                                               428.0\n",
       "Bill Clinton                                                                      421.0\n",
       "dtype: float64"
      ]
     },
     "execution_count": 60,
     "metadata": {},
     "output_type": "execute_result"
    }
   ],
   "source": [
    "_clinton_postcampaign_all_revs.sort_values(ascending=False).head()"
   ]
  },
  {
   "cell_type": "code",
   "execution_count": 61,
   "metadata": {},
   "outputs": [
    {
     "data": {
      "text/plain": [
       "page\n",
       "What Happened (Clinton book)                                                      504.0\n",
       "List of Hillary Clinton presidential campaign non-political endorsements, 2016    444.0\n",
       "Hillary's America: The Secret History of the Democratic Party                     149.0\n",
       "Steve Rabinowitz                                                                  141.0\n",
       "Verrit                                                                            124.0\n",
       "dtype: float64"
      ]
     },
     "execution_count": 61,
     "metadata": {},
     "output_type": "execute_result"
    }
   ],
   "source": [
    "_clinton_postcampaign_new_revs.sort_values(ascending=False).head()"
   ]
  },
  {
   "cell_type": "code",
   "execution_count": 62,
   "metadata": {},
   "outputs": [
    {
     "data": {
      "text/plain": [
       "page\n",
       "Political appointments by Donald Trump    4331.0\n",
       "2017 Women's March                        4238.0\n",
       "Unite the Right rally                     3432.0\n",
       "Executive Order 13769                     3179.0\n",
       "Protests against Donald Trump             2849.0\n",
       "dtype: float64"
      ]
     },
     "execution_count": 62,
     "metadata": {},
     "output_type": "execute_result"
    }
   ],
   "source": [
    "_trump_postcampaign_all_revs.sort_values(ascending=False).head()"
   ]
  },
  {
   "cell_type": "code",
   "execution_count": 63,
   "metadata": {},
   "outputs": [
    {
     "data": {
      "text/plain": [
       "page\n",
       "Political appointments by Donald Trump    4331.0\n",
       "2017 Women's March                        4238.0\n",
       "Unite the Right rally                     3432.0\n",
       "Executive Order 13769                     3179.0\n",
       "Protests against Donald Trump             2849.0\n",
       "dtype: float64"
      ]
     },
     "execution_count": 63,
     "metadata": {},
     "output_type": "execute_result"
    }
   ],
   "source": [
    "_trump_postcampaign_new_revs.sort_values(ascending=False).head()"
   ]
  },
  {
   "cell_type": "markdown",
   "metadata": {},
   "source": [
    "### Editors\n",
    "\n",
    "How many editors per page over different eras of the campaign?"
   ]
  },
  {
   "cell_type": "code",
   "execution_count": 64,
   "metadata": {},
   "outputs": [
    {
     "name": "stdout",
     "output_type": "stream",
     "text": [
      "Clinton's all related articles had a mean of 5.0 pre-campaign editors\n",
      "Trump's all related articles had a mean of 11.1 pre-campaign editors\n",
      "H = 45.4 (p = 1.620e-11)\n",
      "\n",
      "Clinton's new related articles had a mean of 6.8 pre-campaign editors\n",
      "Trump's new related articles had a mean of 8.5 pre-campaign editors\n",
      "H = 0.6 (p = 4.423e-01)\n",
      "\n",
      "-------------\n",
      "\n",
      "Clinton's all related articles had a mean of 14.1 campaign editors\n",
      "Trump's all related articles had a mean of 49.2 campaign editors\n",
      "H = 129.6 (p = 5.086e-30)\n",
      "\n",
      "Clinton's new related articles had a mean of 18.5 campaign editors\n",
      "Trump's new related articles had a mean of 50.1 campaign editors\n",
      "H = 4.3 (p = 3.722e-02)\n",
      "\n",
      "-------------\n",
      "\n",
      "Clinton's all related articles had a mean of 10.6 post-campaign editors\n",
      "Trump's all related articles had a mean of 47.3 post-campaign editors\n",
      "H = 240.5 (p = 2.987e-54)\n",
      "\n",
      "Clinton's new related articles had a mean of 15.6 post-campaign editors\n",
      "Trump's new related articles had a mean of 38.0 post-campaign editors\n",
      "H = 3.8 (p = 5.268e-02)\n",
      "\n"
     ]
    }
   ],
   "source": [
    "_clinton_all_editors_for_stats =  _clinton_all_subdf.groupby(['page','date'])['user'].apply(list_set)\n",
    "_trump_all_editors_for_stats = _trump_all_subdf.groupby(['page','date'])['user'].apply(list_set)\n",
    "\n",
    "_clinton_new_editors_for_stats =  _clinton_new_subdf.groupby(['page','date'])['user'].apply(list_set)\n",
    "_trump_new_editors_for_stats = _trump_new_subdf.groupby(['page','date'])['user'].apply(list_set)\n",
    "\n",
    "# January to Trump announcement revisions\n",
    "_clinton_precampaign_all_editors = _clinton_all_editors_for_stats.loc[:,slice('2015-01-01','2015-06-12')].sum(level=0).apply(list_set).apply(len)\n",
    "_trump_precampaign_all_editors = _trump_all_editors_for_stats.loc[:,slice('2015-01-01','2015-06-12')].sum(level=0).apply(list_set).apply(len)\n",
    "_H_precampaign_all_editors, _p_precampaign_all_editors = stats.kruskal(_clinton_precampaign_all_editors,_trump_precampaign_all_editors)\n",
    "\n",
    "_clinton_precampaign_new_editors = _clinton_new_editors_for_stats.loc[:,slice('2015-01-01','2015-06-12')].sum(level=0).apply(list_set).apply(len)\n",
    "_trump_precampaign_new_editors = _trump_new_editors_for_stats.loc[:,slice('2015-01-01','2015-06-12')].sum(level=0).apply(list_set).apply(len)\n",
    "_H_precampaign_new_editors, _p_precampaign_new_editors = stats.kruskal(_clinton_precampaign_new_editors,_trump_precampaign_new_editors)\n",
    "\n",
    "print(\"Clinton's all related articles had a mean of {0:,.1f} pre-campaign editors\\nTrump's all related articles had a mean of {1:,.1f} pre-campaign editors\\nH = {2:.1f} (p = {3:.3e})\\n\".format(_clinton_precampaign_all_editors.mean(),_trump_precampaign_all_editors.mean(),_H_precampaign_all_editors,_p_precampaign_all_editors))\n",
    "print(\"Clinton's new related articles had a mean of {0:,.1f} pre-campaign editors\\nTrump's new related articles had a mean of {1:,.1f} pre-campaign editors\\nH = {2:.1f} (p = {3:.3e})\\n\".format(_clinton_precampaign_new_editors.mean(),_trump_precampaign_new_editors.mean(),_H_precampaign_new_editors,_p_precampaign_new_editors))\n",
    "print(\"-------------\\n\")\n",
    "\n",
    "# Campaign revisions\n",
    "_clinton_campaign_all_editors = _clinton_all_editors_for_stats.loc[:,slice('2015-06-13','2016-11-07')].sum(level=0).apply(list_set).apply(len)\n",
    "_trump_campaign_all_editors = _trump_all_editors_for_stats.loc[:,slice('2015-06-13','2016-11-07')].sum(level=0).apply(list_set).apply(len)\n",
    "_H_campaign_all_editors, _p_campaign_all_editors = stats.kruskal(_clinton_campaign_all_editors,_trump_campaign_all_editors)\n",
    "\n",
    "_clinton_campaign_new_editors = _clinton_new_editors_for_stats.loc[:,slice('2015-06-13','2016-11-07')].sum(level=0).apply(list_set).apply(len)\n",
    "_trump_campaign_new_editors = _trump_new_editors_for_stats.loc[:,slice('2015-06-13','2016-11-07')].sum(level=0).apply(list_set).apply(len)\n",
    "_H_campaign_new_editors, _p_campaign_new_editors = stats.kruskal(_clinton_campaign_new_editors,_trump_campaign_new_editors)\n",
    "\n",
    "print(\"Clinton's all related articles had a mean of {0:,.1f} campaign editors\\nTrump's all related articles had a mean of {1:,.1f} campaign editors\\nH = {2:.1f} (p = {3:.3e})\\n\".format(_clinton_campaign_all_editors.mean(),_trump_campaign_all_editors.mean(),_H_campaign_all_editors,_p_campaign_all_editors))\n",
    "print(\"Clinton's new related articles had a mean of {0:,.1f} campaign editors\\nTrump's new related articles had a mean of {1:,.1f} campaign editors\\nH = {2:.1f} (p = {3:.3e})\\n\".format(_clinton_campaign_new_editors.mean(),_trump_campaign_new_editors.mean(),_H_campaign_new_editors,_p_campaign_new_editors))\n",
    "print(\"-------------\\n\")\n",
    "\n",
    "# Post-election revisions\n",
    "_clinton_postcampaign_all_editors = _clinton_all_editors_for_stats.loc[:,slice('2016-11-08','2017-11-09')].sum(level=0).apply(list_set).apply(len)\n",
    "_trump_postcampaign_all_editors = _trump_all_editors_for_stats.loc[:,slice('2016-11-08','2017-11-09')].sum(level=0).apply(list_set).apply(len)\n",
    "_H_postcampaign_all_editors, _p_postcampaign_all_editors = stats.kruskal(_clinton_postcampaign_all_editors,_trump_postcampaign_all_editors)\n",
    "\n",
    "_clinton_postcampaign_new_editors = _clinton_new_editors_for_stats.loc[:,slice('2016-11-08','2017-11-09')].sum(level=0).apply(list_set).apply(len)\n",
    "_trump_postcampaign_new_editors = _trump_new_editors_for_stats.loc[:,slice('2016-11-08','2017-11-09')].sum(level=0).apply(list_set).apply(len)\n",
    "_H_postcampaign_new_editors, _p_postcampaign_new_editors = stats.kruskal(_clinton_postcampaign_new_editors,_trump_postcampaign_new_editors)\n",
    "\n",
    "print(\"Clinton's all related articles had a mean of {0:,.1f} post-campaign editors\\nTrump's all related articles had a mean of {1:,.1f} post-campaign editors\\nH = {2:.1f} (p = {3:.3e})\\n\".format(_clinton_postcampaign_all_editors.mean(),_trump_postcampaign_all_editors.mean(),_H_postcampaign_all_editors,_p_postcampaign_all_editors))\n",
    "print(\"Clinton's new related articles had a mean of {0:,.1f} post-campaign editors\\nTrump's new related articles had a mean of {1:,.1f} post-campaign editors\\nH = {2:.1f} (p = {3:.3e})\\n\".format(_clinton_postcampaign_new_editors.mean(),_trump_postcampaign_new_editors.mean(),_H_postcampaign_new_editors,_p_postcampaign_new_editors))"
   ]
  },
  {
   "cell_type": "code",
   "execution_count": 65,
   "metadata": {},
   "outputs": [
    {
     "name": "stdout",
     "output_type": "stream",
     "text": [
      "Clinton's all articles had 20,460 editors between January 1, 2015 and November 7, 2016\n",
      "Clinton's new articles had 1,067 editors between January 1, 2015 and November 7, 2016\n",
      "Trump's all articles had 19,505 editors between January 1, 2015 and November 7, 2016\n",
      "Trump's new articles had 6,492 editors between January 1, 2015 and November 7, 2016\n"
     ]
    }
   ],
   "source": [
    "print(\"Clinton's all articles had {0:,} editors between January 1, 2015 and November 7, 2016\".format(_clinton_all_editors_for_stats.loc[:,slice('2015-01-01','2016-11-07')].sum(level=0).apply(list_set).apply(len).sum()))\n",
    "print(\"Clinton's new articles had {0:,} editors between January 1, 2015 and November 7, 2016\".format(_clinton_new_editors_for_stats.loc[:,slice('2015-01-01','2016-11-07')].sum(level=0).apply(list_set).apply(len).sum()))\n",
    "\n",
    "print(\"Trump's all articles had {0:,} editors between January 1, 2015 and November 7, 2016\".format(_trump_all_editors_for_stats.loc[:,slice('2015-01-01','2016-11-07')].sum(level=0).apply(list_set).apply(len).sum()))\n",
    "print(\"Trump's new articles had {0:,} editors between January 1, 2015 and November 7, 2016\".format(_trump_new_editors_for_stats.loc[:,slice('2015-01-01','2016-11-07')].sum(level=0).apply(list_set).apply(len).sum()))"
   ]
  },
  {
   "cell_type": "markdown",
   "metadata": {},
   "source": [
    "How many article revisions per editor over different eras of the campaign?"
   ]
  },
  {
   "cell_type": "code",
   "execution_count": 66,
   "metadata": {},
   "outputs": [
    {
     "name": "stdout",
     "output_type": "stream",
     "text": [
      "Clinton's all related articles had a mean of 2.1 campaign revisions per editor\n",
      "Trump's all related articles had a mean of 2.9 campaign revisions per editor\n",
      "H = 235.5 (p = 3.787e-53)\n",
      "\n",
      "Clinton's new related articles had a mean of 3.4 campaign revisions per editor\n",
      "Trump's new related articles had a mean of 4.1 campaign revisions per editor\n",
      "H = 6.3 (p = 1.206e-02)\n",
      "\n"
     ]
    }
   ],
   "source": [
    "# Campaign revisions\n",
    "_clinton_campaign_all_rpe = _clinton_all_subdf[(_clinton_all_subdf['date'] < pd.Timestamp('2016-11-07')) & (_clinton_all_subdf['date'] > pd.Timestamp('2015-06-13'))].groupby(['user','page']).agg({'revid':len})['revid']\n",
    "_trump_campaign_all_rpe = _trump_all_subdf[(_trump_all_subdf['date'] < pd.Timestamp('2016-11-07')) & (_trump_all_subdf['date'] > pd.Timestamp('2015-06-13'))].groupby(['user','page']).agg({'revid':len})['revid']\n",
    "_H_campaign_all_rpe, _p_campaign_all_rpe = stats.kruskal(_clinton_campaign_all_rpe,_trump_campaign_all_rpe)\n",
    "\n",
    "_clinton_campaign_new_rpe = _clinton_new_subdf[(_clinton_new_subdf['date'] < pd.Timestamp('2016-11-07')) & (_clinton_new_subdf['date'] > pd.Timestamp('2015-06-13'))].groupby(['user','page']).agg({'revid':len})['revid']\n",
    "_trump_campaign_new_rpe = _trump_new_subdf[(_trump_new_subdf['date'] < pd.Timestamp('2016-11-07')) & (_trump_new_subdf['date'] > pd.Timestamp('2015-06-13'))].groupby(['user','page']).agg({'revid':len})['revid']\n",
    "_H_campaign_new_rpe, _p_campaign_new_rpe = stats.kruskal(_clinton_campaign_new_rpe,_trump_campaign_new_rpe)\n",
    "\n",
    "print(\"Clinton's all related articles had a mean of {0:,.1f} campaign revisions per editor\\nTrump's all related articles had a mean of {1:,.1f} campaign revisions per editor\\nH = {2:.1f} (p = {3:.3e})\\n\".format(_clinton_campaign_all_rpe.mean(),_trump_campaign_all_rpe.mean(),_H_campaign_all_rpe,_p_campaign_all_rpe))\n",
    "print(\"Clinton's new related articles had a mean of {0:,.1f} campaign revisions per editor\\nTrump's new related articles had a mean of {1:,.1f} campaign revisions per editor\\nH = {2:.1f} (p = {3:.3e})\\n\".format(_clinton_campaign_new_rpe.mean(),_trump_campaign_new_rpe.mean(),_H_campaign_new_rpe,_p_campaign_new_rpe))"
   ]
  },
  {
   "cell_type": "markdown",
   "metadata": {},
   "source": [
    "### Diff sizes"
   ]
  },
  {
   "cell_type": "code",
   "execution_count": 67,
   "metadata": {},
   "outputs": [
    {
     "name": "stdout",
     "output_type": "stream",
     "text": [
      "Clinton's all related articles had a mean of 320.9 pre-campaign diffs\n",
      "Trump's all related articles had a mean of 155.1 pre-campaign diffs\n",
      "H = 97.9 (p = 4.446e-23)\n",
      "\n",
      "Clinton's new related articles had a mean of 372.8 pre-campaign diffs\n",
      "Trump's new related articles had a mean of 19.1 pre-campaign diffs\n",
      "H = 24.2 (p = 8.814e-07)\n",
      "\n",
      "-------------\n",
      "\n",
      "Clinton's all related articles had a mean of 1,572.5 campaign diffs\n",
      "Trump's all related articles had a mean of 3,405.6 campaign diffs\n",
      "H = 0.5 (p = 4.787e-01)\n",
      "\n",
      "Clinton's new related articles had a mean of 4,360.1 campaign diffs\n",
      "Trump's new related articles had a mean of 3,069.8 campaign diffs\n",
      "H = 81.9 (p = 1.451e-19)\n",
      "\n",
      "-------------\n",
      "\n",
      "Clinton's all related articles had a mean of 1,740.1 post-campaign diffs\n",
      "Trump's all related articles had a mean of 12,069.6 post-campaign diffs\n",
      "H = 147.5 (p = 6.173e-34)\n",
      "\n",
      "Clinton's new related articles had a mean of 2,286.4 post-campaign diffs\n",
      "Trump's new related articles had a mean of 13,135.9 post-campaign diffs\n",
      "H = 21.3 (p = 3.867e-06)\n",
      "\n"
     ]
    }
   ],
   "source": [
    "_clinton_all_diffs_for_stats =  _clinton_all_agg_df['size_diff'].unstack(0).reindex(_date_range).fillna(0)\n",
    "_trump_all_diffs_for_stats = _trump_all_agg_df['size_diff'].unstack(0).reindex(_date_range).fillna(0)\n",
    "\n",
    "_clinton_new_diffs_for_stats =  _clinton_new_agg_df['size_diff'].unstack(0).reindex(_date_range).fillna(0)\n",
    "_trump_new_diffs_for_stats = _trump_new_agg_df['size_diff'].unstack(0).reindex(_date_range).fillna(0)\n",
    "\n",
    "# January to Trump announcement revisions\n",
    "_clinton_precampaign_all_diffs = _clinton_all_diffs_for_stats.loc['2015-01-01':'2015-06-12'].sum()\n",
    "_trump_precampaign_all_diffs = _trump_all_diffs_for_stats.loc['2015-01-01':'2015-06-12'].sum()\n",
    "_H_precampaign_all_diffs, _p_precampaign_all_diffs = stats.kruskal(_clinton_precampaign_all_diffs,_trump_precampaign_all_diffs)\n",
    "\n",
    "_clinton_precampaign_new_diffs = _clinton_new_diffs_for_stats.loc['2015-01-01':'2015-06-12'].sum()\n",
    "_trump_precampaign_new_diffs = _trump_new_diffs_for_stats.loc['2015-01-01':'2015-06-12'].sum()\n",
    "_H_precampaign_new_diffs, _p_precampaign_new_diffs = stats.kruskal(_clinton_precampaign_new_diffs,_trump_precampaign_new_diffs)\n",
    "\n",
    "print(\"Clinton's all related articles had a mean of {0:,.1f} pre-campaign diffs\\nTrump's all related articles had a mean of {1:,.1f} pre-campaign diffs\\nH = {2:.1f} (p = {3:.3e})\\n\".format(_clinton_precampaign_all_diffs.mean(),_trump_precampaign_all_diffs.mean(),_H_precampaign_all_diffs,_p_precampaign_all_diffs))\n",
    "print(\"Clinton's new related articles had a mean of {0:,.1f} pre-campaign diffs\\nTrump's new related articles had a mean of {1:,.1f} pre-campaign diffs\\nH = {2:.1f} (p = {3:.3e})\\n\".format(_clinton_precampaign_new_diffs.mean(),_trump_precampaign_new_diffs.mean(),_H_precampaign_new_diffs,_p_precampaign_new_diffs))\n",
    "print(\"-------------\\n\")\n",
    "\n",
    "# Campaign revisions\n",
    "_clinton_campaign_all_diffs = _clinton_all_diffs_for_stats.loc['2015-06-13':'2016-11-07'].sum()\n",
    "_trump_campaign_all_diffs = _trump_all_diffs_for_stats.loc['2015-06-13':'2016-11-07'].sum()\n",
    "_H_campaign_all_diffs, _p_campaign_all_diffs = stats.kruskal(_clinton_campaign_all_diffs,_trump_campaign_all_diffs)\n",
    "\n",
    "_clinton_campaign_new_diffs = _clinton_new_diffs_for_stats.loc['2015-06-13':'2016-11-07'].sum()\n",
    "_trump_campaign_new_diffs = _trump_new_diffs_for_stats.loc['2015-06-13':'2016-11-07'].sum()\n",
    "_H_campaign_new_diffs, _p_campaign_new_diffs = stats.kruskal(_clinton_campaign_new_diffs,_trump_campaign_new_diffs)\n",
    "\n",
    "print(\"Clinton's all related articles had a mean of {0:,.1f} campaign diffs\\nTrump's all related articles had a mean of {1:,.1f} campaign diffs\\nH = {2:.1f} (p = {3:.3e})\\n\".format(_clinton_campaign_all_diffs.mean(),_trump_campaign_all_diffs.mean(),_H_campaign_all_diffs,_p_campaign_all_diffs))\n",
    "print(\"Clinton's new related articles had a mean of {0:,.1f} campaign diffs\\nTrump's new related articles had a mean of {1:,.1f} campaign diffs\\nH = {2:.1f} (p = {3:.3e})\\n\".format(_clinton_campaign_new_diffs.mean(),_trump_campaign_new_diffs.mean(),_H_campaign_new_diffs,_p_campaign_new_diffs))\n",
    "print(\"-------------\\n\")\n",
    "\n",
    "# Post-election revisions\n",
    "_clinton_postcampaign_all_diffs = _clinton_all_diffs_for_stats.loc['2016-11-08':'2017-11-09'].sum()\n",
    "_trump_postcampaign_all_diffs = _trump_all_diffs_for_stats.loc['2016-11-08':'2017-11-09'].sum()\n",
    "_H_postcampaign_all_diffs, _p_postcampaign_all_diffs = stats.kruskal(_clinton_postcampaign_all_diffs,_trump_postcampaign_all_diffs)\n",
    "\n",
    "_clinton_postcampaign_new_diffs = _clinton_new_diffs_for_stats.loc['2016-11-08':'2017-11-09'].sum()\n",
    "_trump_postcampaign_new_diffs = _trump_new_diffs_for_stats.loc['2016-11-08':'2017-11-09'].sum()\n",
    "_H_postcampaign_new_diffs, _p_postcampaign_new_diffs = stats.kruskal(_clinton_postcampaign_new_diffs,_trump_postcampaign_new_diffs)\n",
    "\n",
    "print(\"Clinton's all related articles had a mean of {0:,.1f} post-campaign diffs\\nTrump's all related articles had a mean of {1:,.1f} post-campaign diffs\\nH = {2:.1f} (p = {3:.3e})\\n\".format(_clinton_postcampaign_all_diffs.mean(),_trump_postcampaign_all_diffs.mean(),_H_postcampaign_all_diffs,_p_postcampaign_all_diffs))\n",
    "print(\"Clinton's new related articles had a mean of {0:,.1f} post-campaign diffs\\nTrump's new related articles had a mean of {1:,.1f} post-campaign diffs\\nH = {2:.1f} (p = {3:.3e})\\n\".format(_clinton_postcampaign_new_diffs.mean(),_trump_postcampaign_new_diffs.mean(),_H_postcampaign_new_diffs,_p_postcampaign_new_diffs))"
   ]
  },
  {
   "cell_type": "code",
   "execution_count": 68,
   "metadata": {},
   "outputs": [
    {
     "name": "stdout",
     "output_type": "stream",
     "text": [
      "Clinton's all articles added 2,389.462 kilobytes between January 1, 2015 and November 7, 2016\n",
      "Clinton's new articles added 397.561 kilobytes between January 1, 2015 and November 7, 2016\n",
      "Trump's all articles added 3,315.077 kilobytes between January 1, 2015 and November 7, 2016\n",
      "Trump's new articles added 2,137.52 kilobytes between January 1, 2015 and November 7, 2016\n"
     ]
    }
   ],
   "source": [
    "print(\"Clinton's all articles added {0:,} kilobytes between January 1, 2015 and November 7, 2016\".format(_clinton_all_diffs_for_stats.loc['2015-01-01':'2016-11-07'].sum().sum()/1000.))\n",
    "print(\"Clinton's new articles added {0:,} kilobytes between January 1, 2015 and November 7, 2016\".format(_clinton_new_diffs_for_stats.loc['2015-01-01':'2016-11-07'].sum().sum()/1000.))\n",
    "\n",
    "print(\"Trump's all articles added {0:,} kilobytes between January 1, 2015 and November 7, 2016\".format(_trump_all_diffs_for_stats.loc['2015-01-01':'2016-11-07'].sum().sum()/1000.))\n",
    "print(\"Trump's new articles added {0:,} kilobytes between January 1, 2015 and November 7, 2016\".format(_trump_new_diffs_for_stats.loc['2015-01-01':'2016-11-07'].sum().sum()/1000.))"
   ]
  },
  {
   "cell_type": "code",
   "execution_count": 69,
   "metadata": {},
   "outputs": [
    {
     "name": "stdout",
     "output_type": "stream",
     "text": [
      "Clinton's all related articles had a mean of 117.8 campaign bytes added per editor\n",
      "Trump's all related articles had a mean of 179.0 campaign bytes added per editor\n",
      "H = 34.0 (p = 5.410e-09)\n",
      "\n",
      "Clinton's new related articles had a mean of 364.4 campaign bytes added per editor\n",
      "Trump's new related articles had a mean of 330.5 campaign bytes added per editor\n",
      "H = 0.8 (p = 3.625e-01)\n",
      "\n"
     ]
    }
   ],
   "source": [
    "# Campaign revisions\n",
    "_clinton_campaign_all_dpe = _clinton_all_subdf[(_clinton_all_subdf['date'] < pd.Timestamp('2016-11-07')) & (_clinton_all_subdf['date'] > pd.Timestamp('2015-06-13'))].groupby(['user','page']).agg({'size_diff':np.sum})['size_diff']\n",
    "_trump_campaign_all_dpe = _trump_all_subdf[(_trump_all_subdf['date'] < pd.Timestamp('2016-11-07')) & (_trump_all_subdf['date'] > pd.Timestamp('2015-06-13'))].groupby(['user','page']).agg({'size_diff':np.sum})['size_diff']\n",
    "_H_campaign_all_dpe, _p_campaign_all_dpe = stats.kruskal(_clinton_campaign_all_dpe.fillna(0),_trump_campaign_all_dpe.fillna(0))\n",
    "\n",
    "_clinton_campaign_new_dpe = _clinton_new_subdf[(_clinton_new_subdf['date'] < pd.Timestamp('2016-11-07')) & (_clinton_new_subdf['date'] > pd.Timestamp('2015-06-13'))].groupby(['user','page']).agg({'size_diff':np.sum})['size_diff']\n",
    "_trump_campaign_new_dpe = _trump_new_subdf[(_trump_new_subdf['date'] < pd.Timestamp('2016-11-07')) & (_trump_new_subdf['date'] > pd.Timestamp('2015-06-13'))].groupby(['user','page']).agg({'size_diff':np.sum})['size_diff']\n",
    "_H_campaign_new_dpe, _p_campaign_new_dpe = stats.kruskal(_clinton_campaign_new_dpe.fillna(0),_trump_campaign_new_dpe.fillna(0))\n",
    "\n",
    "print(\"Clinton's all related articles had a mean of {0:,.1f} campaign bytes added per editor\\nTrump's all related articles had a mean of {1:,.1f} campaign bytes added per editor\\nH = {2:.1f} (p = {3:.3e})\\n\".format(_clinton_campaign_all_dpe.mean(),_trump_campaign_all_dpe.mean(),_H_campaign_all_dpe,_p_campaign_all_dpe))\n",
    "print(\"Clinton's new related articles had a mean of {0:,.1f} campaign bytes added per editor\\nTrump's new related articles had a mean of {1:,.1f} campaign bytes added per editor\\nH = {2:.1f} (p = {3:.3e})\\n\".format(_clinton_campaign_new_dpe.mean(),_trump_campaign_new_dpe.mean(),_H_campaign_new_dpe,_p_campaign_new_dpe))"
   ]
  },
  {
   "cell_type": "markdown",
   "metadata": {},
   "source": [
    "### Page views"
   ]
  },
  {
   "cell_type": "code",
   "execution_count": 72,
   "metadata": {},
   "outputs": [
    {
     "name": "stdout",
     "output_type": "stream",
     "text": [
      "Clinton's all related articles had a mean of 123,519.3 campaign page views\n",
      "Trump's all related articles had a mean of 163,686.3 campaign page views\n",
      "H = 352.3 (p = 1.321e-78)\n",
      "\n",
      "Clinton's new related articles had a mean of 30,498.3 campaign page views\n",
      "Trump's new related articles had a mean of 26,015.0 campaign page views\n",
      "H = 81.0 (p = 2.276e-19)\n",
      "\n",
      "-------------\n",
      "\n",
      "Clinton's all related articles had a mean of 75,875.0 post-campaign page views\n",
      "Trump's all related articles had a mean of 300,260.5 post-campaign page views\n",
      "H = 37.9 (p = 7.398e-10)\n",
      "\n",
      "Clinton's new related articles had a mean of 50,004.2 post-campaign page views\n",
      "Trump's new related articles had a mean of 114,707.4 post-campaign page views\n",
      "H = 1.1 (p = 2.955e-01)\n",
      "\n"
     ]
    }
   ],
   "source": [
    "# Campaign revisions\n",
    "_clinton_campaign_all_pageviews = cleaned_clinton_pv_df.loc[idx[_clinton_all_articles,'2015-07-01':'2016-11-07'],idx[('all-agents','all-access')]].sum(level=0)\n",
    "_trump_campaign_all_pageviews = cleaned_trump_pv_df.loc[idx[_trump_all_articles,'2015-07-01':'2016-11-07'],idx[('all-agents','all-access')]].sum(level=0)\n",
    "_H_campaign_all_pageviews, _p_campaign_all_pageviews = stats.kruskal(_clinton_campaign_all_pageviews,_trump_campaign_all_pageviews)\n",
    "\n",
    "_clinton_campaign_new_pageviews = cleaned_clinton_pv_df.loc[idx[_clinton_new_articles,'2015-07-01':'2016-11-07'],idx[('all-agents','all-access')]].sum(level=0)\n",
    "_trump_campaign_new_pageviews = cleaned_trump_pv_df.loc[idx[_trump_new_articles,'2015-07-01':'2016-11-07'],idx[('all-agents','all-access')]].sum(level=0)\n",
    "_H_campaign_new_pageviews, _p_campaign_new_pageviews = stats.kruskal(_clinton_campaign_new_pageviews,_trump_campaign_new_pageviews)\n",
    "\n",
    "print(\"Clinton's all related articles had a mean of {0:,.1f} campaign page views\\nTrump's all related articles had a mean of {1:,.1f} campaign page views\\nH = {2:.1f} (p = {3:.3e})\\n\".format(_clinton_campaign_all_pageviews.mean(),_trump_campaign_all_pageviews.mean(),_H_campaign_all_pageviews,_p_campaign_all_pageviews))\n",
    "print(\"Clinton's new related articles had a mean of {0:,.1f} campaign page views\\nTrump's new related articles had a mean of {1:,.1f} campaign page views\\nH = {2:.1f} (p = {3:.3e})\\n\".format(_clinton_campaign_new_pageviews.mean(),_trump_campaign_new_pageviews.mean(),_H_campaign_new_pageviews,_p_campaign_new_pageviews))\n",
    "print(\"-------------\\n\")\n",
    "\n",
    "# Post-election revisions\n",
    "_clinton_postcampaign_all_pageviews = cleaned_clinton_pv_df.loc[idx[_clinton_all_articles,'2016-11-08':'2017-11-09'],idx[('all-agents','all-access')]].sum(level=0)\n",
    "_trump_postcampaign_all_pageviews = cleaned_trump_pv_df.loc[idx[_trump_all_articles,'2016-11-08':'2017-11-09'],idx[('all-agents','all-access')]].sum(level=0)\n",
    "_H_postcampaign_all_pageviews, _p_postcampaign_all_pageviews = stats.kruskal(_clinton_postcampaign_all_pageviews,_trump_postcampaign_all_pageviews)\n",
    "\n",
    "_clinton_postcampaign_new_pageviews = cleaned_clinton_pv_df.loc[idx[_clinton_new_articles,'2016-11-08':'2017-11-09'],idx[('all-agents','all-access')]].sum(level=0)\n",
    "_trump_postcampaign_new_pageviews = cleaned_trump_pv_df.loc[idx[_trump_new_articles,'2016-11-08':'2017-11-09'],idx[('all-agents','all-access')]].sum(level=0)\n",
    "_H_postcampaign_new_pageviews, _p_postcampaign_new_pageviews = stats.kruskal(_clinton_postcampaign_new_pageviews,_trump_postcampaign_new_pageviews)\n",
    "\n",
    "print(\"Clinton's all related articles had a mean of {0:,.1f} post-campaign page views\\nTrump's all related articles had a mean of {1:,.1f} post-campaign page views\\nH = {2:.1f} (p = {3:.3e})\\n\".format(_clinton_postcampaign_all_pageviews.mean(),_trump_postcampaign_all_pageviews.mean(),_H_postcampaign_all_pageviews,_p_postcampaign_all_pageviews))\n",
    "print(\"Clinton's new related articles had a mean of {0:,.1f} post-campaign page views\\nTrump's new related articles had a mean of {1:,.1f} post-campaign page views\\nH = {2:.1f} (p = {3:.3e})\\n\".format(_clinton_postcampaign_new_pageviews.mean(),_trump_postcampaign_new_pageviews.mean(),_H_postcampaign_new_pageviews,_p_postcampaign_new_pageviews))"
   ]
  },
  {
   "cell_type": "code",
   "execution_count": 73,
   "metadata": {},
   "outputs": [
    {
     "name": "stdout",
     "output_type": "stream",
     "text": [
      "Clinton's all articles got 153,534,467.0 page views between July 1, 2015 and November 7, 2016\n",
      "Clinton's new articles got 2,470,364.0 page views between July 1, 2015 and November 7, 2016\n",
      "Trump's all articles got 147,808,719.0 page views between July 1, 2015 and November 7, 2016\n",
      "Trump's new articles got 17,299,942.0 page views between July 1, 2015 and November 7, 2016\n"
     ]
    }
   ],
   "source": [
    "print(\"Clinton's all articles got {0:,} page views between July 1, 2015 and November 7, 2016\".format(cleaned_clinton_pv_df.loc[idx[_clinton_all_articles,'2015-07-01':'2016-11-07'],idx[('all-agents','all-access')]].sum(level=0).sum()))\n",
    "print(\"Clinton's new articles got {0:,} page views between July 1, 2015 and November 7, 2016\".format(cleaned_clinton_pv_df.loc[idx[_clinton_new_articles,'2015-07-01':'2016-11-07'],idx[('all-agents','all-access')]].sum(level=0).sum()))\n",
    "\n",
    "print(\"Trump's all articles got {0:,} page views between July 1, 2015 and November 7, 2016\".format(cleaned_trump_pv_df.loc[idx[_trump_all_articles,'2015-07-01':'2016-11-07'],idx[('all-agents','all-access')]].sum(level=0).sum()))\n",
    "print(\"Trump's new articles got {0:,} page views between July 1, 2015 and November 7, 2016\".format(cleaned_trump_pv_df.loc[idx[_trump_new_articles,'2015-07-01':'2016-11-07'],idx[('all-agents','all-access')]].sum(level=0).sum()))"
   ]
  },
  {
   "cell_type": "markdown",
   "metadata": {},
   "source": [
    "# Editor dynamics\n",
    "\n",
    "Look at users for when they started editing in the Trump-o-sphere."
   ]
  },
  {
   "cell_type": "code",
   "execution_count": 74,
   "metadata": {
    "collapsed": true
   },
   "outputs": [],
   "source": [
    "# Subset the revisions to only those editors contributing to the Donald Trump page\n",
    "all_trump_editors_first_year = trump_rev_df.groupby('user').agg({'year':min})\n",
    "reg_trump_editors_first_year = trump_rev_df[(trump_rev_df['anon'] == 0)].groupby('user').agg({'year':min})\n",
    "\n",
    "# Group the editors by year and convert to a dictionary\n",
    "all_trump_cohorts_d = all_trump_editors_first_year.reset_index().groupby('year').agg({'user':lambda x:set(x)})['user'].to_dict()\n",
    "reg_trump_cohorts_d = reg_trump_editors_first_year.reset_index().groupby('year').agg({'user':lambda x:set(x)})['user'].to_dict()\n",
    "\n",
    "# Make the year key a string and the set value a list to help with serializing\n",
    "all_trump_cohorts_d = {str(_year):list(_list) for _year,_list in all_trump_cohorts_d.items()}\n",
    "reg_trump_cohorts_d = {str(_year):list(_list) for _year,_list in reg_trump_cohorts_d.items()}\n",
    "\n",
    "with open('all_trump_editor_annual_cohorts.json','w') as f:\n",
    "    json.dump(all_trump_cohorts_d,f)\n",
    "    \n",
    "with open('reg_trump_editor_annual_cohorts.json','w') as f:\n",
    "    json.dump(reg_trump_cohorts_d,f)"
   ]
  },
  {
   "cell_type": "code",
   "execution_count": 75,
   "metadata": {
    "collapsed": true
   },
   "outputs": [],
   "source": [
    "# Subset the revisions to only those editors contributing to the Hillary Clinton page\n",
    "all_clinton_editors_first_year = clinton_rev_df.groupby('user').agg({'year':min})\n",
    "reg_clinton_editors_first_year = clinton_rev_df[(clinton_rev_df['anon'] == 0)].groupby('user').agg({'year':min})\n",
    "\n",
    "# Group the editors by year and convert to a dictionary\n",
    "all_clinton_cohorts_d = all_clinton_editors_first_year.reset_index().groupby('year').agg({'user':lambda x:set(x)})['user'].to_dict()\n",
    "reg_clinton_cohorts_d = reg_clinton_editors_first_year.reset_index().groupby('year').agg({'user':lambda x:set(x)})['user'].to_dict()\n",
    "\n",
    "# Make the year key a string and the set value a list to help with serializing\n",
    "all_clinton_cohorts_d = {str(_year):list(_list) for _year,_list in all_clinton_cohorts_d.items()}\n",
    "reg_clinton_cohorts_d = {str(_year):list(_list) for _year,_list in reg_clinton_cohorts_d.items()}\n",
    "\n",
    "with open('all_clinton_editor_annual_cohorts.json','w') as f:\n",
    "    json.dump(all_clinton_cohorts_d,f)\n",
    "    \n",
    "with open('reg_clinton_editor_annual_cohorts.json','w') as f:\n",
    "    json.dump(reg_clinton_cohorts_d,f)"
   ]
  },
  {
   "cell_type": "code",
   "execution_count": 78,
   "metadata": {},
   "outputs": [
    {
     "data": {
      "text/plain": [
       "<matplotlib.legend.Legend at 0x19dd8352a20>"
      ]
     },
     "execution_count": 78,
     "metadata": {},
     "output_type": "execute_result"
    },
    {
     "data": {
      "image/png": "[encoded data removed]",
      "text/plain": [
       "<matplotlib.figure.Figure at 0x19d5ac9bfd0>"
      ]
     },
     "metadata": {},
     "output_type": "display_data"
    }
   ],
   "source": [
    "ax = trump_rev_df.groupby('year').agg({'user':pd.Series.nunique,'sha1':pd.Series.nunique}).plot(kind='bar',legend=False)\n",
    "ax.set_ylim(1,1e4)\n",
    "ax.set_yscale('symlog')\n",
    "ax.set_xlabel('')\n",
    "ax.set_ylabel('Count')\n",
    "plt.legend(['Users','Revisions'])"
   ]
  },
  {
   "cell_type": "code",
   "execution_count": 79,
   "metadata": {},
   "outputs": [
    {
     "data": {
      "text/plain": [
       "Text(0,0.5,'Unique editors')"
      ]
     },
     "execution_count": 79,
     "metadata": {},
     "output_type": "execute_result"
    },
    {
     "data": {
      "image/png": "[encoded data removed]",
      "text/plain": [
       "<matplotlib.figure.Figure at 0x19e042cd128>"
      ]
     },
     "metadata": {},
     "output_type": "display_data"
    }
   ],
   "source": [
    "editors_counts_df = pd.DataFrame({'All':{k:len(v) for k,v in all_trump_cohorts_d.items()},'Registered':{k:len(v) for k,v in reg_trump_cohorts_d.items()}})\n",
    "editors_counts_df.index = range(2004,2018)\n",
    "editors_counts_df['Anonymous'] = editors_counts_df['All'] - editors_counts_df['Registered']\n",
    "\n",
    "f,ax = plt.subplots(1,1,figsize=(6,4))\n",
    "editors_counts_df[['Registered','Anonymous']].plot(kind='bar',legend=False,stacked=True,ax=ax)\n",
    "\n",
    "ax.set_ylim((0,1200))\n",
    "ax.set_ylabel('Unique editors')\n",
    "#plt.legend(loc='center left',ncol=2,bbox_to_anchor=(.2,-.2))"
   ]
  },
  {
   "cell_type": "markdown",
   "metadata": {},
   "source": [
    "### User cohorts"
   ]
  },
  {
   "cell_type": "code",
   "execution_count": 80,
   "metadata": {
    "collapsed": true
   },
   "outputs": [],
   "source": [
    "trump_cohort_annual_revs = {}\n",
    "trump_cohort_annual_frac = {}\n",
    "\n",
    "for _year,_users in all_trump_cohorts_d.items():\n",
    "    trump_cohort_annual_revs[_year] = {}\n",
    "    trump_cohort_annual_frac[_year] = {}\n",
    "    for _annual in range(2004,2018):\n",
    "        cohort_revs = len(trump_rev_df[(trump_rev_df['user'].isin(_users)) & (trump_rev_df['year'] == _annual)])\n",
    "        annual_revs = len(trump_rev_df[(trump_rev_df['year'] == _annual)])\n",
    "        trump_cohort_annual_revs[_year][_annual] = cohort_revs\n",
    "        trump_cohort_annual_frac[_year][_annual] = cohort_revs/annual_revs\n",
    "        \n",
    "clinton_cohort_annual_revs = {}\n",
    "clinton_cohort_annual_frac = {}\n",
    "\n",
    "for _year,_users in all_clinton_cohorts_d.items():\n",
    "    clinton_cohort_annual_revs[_year] = {}\n",
    "    clinton_cohort_annual_frac[_year] = {}\n",
    "    for _annual in range(2001,2018):\n",
    "        cohort_revs = len(clinton_rev_df[(clinton_rev_df['user'].isin(_users)) & (clinton_rev_df['year'] == _annual)])\n",
    "        annual_revs = len(clinton_rev_df[(clinton_rev_df['year'] == _annual)])\n",
    "        clinton_cohort_annual_revs[_year][_annual] = cohort_revs\n",
    "        clinton_cohort_annual_frac[_year][_annual] = cohort_revs/annual_revs"
   ]
  },
  {
   "cell_type": "code",
   "execution_count": 81,
   "metadata": {},
   "outputs": [
    {
     "data": {
      "text/plain": [
       "<matplotlib.legend.Legend at 0x19e773d9358>"
      ]
     },
     "execution_count": 81,
     "metadata": {},
     "output_type": "execute_result"
    },
    {
     "name": "stderr",
     "output_type": "stream",
     "text": [
      "C:\\ProgramData\\Anaconda3\\lib\\site-packages\\matplotlib\\scale.py:290: RuntimeWarning: invalid value encountered in sign\n",
      "  sign = np.sign(a)\n",
      "C:\\ProgramData\\Anaconda3\\lib\\site-packages\\numpy\\ma\\core.py:2166: RuntimeWarning: invalid value encountered in greater_equal\n",
      "  condition = (xf >= v1) & (xf <= v2)\n",
      "C:\\ProgramData\\Anaconda3\\lib\\site-packages\\numpy\\ma\\core.py:2166: RuntimeWarning: invalid value encountered in less_equal\n",
      "  condition = (xf >= v1) & (xf <= v2)\n"
     ]
    },
    {
     "data": {
      "image/png": "[encoded data removed]",
      "text/plain": [
       "<matplotlib.figure.Figure at 0x19ec10411d0>"
      ]
     },
     "metadata": {},
     "output_type": "display_data"
    }
   ],
   "source": [
    "trump_cohort_annual_revs_df = pd.DataFrame(trump_cohort_annual_revs)\n",
    "# https://stackoverflow.com/questions/45631288/stack-a-square-dataframe-to-only-keep-the-upper-lower-triangle\n",
    "trump_cohort_annual_revs_df = trump_cohort_annual_revs_df.mask(np.triu(np.ones(trump_cohort_annual_revs_df.shape),1).astype(bool))\n",
    "\n",
    "f,ax = plt.subplots(1,1,figsize=(8,2))\n",
    "trump_cohort_annual_revs_df.plot(kind='line',ax=ax,legend=False,colormap='Spectral',lw=3)\n",
    "ax.set_yscale('symlog')\n",
    "ax.set_ylim((1e0,1e4))\n",
    "ax.set_xlabel('Year')\n",
    "ax.set_ylabel('Number of edits')\n",
    "plt.legend(loc='center left',bbox_to_anchor=(1,.5))"
   ]
  },
  {
   "cell_type": "code",
   "execution_count": 82,
   "metadata": {},
   "outputs": [
    {
     "data": {
      "image/png": "[encoded data removed]",
      "text/plain": [
       "<matplotlib.figure.Figure at 0x19ee8550f28>"
      ]
     },
     "metadata": {},
     "output_type": "display_data"
    }
   ],
   "source": [
    "clinton_cohort_annual_frac_df = pd.DataFrame(clinton_cohort_annual_frac)\n",
    "clinton_cohort_annual_frac_df.columns = range(2001,2018)\n",
    "trump_cohort_annual_frac_df = pd.DataFrame(trump_cohort_annual_frac)\n",
    "trump_cohort_annual_frac_df.columns = range(2004,2018)\n",
    "\n",
    "trump_cohort_annual_frac_df = trump_cohort_annual_frac_df.reindex_like(clinton_cohort_annual_frac_df)#.fillna(0)\n",
    "\n",
    "# https://stackoverflow.com/questions/45631288/stack-a-square-dataframe-to-only-keep-the-upper-lower-triangle\n",
    "trump_cohort_annual_frac_df = trump_cohort_annual_frac_df.mask(np.triu(np.ones(trump_cohort_annual_frac_df.shape),1).astype(bool))\n",
    "clinton_cohort_annual_frac_df = clinton_cohort_annual_frac_df.mask(np.triu(np.ones(clinton_cohort_annual_frac_df.shape),1).astype(bool))\n",
    "\n",
    "# Plot\n",
    "f,axs = plt.subplots(2,1,figsize=(8,4))\n",
    "\n",
    "clinton_cohort_annual_frac_df.plot(kind='area',legend=False,colormap='Spectral',ax=axs[0])\n",
    "axs[0].set_ylim((0,1))\n",
    "axs[0].set_xlabel('')\n",
    "axs[0].set_ylabel('Fraction of edits')\n",
    "axs[0].set_title('Hillary Clinton')\n",
    "\n",
    "trump_cohort_annual_frac_df.plot(kind='area',legend=False,colormap='Spectral',ax=axs[1])\n",
    "axs[1].set_ylim((0,1))\n",
    "axs[1].set_xlabel('')\n",
    "axs[1].set_ylabel('Fraction of edits')\n",
    "axs[1].set_title('Donald Trump')\n",
    "\n",
    "plt.legend(title='Cohort',loc='center left',bbox_to_anchor=(1,1.2))\n",
    "plt.tight_layout()\n",
    "\n",
    "for year in range(2002,2017):\n",
    "    axs[0].axvline(year,color='k',lw=.5)\n",
    "    axs[1].axvline(year,color='k',lw=.5)\n",
    "\n",
    "plt.savefig('cohort_fraction_edits.pdf',dpi=300,bbox_inches='tight')"
   ]
  },
  {
   "cell_type": "markdown",
   "metadata": {},
   "source": [
    "Clinton's 2005 cohort seems to have maintained an unusually high level of activity over a decade."
   ]
  },
  {
   "cell_type": "code",
   "execution_count": 83,
   "metadata": {},
   "outputs": [
    {
     "data": {
      "text/plain": [
       "2001         NaN\n",
       "2002         NaN\n",
       "2003         NaN\n",
       "2004         NaN\n",
       "2005    0.953989\n",
       "2006    0.206378\n",
       "2007    0.282664\n",
       "2008    0.246247\n",
       "2009    0.273649\n",
       "2010    0.234146\n",
       "2011    0.248366\n",
       "2012    0.231818\n",
       "2013    0.211356\n",
       "2014    0.360248\n",
       "2015    0.093126\n",
       "2016    0.055529\n",
       "2017    0.013725\n",
       "Name: 2005, dtype: float64"
      ]
     },
     "execution_count": 83,
     "metadata": {},
     "output_type": "execute_result"
    }
   ],
   "source": [
    "clinton_cohort_annual_frac_df.loc[:,2005]"
   ]
  },
  {
   "cell_type": "markdown",
   "metadata": {},
   "source": [
    "Which cohorts were most active during the campaign?"
   ]
  },
  {
   "cell_type": "code",
   "execution_count": 84,
   "metadata": {},
   "outputs": [
    {
     "data": {
      "text/plain": [
       "2001    0.000000\n",
       "2002    0.000000\n",
       "2003    0.000000\n",
       "2004    0.000000\n",
       "2005    0.055529\n",
       "2006    0.002373\n",
       "2007    0.077361\n",
       "2008    0.059326\n",
       "2009    0.003322\n",
       "2010    0.003797\n",
       "2011    0.007119\n",
       "2012    0.012814\n",
       "2013    0.035121\n",
       "2014    0.031324\n",
       "2015    0.194115\n",
       "2016    0.517798\n",
       "2017         NaN\n",
       "Name: 2016, dtype: float64"
      ]
     },
     "execution_count": 84,
     "metadata": {},
     "output_type": "execute_result"
    }
   ],
   "source": [
    "clinton_cohort_annual_frac_df.loc[2016,:]"
   ]
  },
  {
   "cell_type": "code",
   "execution_count": 85,
   "metadata": {},
   "outputs": [
    {
     "data": {
      "text/plain": [
       "2001         NaN\n",
       "2002         NaN\n",
       "2003         NaN\n",
       "2004    0.000107\n",
       "2005    0.000215\n",
       "2006    0.004076\n",
       "2007    0.002682\n",
       "2008    0.004398\n",
       "2009    0.000429\n",
       "2010    0.001716\n",
       "2011    0.077014\n",
       "2012    0.008688\n",
       "2013    0.023812\n",
       "2014    0.017162\n",
       "2015    0.267403\n",
       "2016    0.592299\n",
       "2017         NaN\n",
       "Name: 2016, dtype: float64"
      ]
     },
     "execution_count": 85,
     "metadata": {},
     "output_type": "execute_result"
    }
   ],
   "source": [
    "trump_cohort_annual_frac_df.loc[2016,:]"
   ]
  },
  {
   "cell_type": "markdown",
   "metadata": {},
   "source": [
    "Which cohorts were active in 2017?"
   ]
  },
  {
   "cell_type": "code",
   "execution_count": 86,
   "metadata": {},
   "outputs": [
    {
     "data": {
      "text/plain": [
       "2001    0.000000\n",
       "2002    0.000000\n",
       "2003    0.000000\n",
       "2004    0.000000\n",
       "2005    0.013725\n",
       "2006    0.017647\n",
       "2007    0.027451\n",
       "2008    0.013725\n",
       "2009    0.001961\n",
       "2010    0.000000\n",
       "2011    0.011765\n",
       "2012    0.005882\n",
       "2013    0.019608\n",
       "2014    0.007843\n",
       "2015    0.241176\n",
       "2016    0.215686\n",
       "2017    0.423529\n",
       "Name: 2017, dtype: float64"
      ]
     },
     "execution_count": 86,
     "metadata": {},
     "output_type": "execute_result"
    }
   ],
   "source": [
    "clinton_cohort_annual_frac_df.loc[2017,:]"
   ]
  },
  {
   "cell_type": "code",
   "execution_count": 87,
   "metadata": {},
   "outputs": [
    {
     "data": {
      "text/plain": [
       "2001         NaN\n",
       "2002         NaN\n",
       "2003         NaN\n",
       "2004    0.000233\n",
       "2005    0.000000\n",
       "2006    0.002799\n",
       "2007    0.004198\n",
       "2008    0.003032\n",
       "2009    0.000000\n",
       "2010    0.000700\n",
       "2011    0.048974\n",
       "2012    0.009095\n",
       "2013    0.009095\n",
       "2014    0.016325\n",
       "2015    0.286381\n",
       "2016    0.421409\n",
       "2017    0.197761\n",
       "Name: 2017, dtype: float64"
      ]
     },
     "execution_count": 87,
     "metadata": {},
     "output_type": "execute_result"
    }
   ],
   "source": [
    "trump_cohort_annual_frac_df.loc[2017,:]"
   ]
  },
  {
   "cell_type": "markdown",
   "metadata": {},
   "source": [
    "Was it one or many editors from the 2005 cohort who remained active over time?"
   ]
  },
  {
   "cell_type": "code",
   "execution_count": 88,
   "metadata": {},
   "outputs": [
    {
     "data": {
      "text/plain": [
       "Anythingyouwant        129\n",
       "Tvoz                     9\n",
       "Timrollpickering         6\n",
       "All Hallow's Wraith      4\n",
       "Jennica                  3\n",
       "Coffee                   3\n",
       "CommonsDelinker          1\n",
       "JamesReyes               1\n",
       "Wester                   1\n",
       "Bearcat                  1\n",
       "Acroterion               1\n",
       "Jauerback                1\n",
       "Chris the speller        1\n",
       "Seraphimblade            1\n",
       "Kaldari                  1\n",
       "Name: user, dtype: int64"
      ]
     },
     "execution_count": 88,
     "metadata": {},
     "output_type": "execute_result"
    }
   ],
   "source": [
    "clinton_rev_df[(clinton_rev_df['user'].isin(all_clinton_cohorts_d['2007'])) & (clinton_rev_df['year'] == 2016)]['user'].value_counts()"
   ]
  },
  {
   "cell_type": "markdown",
   "metadata": {},
   "source": [
    "### Unique users"
   ]
  },
  {
   "cell_type": "code",
   "execution_count": 90,
   "metadata": {
    "collapsed": true
   },
   "outputs": [],
   "source": [
    "daily_trump_editors_s = trump_rev_df.groupby(['date']).apply(lambda x:x['user'].unique())\n",
    "daily_clinton_editors_s = clinton_rev_df.groupby(['date']).apply(lambda x:x['user'].unique())\n",
    "\n",
    "daily_trump_editors_l = [set(daily_trump_editors_s.values[0])]\n",
    "daily_clinton_editors_l = [set(daily_clinton_editors_s.values[0])]\n",
    "\n",
    "for i,user_set in enumerate(daily_trump_editors_s.values):\n",
    "    if i>0:\n",
    "        daily_trump_editors_l.append(set(daily_trump_editors_l[i-1]) | set(user_set))\n",
    "        \n",
    "for i,user_set in enumerate(daily_clinton_editors_s.values):\n",
    "    if i>0:\n",
    "        daily_clinton_editors_l.append(set(daily_clinton_editors_l[i-1]) | set(user_set))\n",
    "        \n",
    "daily_c_clinton_editors = pd.Series(index=daily_clinton_editors_s.index,data=daily_clinton_editors_l).reindex(pd.date_range('2002-01-01','2017-11-09'))\n",
    "daily_c_trump_editors = pd.Series(index=daily_trump_editors_s.index,data=daily_trump_editors_l).reindex(pd.date_range('2002-01-01','2017-11-09'))\n",
    "\n",
    "daily_c_clinton_editors.loc['2002-01-01'] = set()\n",
    "daily_c_trump_editors.loc['2002-01-01'] = set()\n",
    "\n",
    "daily_c_clinton_editors.fillna(method='ffill',inplace=True)\n",
    "daily_c_trump_editors.fillna(method='ffill',inplace=True)\n",
    "\n",
    "daily_cumulative_editors = pd.DataFrame({'Trump':daily_c_trump_editors,'Clinton':daily_c_clinton_editors})\n",
    "daily_cumulative_editors_counts = pd.DataFrame({'Trump':daily_c_trump_editors.apply(len),'Clinton':daily_c_clinton_editors.apply(len)})\n",
    "daily_cumulative_editors_counts.fillna(method='ffill',inplace=True)"
   ]
  },
  {
   "cell_type": "code",
   "execution_count": 93,
   "metadata": {},
   "outputs": [
    {
     "data": {
      "text/plain": [
       "5792"
      ]
     },
     "execution_count": 93,
     "metadata": {},
     "output_type": "execute_result"
    }
   ],
   "source": [
    "len(daily_reg_trump_editors_l)"
   ]
  },
  {
   "cell_type": "code",
   "execution_count": 91,
   "metadata": {},
   "outputs": [
    {
     "ename": "ValueError",
     "evalue": "Wrong number of items passed 5792, placement implies 2694",
     "output_type": "error",
     "traceback": [
      "\u001b[1;31m---------------------------------------------------------------------------\u001b[0m",
      "\u001b[1;31mValueError\u001b[0m                                Traceback (most recent call last)",
      "\u001b[1;32m<ipython-input-91-81585aa268e7>\u001b[0m in \u001b[0;36m<module>\u001b[1;34m()\u001b[0m\n\u001b[0;32m     11\u001b[0m     \u001b[0mdaily_reg_clinton_editors_l\u001b[0m\u001b[1;33m.\u001b[0m\u001b[0mappend\u001b[0m\u001b[1;33m(\u001b[0m\u001b[0mset\u001b[0m\u001b[1;33m(\u001b[0m\u001b[0muser_set\u001b[0m\u001b[1;33m)\u001b[0m \u001b[1;33m-\u001b[0m \u001b[0mreg_clinton_users\u001b[0m\u001b[1;33m)\u001b[0m\u001b[1;33m\u001b[0m\u001b[0m\n\u001b[0;32m     12\u001b[0m \u001b[1;33m\u001b[0m\u001b[0m\n\u001b[1;32m---> 13\u001b[1;33m \u001b[0mdaily_c_trump_reg_editors\u001b[0m \u001b[1;33m=\u001b[0m \u001b[0mpd\u001b[0m\u001b[1;33m.\u001b[0m\u001b[0mSeries\u001b[0m\u001b[1;33m(\u001b[0m\u001b[0mindex\u001b[0m\u001b[1;33m=\u001b[0m\u001b[0mdaily_trump_editors_s\u001b[0m\u001b[1;33m.\u001b[0m\u001b[0mindex\u001b[0m\u001b[1;33m,\u001b[0m\u001b[0mdata\u001b[0m\u001b[1;33m=\u001b[0m\u001b[0mdaily_reg_trump_editors_l\u001b[0m\u001b[1;33m)\u001b[0m\u001b[1;33m\u001b[0m\u001b[0m\n\u001b[0m\u001b[0;32m     14\u001b[0m \u001b[0mdaily_c_clinton_reg_editors\u001b[0m \u001b[1;33m=\u001b[0m \u001b[0mpd\u001b[0m\u001b[1;33m.\u001b[0m\u001b[0mSeries\u001b[0m\u001b[1;33m(\u001b[0m\u001b[0mindex\u001b[0m\u001b[1;33m=\u001b[0m\u001b[0mdaily_clinton_editors_s\u001b[0m\u001b[1;33m.\u001b[0m\u001b[0mindex\u001b[0m\u001b[1;33m,\u001b[0m\u001b[0mdata\u001b[0m\u001b[1;33m=\u001b[0m\u001b[0mdaily_reg_clinton_editors_l\u001b[0m\u001b[1;33m)\u001b[0m\u001b[1;33m\u001b[0m\u001b[0m\n\u001b[0;32m     15\u001b[0m \u001b[1;33m\u001b[0m\u001b[0m\n",
      "\u001b[1;32mC:\\ProgramData\\Anaconda3\\lib\\site-packages\\pandas\\core\\series.py\u001b[0m in \u001b[0;36m__init__\u001b[1;34m(self, data, index, dtype, name, copy, fastpath)\u001b[0m\n\u001b[0;32m    248\u001b[0m                                        raise_cast_failure=True)\n\u001b[0;32m    249\u001b[0m \u001b[1;33m\u001b[0m\u001b[0m\n\u001b[1;32m--> 250\u001b[1;33m                 \u001b[0mdata\u001b[0m \u001b[1;33m=\u001b[0m \u001b[0mSingleBlockManager\u001b[0m\u001b[1;33m(\u001b[0m\u001b[0mdata\u001b[0m\u001b[1;33m,\u001b[0m \u001b[0mindex\u001b[0m\u001b[1;33m,\u001b[0m \u001b[0mfastpath\u001b[0m\u001b[1;33m=\u001b[0m\u001b[1;32mTrue\u001b[0m\u001b[1;33m)\u001b[0m\u001b[1;33m\u001b[0m\u001b[0m\n\u001b[0m\u001b[0;32m    251\u001b[0m \u001b[1;33m\u001b[0m\u001b[0m\n\u001b[0;32m    252\u001b[0m         \u001b[0mgeneric\u001b[0m\u001b[1;33m.\u001b[0m\u001b[0mNDFrame\u001b[0m\u001b[1;33m.\u001b[0m\u001b[0m__init__\u001b[0m\u001b[1;33m(\u001b[0m\u001b[0mself\u001b[0m\u001b[1;33m,\u001b[0m \u001b[0mdata\u001b[0m\u001b[1;33m,\u001b[0m \u001b[0mfastpath\u001b[0m\u001b[1;33m=\u001b[0m\u001b[1;32mTrue\u001b[0m\u001b[1;33m)\u001b[0m\u001b[1;33m\u001b[0m\u001b[0m\n",
      "\u001b[1;32mC:\\ProgramData\\Anaconda3\\lib\\site-packages\\pandas\\core\\internals.py\u001b[0m in \u001b[0;36m__init__\u001b[1;34m(self, block, axis, do_integrity_check, fastpath)\u001b[0m\n\u001b[0;32m   4115\u001b[0m         \u001b[1;32mif\u001b[0m \u001b[1;32mnot\u001b[0m \u001b[0misinstance\u001b[0m\u001b[1;33m(\u001b[0m\u001b[0mblock\u001b[0m\u001b[1;33m,\u001b[0m \u001b[0mBlock\u001b[0m\u001b[1;33m)\u001b[0m\u001b[1;33m:\u001b[0m\u001b[1;33m\u001b[0m\u001b[0m\n\u001b[0;32m   4116\u001b[0m             block = make_block(block, placement=slice(0, len(axis)), ndim=1,\n\u001b[1;32m-> 4117\u001b[1;33m                                fastpath=True)\n\u001b[0m\u001b[0;32m   4118\u001b[0m \u001b[1;33m\u001b[0m\u001b[0m\n\u001b[0;32m   4119\u001b[0m         \u001b[0mself\u001b[0m\u001b[1;33m.\u001b[0m\u001b[0mblocks\u001b[0m \u001b[1;33m=\u001b[0m \u001b[1;33m[\u001b[0m\u001b[0mblock\u001b[0m\u001b[1;33m]\u001b[0m\u001b[1;33m\u001b[0m\u001b[0m\n",
      "\u001b[1;32mC:\\ProgramData\\Anaconda3\\lib\\site-packages\\pandas\\core\\internals.py\u001b[0m in \u001b[0;36mmake_block\u001b[1;34m(values, placement, klass, ndim, dtype, fastpath)\u001b[0m\n\u001b[0;32m   2717\u001b[0m                      placement=placement, dtype=dtype)\n\u001b[0;32m   2718\u001b[0m \u001b[1;33m\u001b[0m\u001b[0m\n\u001b[1;32m-> 2719\u001b[1;33m     \u001b[1;32mreturn\u001b[0m \u001b[0mklass\u001b[0m\u001b[1;33m(\u001b[0m\u001b[0mvalues\u001b[0m\u001b[1;33m,\u001b[0m \u001b[0mndim\u001b[0m\u001b[1;33m=\u001b[0m\u001b[0mndim\u001b[0m\u001b[1;33m,\u001b[0m \u001b[0mfastpath\u001b[0m\u001b[1;33m=\u001b[0m\u001b[0mfastpath\u001b[0m\u001b[1;33m,\u001b[0m \u001b[0mplacement\u001b[0m\u001b[1;33m=\u001b[0m\u001b[0mplacement\u001b[0m\u001b[1;33m)\u001b[0m\u001b[1;33m\u001b[0m\u001b[0m\n\u001b[0m\u001b[0;32m   2720\u001b[0m \u001b[1;33m\u001b[0m\u001b[0m\n\u001b[0;32m   2721\u001b[0m \u001b[1;31m# TODO: flexible with index=None and/or items=None\u001b[0m\u001b[1;33m\u001b[0m\u001b[1;33m\u001b[0m\u001b[0m\n",
      "\u001b[1;32mC:\\ProgramData\\Anaconda3\\lib\\site-packages\\pandas\\core\\internals.py\u001b[0m in \u001b[0;36m__init__\u001b[1;34m(self, values, ndim, fastpath, placement, **kwargs)\u001b[0m\n\u001b[0;32m   1842\u001b[0m \u001b[1;33m\u001b[0m\u001b[0m\n\u001b[0;32m   1843\u001b[0m         super(ObjectBlock, self).__init__(values, ndim=ndim, fastpath=fastpath,\n\u001b[1;32m-> 1844\u001b[1;33m                                           placement=placement, **kwargs)\n\u001b[0m\u001b[0;32m   1845\u001b[0m \u001b[1;33m\u001b[0m\u001b[0m\n\u001b[0;32m   1846\u001b[0m     \u001b[1;33m@\u001b[0m\u001b[0mproperty\u001b[0m\u001b[1;33m\u001b[0m\u001b[0m\n",
      "\u001b[1;32mC:\\ProgramData\\Anaconda3\\lib\\site-packages\\pandas\\core\\internals.py\u001b[0m in \u001b[0;36m__init__\u001b[1;34m(self, values, placement, ndim, fastpath)\u001b[0m\n\u001b[0;32m    113\u001b[0m             raise ValueError('Wrong number of items passed %d, placement '\n\u001b[0;32m    114\u001b[0m                              'implies %d' % (len(self.values),\n\u001b[1;32m--> 115\u001b[1;33m                                              len(self.mgr_locs)))\n\u001b[0m\u001b[0;32m    116\u001b[0m \u001b[1;33m\u001b[0m\u001b[0m\n\u001b[0;32m    117\u001b[0m     \u001b[1;33m@\u001b[0m\u001b[0mproperty\u001b[0m\u001b[1;33m\u001b[0m\u001b[0m\n",
      "\u001b[1;31mValueError\u001b[0m: Wrong number of items passed 5792, placement implies 2694"
     ]
    }
   ],
   "source": [
    "reg_trump_users = set(trump_rev_df[(trump_rev_df['anon'] == 0)]['user'].unique())\n",
    "reg_clinton_users = set(clinton_rev_df[(clinton_rev_df['anon'] == 0)]['user'].unique())\n",
    "\n",
    "daily_reg_trump_editors_l = []\n",
    "daily_reg_clinton_editors_l = []\n",
    "\n",
    "for user_set in daily_c_trump_editors:\n",
    "    daily_reg_trump_editors_l.append(set(user_set) - reg_trump_users)\n",
    "        \n",
    "for user_set in daily_c_clinton_editors:\n",
    "    daily_reg_clinton_editors_l.append(set(user_set) - reg_clinton_users)\n",
    "        \n",
    "daily_c_trump_reg_editors = pd.Series(index=daily_trump_editors_s.index,data=daily_reg_trump_editors_l)\n",
    "daily_c_clinton_reg_editors = pd.Series(index=daily_clinton_editors_s.index,data=daily_reg_clinton_editors_l)\n",
    "\n",
    "daily_cumulative_reg_editors_counts = pd.DataFrame({'Trump':daily_c_trump_reg_editors.apply(len),'Clinton':daily_c_clinton_reg_editors.apply(len)})\n",
    "daily_cumulative_reg_editors_counts.fillna(method='ffill',inplace=True)"
   ]
  },
  {
   "cell_type": "code",
   "execution_count": null,
   "metadata": {
    "collapsed": true
   },
   "outputs": [],
   "source": [
    "bots_clinton = set(clinton_rev_df[clinton_rev_df['user'].isin(bot_list)]['user'].unique())\n",
    "bots_trump = set(trump_rev_df[trump_rev_df['user'].isin(bot_list)]['user'].unique())\n",
    "\n",
    "daily_bot_trump_editors_l = []\n",
    "daily_bot_clinton_editors_l = []\n",
    "\n",
    "for user_set in daily_c_clinton_editors:\n",
    "    daily_bot_clinton_editors_l.append(set(user_set) & bots_clinton)\n",
    "\n",
    "for user_set in daily_c_trump_editors:\n",
    "    daily_bot_trump_editors_l.append(set(user_set) & bots_trump)\n",
    "        \n",
    "daily_c_clinton_bot_editors = pd.Series(index=daily_clinton_editors_s.index,data=daily_bot_clinton_editors_l)\n",
    "daily_c_trump_bot_editors = pd.Series(index=daily_trump_editors_s.index,data=daily_bot_trump_editors_l)\n",
    "\n",
    "daily_cumulative_bot_editors_counts = pd.DataFrame({'Trump':daily_c_trump_bot_editors.apply(len),'Clinton':daily_c_clinton_bot_editors.apply(len)})\n",
    "daily_cumulative_bot_editors_counts.fillna(method='ffill',inplace=True)"
   ]
  },
  {
   "cell_type": "code",
   "execution_count": 811,
   "metadata": {},
   "outputs": [
    {
     "data": {
      "image/png": "[encoded data removed]",
      "text/plain": [
       "<matplotlib.figure.Figure at 0x21b9e91b748>"
      ]
     },
     "metadata": {},
     "output_type": "display_data"
    }
   ],
   "source": [
    "f,axs = plt.subplots(3,figsize=(6,4))\n",
    "\n",
    "daily_cumulative_editors_counts.plot(color=['b','r'],lw=3,legend=False,ax=axs[0])\n",
    "axs[0].set_ylim((0,8000))\n",
    "axs[0].set_ylabel('Unique editors')\n",
    "axs[0].yaxis.set_major_formatter(mpl.ticker.StrMethodFormatter('{x:,.0f}'))\n",
    "axs[0].set_xlabel('')\n",
    "axs[0].set_xticklabels(range(2003,2018,2),rotation=0,ha='center')\n",
    "axs[0].set_yticks([0,4000,8000])\n",
    "\n",
    "(daily_cumulative_reg_editors_counts/daily_cumulative_editors_counts).plot(color=['b','r'],lw=3,legend=False,ax=axs[1])\n",
    "axs[1].set_ylim((0,1))\n",
    "axs[1].set_ylabel('Unregistered Editors')\n",
    "axs[1].set_xlabel('')\n",
    "axs[1].set_xticklabels(range(2003,2018,2),rotation=0,ha='center')\n",
    "\n",
    "(daily_cumulative_bot_editors_counts/daily_cumulative_editors_counts).plot(color=['b','r'],lw=3,legend=False,ax=axs[2])\n",
    "axs[2].set_ylim((0,.04))\n",
    "axs[2].set_ylabel('Bots')\n",
    "axs[2].set_xlabel('')\n",
    "axs[2].set_xticklabels(range(2003,2018,2),rotation=0,ha='center')\n",
    "\n",
    "axs[0].axvline(pd.Timestamp('2015-06-01'),color='k',zorder=-1) # Announcement\n",
    "axs[0].annotate('A',xy=(pd.Timestamp('2015-06-15'),7000),va=\"center\", ha=\"left\", color='k', size=16)\n",
    "\n",
    "axs[0].axvline(pd.Timestamp('2017-01-20'),color='k',zorder=-1) # Inauguration\n",
    "axs[0].annotate('J',xy=(pd.Timestamp('2017-02-05'),7000),va=\"center\", ha=\"left\", color='k', size=16)\n",
    "\n",
    "axs[1].axvline(pd.Timestamp('2015-06-01'),color='k',zorder=-1) # Announcement\n",
    "axs[1].annotate('A',xy=(pd.Timestamp('2015-06-15'),.8),va=\"center\", ha=\"left\", color='k', size=16)\n",
    "\n",
    "axs[1].axvline(pd.Timestamp('2017-01-20'),color='k',zorder=-1) # Inauguration\n",
    "axs[1].annotate('J',xy=(pd.Timestamp('2017-02-05'),.8),va=\"center\", ha=\"left\", color='k', size=16)\n",
    "\n",
    "axs[2].axvline(pd.Timestamp('2015-06-01'),color='k',zorder=-1) # Announcement\n",
    "axs[2].annotate('A',xy=(pd.Timestamp('2015-06-15'),.0325),va=\"center\", ha=\"left\", color='k', size=16)\n",
    "\n",
    "axs[2].axvline(pd.Timestamp('2017-01-20'),color='k',zorder=-1) # Inauguration\n",
    "axs[2].annotate('J',xy=(pd.Timestamp('2017-02-05'),.0325),va=\"center\", ha=\"left\", color='k', size=16)\n",
    "\n",
    "plt.tight_layout()\n",
    "plt.savefig('cumulative_users.pdf')"
   ]
  },
  {
   "cell_type": "code",
   "execution_count": 371,
   "metadata": {},
   "outputs": [
    {
     "data": {
      "text/plain": [
       "Clinton    3581.0\n",
       "Trump      3332.0\n",
       "Name: 2015-01-01 00:00:00, dtype: float64"
      ]
     },
     "execution_count": 371,
     "metadata": {},
     "output_type": "execute_result"
    }
   ],
   "source": [
    "daily_cumulative_editors_counts.loc['2015-01-01']"
   ]
  },
  {
   "cell_type": "code",
   "execution_count": 373,
   "metadata": {},
   "outputs": [
    {
     "data": {
      "text/plain": [
       "Clinton    3652.0\n",
       "Trump      3432.0\n",
       "Name: 2015-06-13 00:00:00, dtype: float64"
      ]
     },
     "execution_count": 373,
     "metadata": {},
     "output_type": "execute_result"
    }
   ],
   "source": [
    "daily_cumulative_editors_counts.loc['2015-06-13']"
   ]
  },
  {
   "cell_type": "code",
   "execution_count": 372,
   "metadata": {},
   "outputs": [
    {
     "data": {
      "text/plain": [
       "Clinton    4145.0\n",
       "Trump      4773.0\n",
       "Name: 2016-11-08 00:00:00, dtype: float64"
      ]
     },
     "execution_count": 372,
     "metadata": {},
     "output_type": "execute_result"
    }
   ],
   "source": [
    "daily_cumulative_editors_counts.loc['2016-11-08']"
   ]
  },
  {
   "cell_type": "markdown",
   "metadata": {},
   "source": [
    "How much did the number of editors increase over the course of the campaign?"
   ]
  },
  {
   "cell_type": "code",
   "execution_count": 517,
   "metadata": {
    "scrolled": true
   },
   "outputs": [
    {
     "name": "stdout",
     "output_type": "stream",
     "text": [
      "Trump: 39.6%\n",
      "Clinton: 13.8%\n"
     ]
    }
   ],
   "source": [
    "print(\"Trump: {0:.1%}\".format((daily_cumulative_editors_counts.loc['2016-11-08','Trump'] - daily_cumulative_editors_counts.loc['2015-06-01','Trump'])/daily_cumulative_editors_counts.loc['2015-06-01','Trump']))\n",
    "print(\"Clinton: {0:.1%}\".format((daily_cumulative_editors_counts.loc['2016-11-08','Clinton'] - daily_cumulative_editors_counts.loc['2015-06-01','Clinton'])/daily_cumulative_editors_counts.loc['2015-06-01','Clinton']))"
   ]
  },
  {
   "cell_type": "markdown",
   "metadata": {},
   "source": [
    "### Revision fractions"
   ]
  },
  {
   "cell_type": "code",
   "execution_count": 94,
   "metadata": {
    "collapsed": true
   },
   "outputs": [],
   "source": [
    "clinton_daily_c_revs = clinton_rev_df.groupby('date').agg({'revid':pd.Series.nunique})['revid'].reindex(pd.date_range('2002-01-01','2017-11-09')).fillna(0).cumsum()\n",
    "trump_daily_c_revs = trump_rev_df.groupby('date').agg({'revid':pd.Series.nunique})['revid'].reindex(pd.date_range('2002-01-01','2017-11-09')).fillna(0).cumsum()\n",
    "related_clinton_daily_c_revs = all_clinton_rev_df[(all_clinton_rev_df['page'] != 'Hillary Clinton')].groupby('date').agg({'revid':pd.Series.nunique})['revid'].reindex(pd.date_range('2002-01-01','2017-11-09')).fillna(0).cumsum()\n",
    "related_trump_daily_c_revs = all_trump_rev_df[(all_trump_rev_df['page'] != 'Donald Trump')].groupby('date').agg({'revid':pd.Series.nunique})['revid'].reindex(pd.date_range('2002-01-01','2017-11-09')).fillna(0).cumsum()\n",
    "\n",
    "reg_clinton_users = set(clinton_rev_df[(clinton_rev_df['anon'] == 0)]['user'].unique())\n",
    "reg_trump_users = set(trump_rev_df[(trump_rev_df['anon'] == 0)]['user'].unique())\n",
    "reg_clinton_related_users = set(all_clinton_rev_df[(all_clinton_rev_df['anon'] == 0) & (all_clinton_rev_df['page'] != 'Hillary Clinton')]['user'].unique())\n",
    "reg_trump_related_users = set(all_trump_rev_df[(all_trump_rev_df['anon'] == 0) & (all_trump_rev_df['page'] != 'Donald Trump')]['user'].unique())\n",
    "\n",
    "bots_clinton = set(clinton_rev_df[clinton_rev_df['user'].isin(bot_list)]['user'].unique())\n",
    "bots_trump = set(trump_rev_df[trump_rev_df['user'].isin(bot_list)]['user'].unique())\n",
    "bots_clinton_related = set(all_clinton_rev_df[(all_clinton_rev_df['user'].isin(bot_list)) & (all_clinton_rev_df['page'] != 'Hillary Clinton')]['user'].unique())\n",
    "bots_trump_related = set(all_trump_rev_df[(all_trump_rev_df['user'].isin(bot_list)) & (all_trump_rev_df['page'] != 'Donald Trump')]['user'].unique())\n",
    "\n",
    "clinton_reg_revs = clinton_rev_df[clinton_rev_df['user'].isin(reg_clinton_users)].groupby('date').agg({'revid':pd.Series.nunique})['revid'].reindex(pd.date_range('2002-01-01','2017-11-09')).fillna(0).cumsum()\n",
    "trump_reg_revs = trump_rev_df[trump_rev_df['user'].isin(reg_trump_users)].groupby('date').agg({'revid':pd.Series.nunique})['revid'].reindex(pd.date_range('2002-01-01','2017-11-09')).fillna(0).cumsum()\n",
    "clinton_related_reg_revs = all_clinton_rev_df[(all_clinton_rev_df['user'].isin(reg_clinton_related_users)) & (all_clinton_rev_df['page'] != 'Hillary Clinton')].groupby('date').agg({'revid':pd.Series.nunique})['revid'].reindex(pd.date_range('2002-01-01','2017-11-09')).fillna(0).cumsum()\n",
    "trump_related_reg_revs = all_trump_rev_df[(all_trump_rev_df['user'].isin(reg_trump_related_users)) & (all_trump_rev_df['page'] != 'Donald Trump')].groupby('date').agg({'revid':pd.Series.nunique})['revid'].reindex(pd.date_range('2002-01-01','2017-11-09')).fillna(0).cumsum()\n",
    "\n",
    "clinton_bot_revs = clinton_rev_df[clinton_rev_df['user'].isin(bot_list)].groupby('date').agg({'revid':pd.Series.nunique})['revid'].reindex(pd.date_range('2002-01-01','2017-11-09')).fillna(0).cumsum()\n",
    "trump_bot_revs = trump_rev_df[trump_rev_df['user'].isin(bot_list)].groupby('date').agg({'revid':pd.Series.nunique})['revid'].reindex(pd.date_range('2002-01-01','2017-11-09')).fillna(0).cumsum()\n",
    "clinton_related_bot_revs = all_clinton_rev_df[(all_clinton_rev_df['user'].isin(bot_list)) & (all_clinton_rev_df['page'] != 'Hillary Clinton')].groupby('date').agg({'revid':pd.Series.nunique})['revid'].reindex(pd.date_range('2002-01-01','2017-11-09')).fillna(0).cumsum()\n",
    "trump_related_bot_revs = all_trump_rev_df[(all_trump_rev_df['user'].isin(bot_list)) & (all_trump_rev_df['page'] != 'Donald Trump')].groupby('date').agg({'revid':pd.Series.nunique})['revid'].reindex(pd.date_range('2002-01-01','2017-11-09')).fillna(0).cumsum()\n",
    "\n",
    "reg_rev_fraction_df = pd.DataFrame({'Clinton':clinton_reg_revs/clinton_daily_c_revs,\n",
    "                                    'Trump':trump_reg_revs/trump_daily_c_revs,\n",
    "                                    'Clinton-related':clinton_related_reg_revs/related_clinton_daily_c_revs,\n",
    "                                    'Trump-related':trump_related_reg_revs/related_trump_daily_c_revs})\n",
    "\n",
    "bot_rev_fraction_df = pd.DataFrame({'Clinton':clinton_bot_revs/clinton_daily_c_revs,\n",
    "                                    'Trump':trump_bot_revs/trump_daily_c_revs,\n",
    "                                    'Clinton-related':clinton_related_bot_revs/related_clinton_daily_c_revs,\n",
    "                                    'Trump-related':trump_related_bot_revs/related_trump_daily_c_revs})\n",
    "\n",
    "_col_order = ['Clinton','Trump','Clinton-related','Trump-related']\n",
    "reg_rev_fraction_df = reg_rev_fraction_df[_col_order]\n",
    "bot_rev_fraction_df = bot_rev_fraction_df[_col_order]"
   ]
  },
  {
   "cell_type": "code",
   "execution_count": 95,
   "metadata": {},
   "outputs": [
    {
     "data": {
      "image/png": "[encoded data removed]",
      "text/plain": [
       "<matplotlib.figure.Figure at 0x19db4c84c88>"
      ]
     },
     "metadata": {},
     "output_type": "display_data"
    }
   ],
   "source": [
    "styles = ['b-','r-','b--','r--']\n",
    "widths = [3,3,2,2]\n",
    "\n",
    "f,axs = plt.subplots(2,figsize=(6,4))\n",
    "\n",
    "# bot_rev_fraction_df.loc['2004-01-01':].plot(lw=3,legend=False,ax=axs[0])\n",
    "for _col,_s,_w in zip(bot_rev_fraction_df.columns,styles,widths):\n",
    "    bot_rev_fraction_df.loc['2004-01-01':,_col].plot(style=_s,lw=_w,legend=False,ax=axs[0])\n",
    "\n",
    "axs[0].set_ylim((0,0.05))\n",
    "axs[0].set_ylabel('Revision fraction')\n",
    "axs[0].set_xlabel('')\n",
    "axs[0].set_xticklabels(range(2004,2019,2),rotation=0,ha='center')\n",
    "axs[0].set_title('Bot editors')\n",
    "\n",
    "#reg_rev_fraction_df.loc['2004-01-01':].plot(color=['b','r','b','r'],lw=3,legend=False,ax=axs[1])\n",
    "for _col,_s,_w in zip(reg_rev_fraction_df.columns,styles,widths):\n",
    "    reg_rev_fraction_df.loc['2004-01-01':,_col].plot(style=_s,lw=_w,legend=False,ax=axs[1])\n",
    "\n",
    "axs[1].set_ylim((.4,1))\n",
    "axs[1].set_ylabel('Revision fraction')\n",
    "axs[1].set_xlabel('')\n",
    "axs[1].set_xticklabels(range(2004,2019,2),rotation=0,ha='center')\n",
    "axs[1].set_title('Registered editors')\n",
    "\n",
    "axs[0].axvline(pd.Timestamp('2015-06-01'),color='k',zorder=-1) # Announcement\n",
    "axs[0].annotate('A',xy=(pd.Timestamp('2015-06-15'),0.045),va=\"center\", ha=\"left\", color='k', size=12)\n",
    "\n",
    "axs[0].axvline(pd.Timestamp('2017-01-20'),color='k',zorder=-1) # Inauguration\n",
    "axs[0].annotate('J',xy=(pd.Timestamp('2017-02-05'),0.045),va=\"center\", ha=\"left\", color='k', size=12)\n",
    "\n",
    "axs[0].axvline(pd.Timestamp('2011-03-01'),color='k',zorder=-1) # Birther\n",
    "axs[0].annotate('*',xy=(pd.Timestamp('2011-03-15'),0.045),va=\"center\", ha=\"left\", color='k', size=12)\n",
    "\n",
    "axs[1].axvline(pd.Timestamp('2015-06-01'),color='k',zorder=-1) # Announcement\n",
    "axs[1].annotate('A',xy=(pd.Timestamp('2015-06-15'),.95),va=\"center\", ha=\"left\", color='k', size=12)\n",
    "\n",
    "axs[1].axvline(pd.Timestamp('2017-01-20'),color='k',zorder=-1) # Inauguration\n",
    "axs[1].annotate('J',xy=(pd.Timestamp('2017-02-05'),.95),va=\"center\", ha=\"left\", color='k', size=12)\n",
    "\n",
    "axs[1].axvline(pd.Timestamp('2011-03-01'),color='k',zorder=-1) # Birther\n",
    "axs[1].annotate('*',xy=(pd.Timestamp('2011-03-15'),.95),va=\"center\", ha=\"left\", color='k', size=12)\n",
    "\n",
    "plt.tight_layout()\n",
    "plt.savefig('user_types.pdf')"
   ]
  },
  {
   "cell_type": "markdown",
   "metadata": {},
   "source": [
    "### Editor overlaps"
   ]
  },
  {
   "cell_type": "code",
   "execution_count": 96,
   "metadata": {
    "collapsed": true
   },
   "outputs": [],
   "source": [
    "related_clinton_rev_df = all_clinton_rev_df[(all_clinton_rev_df['page'] != 'Hillary Clinton') & (~all_clinton_rev_df['user'].isin(bot_list)) & (all_clinton_rev_df['anon'] == False)]\n",
    "related_trump_rev_df = all_trump_rev_df[(all_trump_rev_df['page'] != 'Donald Trump') & (~all_trump_rev_df['user'].isin(bot_list)) & (all_trump_rev_df['anon'] == False)]\n",
    "\n",
    "clinton_articles_c_users = clinton_rev_df.groupby('date')['user'].apply(set).reindex(pd.date_range('2002-01-01','2017-11-09'))\n",
    "trump_articles_c_users = trump_rev_df.groupby('date')['user'].apply(set).reindex(pd.date_range('2002-01-01','2017-11-09'))\n",
    "related_clinton_articles_c_users = related_clinton_rev_df.groupby('date')['user'].apply(set).reindex(pd.date_range('2002-01-01','2017-11-09'))\n",
    "related_trump_articles_c_users = related_trump_rev_df.groupby('date')['user'].apply(set).reindex(pd.date_range('2002-01-01','2017-11-09'))\n",
    "\n",
    "clinton_articles_c_users.loc['2002-01-01'] = set()\n",
    "trump_articles_c_users.loc['2002-01-01'] = set()\n",
    "related_clinton_articles_c_users.loc['2002-01-01'] = set()\n",
    "related_trump_articles_c_users.loc['2002-01-01'] = set()\n",
    "\n",
    "clinton_articles_c_users.fillna(method='ffill',inplace=True)\n",
    "trump_articles_c_users.fillna(method='ffill',inplace=True)\n",
    "related_clinton_articles_c_users.fillna(method='ffill',inplace=True)\n",
    "related_trump_articles_c_users.fillna(method='ffill',inplace=True)\n",
    "\n",
    "clinton_articles_c_users = clinton_articles_c_users.apply(list).cumsum().apply(set)\n",
    "trump_articles_c_users = trump_articles_c_users.apply(list).cumsum().apply(list_set)\n",
    "related_clinton_articles_c_users = related_clinton_articles_c_users.apply(list).cumsum().apply(set)\n",
    "related_trump_articles_c_users = related_trump_articles_c_users.apply(list).cumsum().apply(set)"
   ]
  },
  {
   "cell_type": "code",
   "execution_count": 97,
   "metadata": {
    "collapsed": true
   },
   "outputs": [],
   "source": [
    "def jaccard(s1,s2):\n",
    "    if len(s1 | s2) > 0:\n",
    "        return len(s1 & s2)/len(s1 | s2)\n",
    "    else:\n",
    "        return 0\n",
    "\n",
    "# Intersection sets\n",
    "clinton_and_trump_i = {}\n",
    "clinton_and_clinton_related_i = {}\n",
    "clinton_and_trump_related_i = {}\n",
    "clinton_related_and_trump_related_i = {}\n",
    "trump_and_clinton_related_i = {}\n",
    "trump_and_trump_related_i = {}\n",
    "\n",
    "\n",
    "# Jaccard coefficients\n",
    "clinton_and_trump_j = {}\n",
    "clinton_and_clinton_related_j = {}\n",
    "clinton_and_trump_related_j = {}\n",
    "clinton_related_and_trump_related_j = {}\n",
    "trump_and_clinton_related_j = {}\n",
    "trump_and_trump_related_j = {}\n",
    "\n",
    "for ts in daily_c_clinton_editors.index:\n",
    "    _clinton_editors = set(clinton_articles_c_users.loc[ts])\n",
    "    _trump_editors = set(trump_articles_c_users.loc[ts])\n",
    "    _related_clinton_editors = set(related_clinton_articles_c_users.loc[ts])\n",
    "    _related_trump_editors = set(related_trump_articles_c_users.loc[ts])\n",
    "    \n",
    "    clinton_and_trump_i[ts] = _clinton_editors & _trump_editors\n",
    "    clinton_and_clinton_related_i[ts] = _clinton_editors & _related_clinton_editors\n",
    "    clinton_and_trump_related_i[ts] = _clinton_editors & _related_trump_editors\n",
    "    clinton_related_and_trump_related_i[ts] = _related_clinton_editors & _related_trump_editors\n",
    "    trump_and_clinton_related_i[ts] = _trump_editors & _related_clinton_editors\n",
    "    trump_and_trump_related_i[ts] = _trump_editors & _related_trump_editors\n",
    "    \n",
    "    clinton_and_trump_j[ts] = jaccard(_clinton_editors,_trump_editors)\n",
    "    clinton_and_clinton_related_j[ts] = jaccard(_clinton_editors,_related_clinton_editors)\n",
    "    clinton_and_trump_related_j[ts] = jaccard(_clinton_editors,_related_trump_editors)\n",
    "    clinton_related_and_trump_related_j[ts] = jaccard(_related_clinton_editors,_related_trump_editors)\n",
    "    trump_and_clinton_related_j[ts] = jaccard(_trump_editors,_related_clinton_editors)\n",
    "    trump_and_trump_related_j[ts] = jaccard(_trump_editors,_related_trump_editors)"
   ]
  },
  {
   "cell_type": "markdown",
   "metadata": {},
   "source": [
    "Calculate revisions from editors in the intersection."
   ]
  },
  {
   "cell_type": "code",
   "execution_count": 98,
   "metadata": {
    "collapsed": true
   },
   "outputs": [],
   "source": [
    "_last = pd.Timestamp('2017-11-09')\n",
    "clinton_and_trump_revs = clinton_rev_df[clinton_rev_df['user'].isin(clinton_and_trump_i[_last])].groupby('date').agg({'revid':pd.Series.nunique})['revid'].reindex(pd.date_range('2002-01-01','2017-11-09')).fillna(0).cumsum()\n",
    "clinton_and_clinton_related_revs = clinton_rev_df[clinton_rev_df['user'].isin(clinton_and_clinton_related_i[_last])].groupby('date').agg({'revid':pd.Series.nunique})['revid'].reindex(pd.date_range('2002-01-01','2017-11-09')).fillna(0).cumsum()\n",
    "clinton_and_trump_related_revs = clinton_rev_df[clinton_rev_df['user'].isin(clinton_and_trump_related_i[_last])].groupby('date').agg({'revid':pd.Series.nunique})['revid'].reindex(pd.date_range('2002-01-01','2017-11-09')).fillna(0).cumsum()\n",
    "clinton_and_both_related_revs = clinton_rev_df[clinton_rev_df['user'].isin(clinton_related_and_trump_related_i[_last])].groupby('date').agg({'revid':pd.Series.nunique})['revid'].reindex(pd.date_range('2002-01-01','2017-11-09')).fillna(0).cumsum()\n",
    "trump_and_clinton_revs = trump_rev_df[trump_rev_df['user'].isin(clinton_and_trump_i[_last])].groupby('date').agg({'revid':pd.Series.nunique})['revid'].reindex(pd.date_range('2002-01-01','2017-11-09')).fillna(0).cumsum()\n",
    "trump_and_clinton_related_revs = trump_rev_df[trump_rev_df['user'].isin(trump_and_clinton_related_i[_last])].groupby('date').agg({'revid':pd.Series.nunique})['revid'].reindex(pd.date_range('2002-01-01','2017-11-09')).fillna(0).cumsum()\n",
    "trump_and_trump_related_revs = trump_rev_df[trump_rev_df['user'].isin(trump_and_trump_related_i[_last])].groupby('date').agg({'revid':pd.Series.nunique})['revid'].reindex(pd.date_range('2002-01-01','2017-11-09')).fillna(0).cumsum()\n",
    "trump_and_both_related_revs = trump_rev_df[trump_rev_df['user'].isin(clinton_related_and_trump_related_i[_last])].groupby('date').agg({'revid':pd.Series.nunique})['revid'].reindex(pd.date_range('2002-01-01','2017-11-09')).fillna(0).cumsum()"
   ]
  },
  {
   "cell_type": "markdown",
   "metadata": {},
   "source": [
    "Plot."
   ]
  },
  {
   "cell_type": "code",
   "execution_count": 99,
   "metadata": {},
   "outputs": [
    {
     "data": {
      "image/png": "[encoded data removed]",
      "text/plain": [
       "<matplotlib.figure.Figure at 0x19e9bb745c0>"
      ]
     },
     "metadata": {},
     "output_type": "display_data"
    }
   ],
   "source": [
    "editor_jaccard_df = pd.DataFrame({'Clinton-Trump':clinton_and_trump_j,\n",
    "                                  'Clinton-Clinton related':clinton_and_clinton_related_j,\n",
    "                                  'Clinton-Trump related':clinton_and_trump_related_j,\n",
    "                                  'Clinton related-Trump related':clinton_related_and_trump_related_j,\n",
    "                                  'Trump-Clinton related':trump_and_clinton_related_j,\n",
    "                                  'Trump-Trump related':trump_and_trump_related_j})\n",
    "\n",
    "f,ax = plt.subplots(1,figsize=(6,4))\n",
    "_cols = editor_jaccard_df.loc['2017-11-09'].sort_values(ascending=False).index\n",
    "editor_jaccard_df.loc['2004-01-01':,_cols].plot(lw=3,legend=False,ax=ax)\n",
    "ax.set_ylim(0,.225)\n",
    "#ax.set_yscale('log')\n",
    "ax.set_ylabel('Jaccard coefficient')\n",
    "\n",
    "ax.axvline(pd.Timestamp('2015-06-01'),color='k',zorder=-1) # Announcement\n",
    "ax.annotate('A',xy=(pd.Timestamp('2015-06-15'),0.2125),va=\"center\", ha=\"left\", color='k', size=16)\n",
    "\n",
    "ax.axvline(pd.Timestamp('2017-01-20'),color='k',zorder=-1) # Inauguration\n",
    "ax.annotate('J',xy=(pd.Timestamp('2017-02-15'),0.2125),va=\"center\", ha=\"left\", color='k', size=16)\n",
    "\n",
    "ax.axvline(pd.Timestamp('2011-03-01'),color='k',zorder=-1) # Inauguration\n",
    "ax.annotate('*',xy=(pd.Timestamp('2011-03-15'),0.2125),va=\"center\", ha=\"left\", color='k', size=16)\n",
    "\n",
    "plt.legend(loc='center left',bbox_to_anchor = (-.15,-.175),ncol=3)\n",
    "plt.tight_layout()\n",
    "plt.savefig('editor_jaccard.pdf',bbox_inches='tight',dpi=300)"
   ]
  },
  {
   "cell_type": "code",
   "execution_count": 101,
   "metadata": {},
   "outputs": [
    {
     "data": {
      "image/png": "[encoded data removed]",
      "text/plain": [
       "<matplotlib.figure.Figure at 0x19ec676bba8>"
      ]
     },
     "metadata": {},
     "output_type": "display_data"
    }
   ],
   "source": [
    "overlap_rev_fraction_df = pd.DataFrame({'Clinton-Trump':clinton_and_trump_revs/clinton_daily_c_revs,\n",
    "                                        'Clinton-Clinton related':clinton_and_clinton_related_revs/clinton_daily_c_revs,\n",
    "                                        'Clinton-Trump related':clinton_and_trump_related_revs/clinton_daily_c_revs,\n",
    "                                        'Clinton-both related':clinton_and_both_related_revs/clinton_daily_c_revs,\n",
    "                                        'Trump-Clinton':trump_and_clinton_revs/trump_daily_c_revs,\n",
    "                                        'Trump-Clinton related':trump_and_clinton_related_revs/trump_daily_c_revs,\n",
    "                                        'Trump-Trump related':trump_and_trump_related_revs/trump_daily_c_revs,\n",
    "                                        'Trump-both related':trump_and_both_related_revs/trump_daily_c_revs})\n",
    "\n",
    "f,ax = plt.subplots(1,figsize=(6,4))\n",
    "_cols = overlap_rev_fraction_df.loc['2017-11-09'].sort_values(ascending=False).index\n",
    "overlap_rev_fraction_df.loc['2004-01-01':,_cols].plot(lw=3,legend=False,ax=ax)\n",
    "ax.set_ylim(0,.9)\n",
    "#ax.set_yscale('log')\n",
    "ax.set_ylabel('Revision fraction')\n",
    "\n",
    "ax.axvline(pd.Timestamp('2015-06-01'),color='k',zorder=-1) # Announcement\n",
    "ax.annotate('A',xy=(pd.Timestamp('2015-06-15'),0.85),va=\"center\", ha=\"left\", color='k', size=16)\n",
    "\n",
    "ax.axvline(pd.Timestamp('2017-01-20'),color='k',zorder=-1) # Inauguration\n",
    "ax.annotate('J',xy=(pd.Timestamp('2017-02-15'),0.85),va=\"center\", ha=\"left\", color='k', size=16)\n",
    "\n",
    "ax.axvline(pd.Timestamp('2011-03-01'),color='k',zorder=-1) # Inauguration\n",
    "ax.annotate('*',xy=(pd.Timestamp('2011-03-15'),0.85),va=\"center\", ha=\"left\", color='k', size=16)\n",
    "\n",
    "plt.legend(loc='center left',bbox_to_anchor = (-.15,-.2125),ncol=3)\n",
    "plt.tight_layout()\n",
    "plt.savefig('editor_rev_fraction.pdf',bbox_inches='tight',dpi=300)"
   ]
  },
  {
   "cell_type": "code",
   "execution_count": 1186,
   "metadata": {},
   "outputs": [
    {
     "data": {
      "text/plain": [
       "(0.67395953281789767, 0.71154233532532063)"
      ]
     },
     "execution_count": 1186,
     "metadata": {},
     "output_type": "execute_result"
    }
   ],
   "source": [
    "overlap_rev_fraction_df.loc['2015-01-01','Clinton-Clinton related'], overlap_rev_fraction_df.loc['2016-11-08','Clinton-Clinton related']"
   ]
  },
  {
   "cell_type": "code",
   "execution_count": 1187,
   "metadata": {},
   "outputs": [
    {
     "data": {
      "text/plain": [
       "(0.43670970318115265, 0.67735564075752297)"
      ]
     },
     "execution_count": 1187,
     "metadata": {},
     "output_type": "execute_result"
    }
   ],
   "source": [
    "overlap_rev_fraction_df.loc['2015-01-01','Trump-Trump related'], overlap_rev_fraction_df.loc['2016-11-08','Trump-Trump related']"
   ]
  },
  {
   "cell_type": "code",
   "execution_count": 1188,
   "metadata": {},
   "outputs": [
    {
     "data": {
      "text/plain": [
       "(0.41421536004259285, 0.62867433484373181)"
      ]
     },
     "execution_count": 1188,
     "metadata": {},
     "output_type": "execute_result"
    }
   ],
   "source": [
    "overlap_rev_fraction_df.loc['2015-01-01','Trump-Clinton related'], overlap_rev_fraction_df.loc['2016-11-08','Trump-Clinton related']"
   ]
  },
  {
   "cell_type": "markdown",
   "metadata": {},
   "source": [
    "### Predecessor and successor collaborations"
   ]
  },
  {
   "cell_type": "code",
   "execution_count": 102,
   "metadata": {},
   "outputs": [
    {
     "name": "stdout",
     "output_type": "stream",
     "text": [
      "2,467 Clinton active users\n",
      "2,969 Trump active users\n",
      "3,016 both active users\n",
      "SANITY CHECK: 3,016 union active users\n",
      "2,420 intersection active users\n",
      "47 Clinton-only active users\n",
      "549 Trump-only active users\n",
      "\n",
      "2,956 users with userinfo\n"
     ]
    }
   ],
   "source": [
    "with open('active_users_clinton.json','r') as f:\n",
    "    clinton_active_user_list = list(set(json.load(f)))\n",
    "\n",
    "with open('active_users_trump.json','r') as f:\n",
    "    trump_active_user_list = list(set(json.load(f)))\n",
    "    \n",
    "with open('active_users_both.json','r') as f:\n",
    "    both_active_user_list = list(set(json.load(f)))\n",
    "    \n",
    "with open('userinfo_active_users_both.json','r') as f:\n",
    "    both_active_userinfo = json.load(f)\n",
    "\n",
    "print(\"{0:,} Clinton active users\".format(len(clinton_active_user_list)))\n",
    "print(\"{0:,} Trump active users\".format(len(trump_active_user_list)))\n",
    "print(\"{0:,} both active users\".format(len(both_active_user_list)))\n",
    "    \n",
    "union_active_user_list =  list(set(clinton_active_user_list) | set(trump_active_user_list))\n",
    "intersection_active_user_list =  list(set(clinton_active_user_list) & set(trump_active_user_list))\n",
    "clinton_only_active_user_list = list(set(both_active_user_list) - set(trump_active_user_list))\n",
    "trump_only_active_user_list = list(set(both_active_user_list) - set(clinton_active_user_list))\n",
    "\n",
    "# There are users who fulfill the criteria when considering Clinton and Trump jointly, but not individually\n",
    "#diff_active_user_list = list(set(both_active_user_list) - set(union_active_user_list))\n",
    "\n",
    "print(\"SANITY CHECK: {0:,} union active users\".format(len(union_active_user_list)))\n",
    "print(\"{0:,} intersection active users\".format(len(intersection_active_user_list)))\n",
    "#print(\"{0:,} diff active users\".format(len(diff_active_user_list)))\n",
    "print(\"{0:,} Clinton-only active users\".format(len(clinton_only_active_user_list)))\n",
    "print(\"{0:,} Trump-only active users\".format(len(trump_only_active_user_list)))\n",
    "\n",
    "print(\"\\n{0:,} users with userinfo\".format(len(both_active_userinfo)))"
   ]
  },
  {
   "cell_type": "code",
   "execution_count": 103,
   "metadata": {},
   "outputs": [
    {
     "data": {
      "text/plain": [
       "0.8023872679045093"
      ]
     },
     "execution_count": 103,
     "metadata": {},
     "output_type": "execute_result"
    }
   ],
   "source": [
    "len(intersection_active_user_list)/len(union_active_user_list)"
   ]
  },
  {
   "cell_type": "code",
   "execution_count": 104,
   "metadata": {
    "collapsed": true
   },
   "outputs": [],
   "source": [
    "clinton_user_first_edits = all_clinton_rev_df.groupby('user').agg({'timestamp':np.min})['timestamp'].reset_index()\n",
    "trump_user_first_edits = all_trump_rev_df.groupby('user').agg({'timestamp':np.min})['timestamp'].reset_index()\n",
    "both_user_first_edits = pd.concat([clinton_user_first_edits,trump_user_first_edits])\n",
    "both_user_first_edits = both_user_first_edits.groupby('user').agg({'timestamp':np.min})['timestamp'].reset_index().set_index('user')"
   ]
  },
  {
   "cell_type": "code",
   "execution_count": 106,
   "metadata": {},
   "outputs": [],
   "source": [
    "active_user_data = {}\n",
    "\n",
    "for p in both_active_userinfo:\n",
    "    if p['name'] in clinton_only_active_user_list:\n",
    "        try:\n",
    "            active_user_data[p['name']] = {'type':'Clinton'}\n",
    "            active_user_data[p['name']]['age'] = (both_user_first_edits.loc[p['name'],'timestamp'] - pd.to_datetime(p['registration']))/np.timedelta64(1,'D')\n",
    "            active_user_data[p['name']]['editcount'] = p['editcount']\n",
    "            active_user_data[p['name']]['gender'] = p['gender']\n",
    "            if 'blockid' in p:\n",
    "                active_user_data[p['name']]['blocked'] = 1\n",
    "            else:\n",
    "                active_user_data[p['name']]['blocked'] = 0\n",
    "        except:\n",
    "            pass\n",
    "    elif p['name'] in trump_only_active_user_list:\n",
    "        try:\n",
    "            active_user_data[p['name']] = {'type':'Trump'}\n",
    "            active_user_data[p['name']]['age'] = (both_user_first_edits.loc[p['name'],'timestamp'] - pd.to_datetime(p['registration']))/np.timedelta64(1,'D')\n",
    "            active_user_data[p['name']]['editcount'] = p['editcount']\n",
    "            active_user_data[p['name']]['gender'] = p['gender']\n",
    "            if 'blockid' in p:\n",
    "                active_user_data[p['name']]['blocked'] = 1\n",
    "            else:\n",
    "                active_user_data[p['name']]['blocked'] = 0\n",
    "        except:\n",
    "            pass\n",
    "    elif p['name'] in intersection_active_user_list:\n",
    "        try:\n",
    "            active_user_data[p['name']] = {'type':'Both'}\n",
    "            active_user_data[p['name']]['age'] = (both_user_first_edits.loc[p['name'],'timestamp'] - pd.to_datetime(p['registration']))/np.timedelta64(1,'D')\n",
    "            active_user_data[p['name']]['editcount'] = p['editcount']\n",
    "            active_user_data[p['name']]['gender'] = p['gender']\n",
    "            if 'blockid' in p:\n",
    "                active_user_data[p['name']]['blocked'] = 1\n",
    "            else:\n",
    "                active_user_data[p['name']]['blocked'] = 0\n",
    "        except:\n",
    "            pass"
   ]
  },
  {
   "cell_type": "code",
   "execution_count": 107,
   "metadata": {},
   "outputs": [
    {
     "data": {
      "text/html": [
       "<div>\n",
       "<style>\n",
       "    .dataframe thead tr:only-child th {\n",
       "        text-align: right;\n",
       "    }\n",
       "\n",
       "    .dataframe thead th {\n",
       "        text-align: left;\n",
       "    }\n",
       "\n",
       "    .dataframe tbody tr th {\n",
       "        vertical-align: top;\n",
       "    }\n",
       "</style>\n",
       "<table border=\"1\" class=\"dataframe\">\n",
       "  <thead>\n",
       "    <tr style=\"text-align: right;\">\n",
       "      <th></th>\n",
       "      <th>age</th>\n",
       "      <th>blocked</th>\n",
       "      <th>editcount</th>\n",
       "      <th>gender</th>\n",
       "      <th>type</th>\n",
       "      <th>All Clinton</th>\n",
       "      <th>All Trump</th>\n",
       "      <th>Clinton</th>\n",
       "      <th>Trump</th>\n",
       "      <th>All Clinton Fraction</th>\n",
       "      <th>All Trump Fraction</th>\n",
       "      <th>Clinton Fraction</th>\n",
       "      <th>Trump Fraction</th>\n",
       "    </tr>\n",
       "  </thead>\n",
       "  <tbody>\n",
       "    <tr>\n",
       "      <th>-glove-</th>\n",
       "      <td>60.6536</td>\n",
       "      <td>0</td>\n",
       "      <td>2667</td>\n",
       "      <td>unknown</td>\n",
       "      <td>Both</td>\n",
       "      <td>3.0</td>\n",
       "      <td>7.0</td>\n",
       "      <td>0.0</td>\n",
       "      <td>0.0</td>\n",
       "      <td>0.00112444</td>\n",
       "      <td>0.00262369</td>\n",
       "      <td>0</td>\n",
       "      <td>0</td>\n",
       "    </tr>\n",
       "    <tr>\n",
       "      <th>0x5849857</th>\n",
       "      <td>75.7553</td>\n",
       "      <td>0</td>\n",
       "      <td>352</td>\n",
       "      <td>unknown</td>\n",
       "      <td>Both</td>\n",
       "      <td>9.0</td>\n",
       "      <td>26.0</td>\n",
       "      <td>0.0</td>\n",
       "      <td>0.0</td>\n",
       "      <td>0.0254958</td>\n",
       "      <td>0.0736544</td>\n",
       "      <td>0</td>\n",
       "      <td>0</td>\n",
       "    </tr>\n",
       "    <tr>\n",
       "      <th>0xF8E8</th>\n",
       "      <td>611.023</td>\n",
       "      <td>0</td>\n",
       "      <td>7269</td>\n",
       "      <td>female</td>\n",
       "      <td>Both</td>\n",
       "      <td>67.0</td>\n",
       "      <td>126.0</td>\n",
       "      <td>2.0</td>\n",
       "      <td>21.0</td>\n",
       "      <td>0.00921596</td>\n",
       "      <td>0.0173315</td>\n",
       "      <td>0.000275103</td>\n",
       "      <td>0.00288858</td>\n",
       "    </tr>\n",
       "    <tr>\n",
       "      <th>11 Arlington</th>\n",
       "      <td>2078.14</td>\n",
       "      <td>0</td>\n",
       "      <td>698</td>\n",
       "      <td>unknown</td>\n",
       "      <td>Both</td>\n",
       "      <td>1.0</td>\n",
       "      <td>14.0</td>\n",
       "      <td>1.0</td>\n",
       "      <td>1.0</td>\n",
       "      <td>0.00143062</td>\n",
       "      <td>0.0200286</td>\n",
       "      <td>0.00143062</td>\n",
       "      <td>0.00143062</td>\n",
       "    </tr>\n",
       "    <tr>\n",
       "      <th>11Eternity11</th>\n",
       "      <td>4.99579</td>\n",
       "      <td>1</td>\n",
       "      <td>77</td>\n",
       "      <td>unknown</td>\n",
       "      <td>Both</td>\n",
       "      <td>7.0</td>\n",
       "      <td>8.0</td>\n",
       "      <td>0.0</td>\n",
       "      <td>0.0</td>\n",
       "      <td>0.0897436</td>\n",
       "      <td>0.102564</td>\n",
       "      <td>0</td>\n",
       "      <td>0</td>\n",
       "    </tr>\n",
       "  </tbody>\n",
       "</table>\n",
       "</div>"
      ],
      "text/plain": [
       "                  age blocked editcount   gender  type  All Clinton  \\\n",
       "-glove-       60.6536       0      2667  unknown  Both          3.0   \n",
       "0x5849857     75.7553       0       352  unknown  Both          9.0   \n",
       "0xF8E8        611.023       0      7269   female  Both         67.0   \n",
       "11 Arlington  2078.14       0       698  unknown  Both          1.0   \n",
       "11Eternity11  4.99579       1        77  unknown  Both          7.0   \n",
       "\n",
       "              All Trump  Clinton  Trump All Clinton Fraction  \\\n",
       "-glove-             7.0      0.0    0.0           0.00112444   \n",
       "0x5849857          26.0      0.0    0.0            0.0254958   \n",
       "0xF8E8            126.0      2.0   21.0           0.00921596   \n",
       "11 Arlington       14.0      1.0    1.0           0.00143062   \n",
       "11Eternity11        8.0      0.0    0.0            0.0897436   \n",
       "\n",
       "             All Trump Fraction Clinton Fraction Trump Fraction  \n",
       "-glove-              0.00262369                0              0  \n",
       "0x5849857             0.0736544                0              0  \n",
       "0xF8E8                0.0173315      0.000275103     0.00288858  \n",
       "11 Arlington          0.0200286       0.00143062     0.00143062  \n",
       "11Eternity11           0.102564                0              0  "
      ]
     },
     "execution_count": 107,
     "metadata": {},
     "output_type": "execute_result"
    }
   ],
   "source": [
    "active_editor_df = pd.DataFrame(active_user_data).T\n",
    "\n",
    "all_clinton_user_rev_counts = all_clinton_rev_df[all_clinton_rev_df['user'].isin(active_editor_df.index)].groupby('user').agg({'revid':pd.Series.nunique})\n",
    "all_trump_user_rev_counts = all_trump_rev_df[all_trump_rev_df['user'].isin(active_editor_df.index)].groupby('user').agg({'revid':pd.Series.nunique})\n",
    "clinton_user_rev_counts = clinton_rev_df[clinton_rev_df['user'].isin(active_editor_df.index)].groupby('user').agg({'revid':pd.Series.nunique})\n",
    "trump_user_rev_counts = trump_rev_df[trump_rev_df['user'].isin(active_editor_df.index)].groupby('user').agg({'revid':pd.Series.nunique})\n",
    "\n",
    "_df = pd.concat([all_clinton_user_rev_counts,all_trump_user_rev_counts,clinton_user_rev_counts,trump_user_rev_counts],axis=1).fillna(0)\n",
    "_df.columns = ['All Clinton','All Trump','Clinton','Trump']\n",
    "active_editor_df = active_editor_df.join(_df)\n",
    "active_editor_df['All Clinton Fraction'] = active_editor_df['All Clinton']/(active_editor_df['editcount']+1)\n",
    "active_editor_df['All Trump Fraction'] = active_editor_df['All Trump']/(active_editor_df['editcount']+1)\n",
    "active_editor_df['Clinton Fraction'] = active_editor_df['Clinton']/(active_editor_df['editcount']+1)\n",
    "active_editor_df['Trump Fraction'] = active_editor_df['Trump']/(active_editor_df['editcount']+1)\n",
    "active_editor_df.to_csv('active_editors.csv',encoding='utf8')\n",
    "active_editor_df.head()"
   ]
  },
  {
   "cell_type": "code",
   "execution_count": 108,
   "metadata": {},
   "outputs": [
    {
     "data": {
      "text/plain": [
       "<seaborn.axisgrid.FacetGrid at 0x19e8fb70630>"
      ]
     },
     "execution_count": 108,
     "metadata": {},
     "output_type": "execute_result"
    },
    {
     "data": {
      "image/png": "[encoded data removed]",
      "text/plain": [
       "<matplotlib.figure.Figure at 0x19ea37f7c50>"
      ]
     },
     "metadata": {},
     "output_type": "display_data"
    }
   ],
   "source": [
    "sb.factorplot(x='type',y='age',data=active_editor_df,kind='bar',\n",
    "              order=['Clinton','Trump','Both'],hue_order=['male','female','unknown'])"
   ]
  },
  {
   "cell_type": "code",
   "execution_count": 109,
   "metadata": {},
   "outputs": [
    {
     "name": "stdout",
     "output_type": "stream",
     "text": [
      "Clinton 777.83 ± 931.8\n",
      "Trump 1025.08 ± 1170.4\n",
      "Clinton-Trump difference: H = 1.57, p = 0.2099\n",
      "\n",
      "Clinton 777.83 ± 931.8\n",
      "Both 893.55 ± 1033.8\n",
      "Clinton-Both difference: H = 1.12, p = 0.2892\n",
      "\n",
      "Trump 1025.08 ± 1170.4\n",
      "Both 893.55 ± 1033.8\n",
      "Trump-Both difference: H = 1.12, p = 0.2889\n"
     ]
    }
   ],
   "source": [
    "_col = 'age'\n",
    "_c = active_editor_df[active_editor_df['type'] == 'Clinton'][_col].dropna()\n",
    "_t = active_editor_df[active_editor_df['type'] == 'Trump'][_col].dropna()\n",
    "_b = active_editor_df[active_editor_df['type'] == 'Both'][_col].dropna()\n",
    "\n",
    "clinton_trump_col_H,clinton_trump_col_p = stats.kruskal(_c,_t)\n",
    "print(\"Clinton {0:.2f} ± {1:.1f}\".format(_c.mean(),_c.std()))\n",
    "print(\"Trump {0:.2f} ± {1:.1f}\".format(_t.mean(),_t.std()))\n",
    "print(\"Clinton-Trump difference: H = {0:.2f}, p = {1:.4}\\n\".format(clinton_trump_col_H,clinton_trump_col_p))\n",
    "\n",
    "clinton_both_col_H,clinton_both_col_p = stats.kruskal(_c,_b)\n",
    "print(\"Clinton {0:.2f} ± {1:.1f}\".format(_c.mean(),_c.std()))\n",
    "print(\"Both {0:.2f} ± {1:.1f}\".format(_b.mean(),_b.std()))\n",
    "print(\"Clinton-Both difference: H = {0:.2f}, p = {1:.4}\\n\".format(clinton_both_col_H,clinton_both_col_p))\n",
    "\n",
    "trump_both_col_H,trump_both_col_p = stats.kruskal(_t,_b)\n",
    "print(\"Trump {0:.2f} ± {1:.1f}\".format(_t.mean(),_t.std()))\n",
    "print(\"Both {0:.2f} ± {1:.1f}\".format(_b.mean(),_b.std()))\n",
    "print(\"Trump-Both difference: H = {0:.2f}, p = {1:.4}\".format(trump_both_col_H,trump_both_col_p))"
   ]
  },
  {
   "cell_type": "code",
   "execution_count": 110,
   "metadata": {},
   "outputs": [
    {
     "data": {
      "text/plain": [
       "<seaborn.axisgrid.FacetGrid at 0x19ed6f8b4e0>"
      ]
     },
     "execution_count": 110,
     "metadata": {},
     "output_type": "execute_result"
    },
    {
     "data": {
      "image/png": "[encoded data removed]",
      "text/plain": [
       "<matplotlib.figure.Figure at 0x19d79e7e320>"
      ]
     },
     "metadata": {},
     "output_type": "display_data"
    }
   ],
   "source": [
    "sb.factorplot(x='type',y='editcount',data=active_editor_df,kind='bar',\n",
    "              order=['Clinton','Trump','Both'],hue_order=['male','female','unknown'])"
   ]
  },
  {
   "cell_type": "code",
   "execution_count": 111,
   "metadata": {},
   "outputs": [
    {
     "name": "stdout",
     "output_type": "stream",
     "text": [
      "Clinton 14644.76 ± 27805.8\n",
      "Trump 13787.10 ± 34025.0\n",
      "Clinton-Trump difference: H = 0.00, p = 0.9701\n",
      "\n",
      "Clinton 14644.76 ± 27805.8\n",
      "Both 44104.30 ± 166617.3\n",
      "Clinton-Both difference: H = 14.83, p = 0.0001175\n",
      "\n",
      "Trump 13787.10 ± 34025.0\n",
      "Both 44104.30 ± 166617.3\n",
      "Trump-Both difference: H = 162.63, p = 3.013e-37\n"
     ]
    }
   ],
   "source": [
    "_col = 'editcount'\n",
    "_c = active_editor_df[active_editor_df['type'] == 'Clinton'][_col].dropna()\n",
    "_t = active_editor_df[active_editor_df['type'] == 'Trump'][_col].dropna()\n",
    "_b = active_editor_df[active_editor_df['type'] == 'Both'][_col].dropna()\n",
    "\n",
    "clinton_trump_col_H,clinton_trump_col_p = stats.kruskal(_c,_t)\n",
    "print(\"Clinton {0:.2f} ± {1:.1f}\".format(_c.mean(),_c.std()))\n",
    "print(\"Trump {0:.2f} ± {1:.1f}\".format(_t.mean(),_t.std()))\n",
    "print(\"Clinton-Trump difference: H = {0:.2f}, p = {1:.4}\\n\".format(clinton_trump_col_H,clinton_trump_col_p))\n",
    "\n",
    "clinton_both_col_H,clinton_both_col_p = stats.kruskal(_c,_b)\n",
    "print(\"Clinton {0:.2f} ± {1:.1f}\".format(_c.mean(),_c.std()))\n",
    "print(\"Both {0:.2f} ± {1:.1f}\".format(_b.mean(),_b.std()))\n",
    "print(\"Clinton-Both difference: H = {0:.2f}, p = {1:.4}\\n\".format(clinton_both_col_H,clinton_both_col_p))\n",
    "\n",
    "trump_both_col_H,trump_both_col_p = stats.kruskal(_t,_b)\n",
    "print(\"Trump {0:.2f} ± {1:.1f}\".format(_t.mean(),_t.std()))\n",
    "print(\"Both {0:.2f} ± {1:.1f}\".format(_b.mean(),_b.std()))\n",
    "print(\"Trump-Both difference: H = {0:.2f}, p = {1:.4}\".format(trump_both_col_H,trump_both_col_p))"
   ]
  },
  {
   "cell_type": "code",
   "execution_count": 112,
   "metadata": {},
   "outputs": [
    {
     "name": "stdout",
     "output_type": "stream",
     "text": [
      "Clinton 0.04 ± 0.2\n",
      "Trump 0.03 ± 0.2\n",
      "Clinton-Trump difference: H = 0.27, p = 0.6034\n",
      "\n",
      "Clinton 0.04 ± 0.2\n",
      "Both 0.03 ± 0.2\n",
      "Clinton-Both difference: H = 0.18, p = 0.6677\n",
      "\n",
      "Trump 0.03 ± 0.2\n",
      "Both 0.03 ± 0.2\n",
      "Trump-Both difference: H = 0.09, p = 0.7671\n"
     ]
    }
   ],
   "source": [
    "_c = active_editor_df[(active_editor_df['type'] == 'Clinton')]['gender'] == 'female'\n",
    "_t = active_editor_df[(active_editor_df['type'] == 'Trump')]['gender'] == 'female'\n",
    "_b = active_editor_df[(active_editor_df['type'] == 'Both')]['gender'] == 'female'\n",
    "\n",
    "clinton_trump_col_H,clinton_trump_col_p = stats.kruskal(_c,_t)\n",
    "print(\"Clinton {0:.2f} ± {1:.1f}\".format(_c.mean(),_c.std()))\n",
    "print(\"Trump {0:.2f} ± {1:.1f}\".format(_t.mean(),_t.std()))\n",
    "print(\"Clinton-Trump difference: H = {0:.2f}, p = {1:.4}\\n\".format(clinton_trump_col_H,clinton_trump_col_p))\n",
    "\n",
    "clinton_both_col_H,clinton_both_col_p = stats.kruskal(_c,_b)\n",
    "print(\"Clinton {0:.2f} ± {1:.1f}\".format(_c.mean(),_c.std()))\n",
    "print(\"Both {0:.2f} ± {1:.1f}\".format(_b.mean(),_b.std()))\n",
    "print(\"Clinton-Both difference: H = {0:.2f}, p = {1:.4}\\n\".format(clinton_both_col_H,clinton_both_col_p))\n",
    "\n",
    "trump_both_col_H,trump_both_col_p = stats.kruskal(_t,_b)\n",
    "print(\"Trump {0:.2f} ± {1:.1f}\".format(_t.mean(),_t.std()))\n",
    "print(\"Both {0:.2f} ± {1:.1f}\".format(_b.mean(),_b.std()))\n",
    "print(\"Trump-Both difference: H = {0:.2f}, p = {1:.4}\".format(trump_both_col_H,trump_both_col_p))"
   ]
  },
  {
   "cell_type": "code",
   "execution_count": 113,
   "metadata": {},
   "outputs": [
    {
     "name": "stdout",
     "output_type": "stream",
     "text": [
      "Clinton 8.70% ± 28.5%\n",
      "Trump 7.79% ± 26.8%\n",
      "Clinton-Trump difference: H = 4.77%, p = 0.8272\n",
      "\n",
      "Clinton 8.70% ± 28.5%\n",
      "Both 5.42% ± 22.6%\n",
      "Clinton-Both difference: H = 93.62%, p = 0.3333\n",
      "\n",
      "Trump 7.79% ± 26.8%\n",
      "Both 5.42% ± 22.6%\n",
      "Trump-Both difference: H = 448.88%, p = 0.03412\n"
     ]
    }
   ],
   "source": [
    "_c = active_editor_df[(active_editor_df['type'] == 'Clinton')]['blocked'] == 1\n",
    "_t = active_editor_df[(active_editor_df['type'] == 'Trump')]['blocked'] == 1\n",
    "_b = active_editor_df[(active_editor_df['type'] == 'Both')]['blocked'] == 1\n",
    "\n",
    "clinton_trump_col_H,clinton_trump_col_p = stats.kruskal(_c,_t)\n",
    "print(\"Clinton {0:.2%} ± {1:.1%}\".format(_c.mean(),_c.std()))\n",
    "print(\"Trump {0:.2%} ± {1:.1%}\".format(_t.mean(),_t.std()))\n",
    "print(\"Clinton-Trump difference: H = {0:.2%}, p = {1:.4}\\n\".format(clinton_trump_col_H,clinton_trump_col_p))\n",
    "\n",
    "clinton_both_col_H,clinton_both_col_p = stats.kruskal(_c,_b)\n",
    "print(\"Clinton {0:.2%} ± {1:.1%}\".format(_c.mean(),_c.std()))\n",
    "print(\"Both {0:.2%} ± {1:.1%}\".format(_b.mean(),_b.std()))\n",
    "print(\"Clinton-Both difference: H = {0:.2%}, p = {1:.4}\\n\".format(clinton_both_col_H,clinton_both_col_p))\n",
    "\n",
    "trump_both_col_H,trump_both_col_p = stats.kruskal(_t,_b)\n",
    "print(\"Trump {0:.2%} ± {1:.1%}\".format(_t.mean(),_t.std()))\n",
    "print(\"Both {0:.2%} ± {1:.1%}\".format(_b.mean(),_b.std()))\n",
    "print(\"Trump-Both difference: H = {0:.2%}, p = {1:.4}\".format(trump_both_col_H,trump_both_col_p))"
   ]
  },
  {
   "cell_type": "code",
   "execution_count": 114,
   "metadata": {},
   "outputs": [
    {
     "data": {
      "text/plain": [
       "<seaborn.axisgrid.FacetGrid at 0x19eeaf4d6a0>"
      ]
     },
     "execution_count": 114,
     "metadata": {},
     "output_type": "execute_result"
    },
    {
     "data": {
      "image/png": "[encoded data removed]",
      "text/plain": [
       "<matplotlib.figure.Figure at 0x19d5146da58>"
      ]
     },
     "metadata": {},
     "output_type": "display_data"
    }
   ],
   "source": [
    "g = sb.factorplot(x='type',y='All Clinton Fraction',data=active_editor_df,kind='bar',\n",
    "              order=['Clinton','Trump','Both'],hue_order=['male','female','unknown'])\n",
    "g.set(ylim=(0,.2))"
   ]
  },
  {
   "cell_type": "code",
   "execution_count": 115,
   "metadata": {},
   "outputs": [
    {
     "data": {
      "text/plain": [
       "<seaborn.axisgrid.FacetGrid at 0x19d62df9cc0>"
      ]
     },
     "execution_count": 115,
     "metadata": {},
     "output_type": "execute_result"
    },
    {
     "data": {
      "image/png": "[encoded data removed]",
      "text/plain": [
       "<matplotlib.figure.Figure at 0x19de1257e80>"
      ]
     },
     "metadata": {},
     "output_type": "display_data"
    }
   ],
   "source": [
    "g = sb.factorplot(x='type',y='All Trump Fraction',data=active_editor_df,kind='bar',\n",
    "              order=['Clinton','Trump','Both'],hue_order=['male','female','unknown'])\n",
    "g.set(ylim=(0,.2))"
   ]
  },
  {
   "cell_type": "code",
   "execution_count": 116,
   "metadata": {},
   "outputs": [
    {
     "name": "stdout",
     "output_type": "stream",
     "text": [
      "Clinton 5.72% ± 15.4%\n",
      "Trump 8.24% ± 61.8%\n",
      "Clinton-Trump difference: H = 0.03, p = 0.863\n",
      "\n",
      "Clinton 0.83% ± 2.8%\n",
      "Trump 1.89% ± 5.6%\n",
      "Both Clinton-Both Trump difference: H = 78.18, p = 9.41e-19\n",
      "\n"
     ]
    }
   ],
   "source": [
    "_col = 'editcount'\n",
    "_c = active_editor_df[active_editor_df['type'] == 'Clinton']['All Clinton Fraction'].dropna()\n",
    "_t = active_editor_df[active_editor_df['type'] == 'Trump']['All Trump Fraction'].dropna()\n",
    "_bc = active_editor_df[active_editor_df['type'] == 'Both']['All Clinton Fraction'].dropna()\n",
    "_bt = active_editor_df[active_editor_df['type'] == 'Both']['All Trump Fraction'].dropna()\n",
    "\n",
    "clinton_trump_col_F,clinton_trump_col_Fp = stats.f_oneway(_c,_t)\n",
    "clinton_trump_col_H,clinton_trump_col_Hp = stats.kruskal(_c,_t)\n",
    "print(\"Clinton {0:.2%} ± {1:.1%}\".format(_c.mean(),_c.std()))\n",
    "print(\"Trump {0:.2%} ± {1:.1%}\".format(_t.mean(),_t.std()))\n",
    "print(\"Clinton-Trump difference: H = {0:.2f}, p = {1:.3}\\n\".format(clinton_trump_col_H,clinton_trump_col_Hp))\n",
    "\n",
    "both_F,both_Fp = stats.f_oneway(_bc,_bt)\n",
    "both_H,both_Hp = stats.kruskal(_bc,_bt)\n",
    "print(\"Clinton {0:.2%} ± {1:.1%}\".format(_bc.mean(),_bc.std()))\n",
    "print(\"Trump {0:.2%} ± {1:.1%}\".format(_bt.mean(),_bt.std()))\n",
    "print(\"Both Clinton-Both Trump difference: H = {0:.2f}, p = {1:.3}\\n\".format(both_H,both_Hp))"
   ]
  },
  {
   "cell_type": "markdown",
   "metadata": {},
   "source": [
    "### Predecessor and successor collaborations"
   ]
  },
  {
   "cell_type": "code",
   "execution_count": 125,
   "metadata": {},
   "outputs": [],
   "source": [
    "first_edit = both_user_first_edits[both_user_first_edits['timestamp'] > pd.Timestamp('2015-01-01')]\n",
    "first_edit.columns = ['first edit']\n",
    "all_user_contribs = pd.merge(all_user_contribs,first_edit,left_on='user',right_index=True)\n",
    "all_user_contribs['before'] = all_user_contribs['timestamp'] < all_user_contribs['first edit']\n",
    "all_user_contribs['latency'] = all_user_contribs.groupby('user')['timestamp'].diff().apply(lambda x:x/np.timedelta64(1,'D'))"
   ]
  },
  {
   "cell_type": "code",
   "execution_count": 245,
   "metadata": {},
   "outputs": [
    {
     "data": {
      "text/html": [
       "<div>\n",
       "<style>\n",
       "    .dataframe thead tr:only-child th {\n",
       "        text-align: right;\n",
       "    }\n",
       "\n",
       "    .dataframe thead th {\n",
       "        text-align: left;\n",
       "    }\n",
       "\n",
       "    .dataframe tbody tr th {\n",
       "        vertical-align: top;\n",
       "    }\n",
       "</style>\n",
       "<table border=\"1\" class=\"dataframe\">\n",
       "  <thead>\n",
       "    <tr>\n",
       "      <th></th>\n",
       "      <th colspan=\"2\" halign=\"left\">comment</th>\n",
       "      <th colspan=\"2\" halign=\"left\">date</th>\n",
       "      <th colspan=\"2\" halign=\"left\">latency</th>\n",
       "      <th colspan=\"2\" halign=\"left\">new</th>\n",
       "      <th colspan=\"2\" halign=\"left\">ns</th>\n",
       "      <th colspan=\"2\" halign=\"left\">revid</th>\n",
       "      <th colspan=\"2\" halign=\"left\">sizediff</th>\n",
       "      <th colspan=\"2\" halign=\"left\">timestamp</th>\n",
       "      <th colspan=\"2\" halign=\"left\">title</th>\n",
       "      <th colspan=\"2\" halign=\"left\">entropy</th>\n",
       "    </tr>\n",
       "    <tr>\n",
       "      <th>before</th>\n",
       "      <th>False</th>\n",
       "      <th>True</th>\n",
       "      <th>False</th>\n",
       "      <th>True</th>\n",
       "      <th>False</th>\n",
       "      <th>True</th>\n",
       "      <th>False</th>\n",
       "      <th>True</th>\n",
       "      <th>False</th>\n",
       "      <th>True</th>\n",
       "      <th>False</th>\n",
       "      <th>True</th>\n",
       "      <th>False</th>\n",
       "      <th>True</th>\n",
       "      <th>False</th>\n",
       "      <th>True</th>\n",
       "      <th>False</th>\n",
       "      <th>True</th>\n",
       "      <th>False</th>\n",
       "      <th>True</th>\n",
       "    </tr>\n",
       "    <tr>\n",
       "      <th>user</th>\n",
       "      <th></th>\n",
       "      <th></th>\n",
       "      <th></th>\n",
       "      <th></th>\n",
       "      <th></th>\n",
       "      <th></th>\n",
       "      <th></th>\n",
       "      <th></th>\n",
       "      <th></th>\n",
       "      <th></th>\n",
       "      <th></th>\n",
       "      <th></th>\n",
       "      <th></th>\n",
       "      <th></th>\n",
       "      <th></th>\n",
       "      <th></th>\n",
       "      <th></th>\n",
       "      <th></th>\n",
       "      <th></th>\n",
       "      <th></th>\n",
       "    </tr>\n",
       "  </thead>\n",
       "  <tbody>\n",
       "    <tr>\n",
       "      <th>-glove-</th>\n",
       "      <td>2071.0</td>\n",
       "      <td>477.0</td>\n",
       "      <td>110.0</td>\n",
       "      <td>18.0</td>\n",
       "      <td>0.000370</td>\n",
       "      <td>0.000990</td>\n",
       "      <td>393.0</td>\n",
       "      <td>105.0</td>\n",
       "      <td>10.0</td>\n",
       "      <td>6.0</td>\n",
       "      <td>2088.0</td>\n",
       "      <td>513.0</td>\n",
       "      <td>116.5</td>\n",
       "      <td>76.0</td>\n",
       "      <td>419.420822</td>\n",
       "      <td>59.882488</td>\n",
       "      <td>1556.0</td>\n",
       "      <td>329.0</td>\n",
       "      <td>7.092238</td>\n",
       "      <td>5.471321</td>\n",
       "    </tr>\n",
       "    <tr>\n",
       "      <th>0xF8E8</th>\n",
       "      <td>6749.0</td>\n",
       "      <td>171.0</td>\n",
       "      <td>300.0</td>\n",
       "      <td>92.0</td>\n",
       "      <td>0.000694</td>\n",
       "      <td>0.210509</td>\n",
       "      <td>437.0</td>\n",
       "      <td>12.0</td>\n",
       "      <td>12.0</td>\n",
       "      <td>9.0</td>\n",
       "      <td>6874.0</td>\n",
       "      <td>200.0</td>\n",
       "      <td>1.0</td>\n",
       "      <td>33.0</td>\n",
       "      <td>629.739525</td>\n",
       "      <td>590.664329</td>\n",
       "      <td>5867.0</td>\n",
       "      <td>95.0</td>\n",
       "      <td>8.513509</td>\n",
       "      <td>3.860003</td>\n",
       "    </tr>\n",
       "    <tr>\n",
       "      <th>11 Arlington</th>\n",
       "      <td>140.0</td>\n",
       "      <td>214.0</td>\n",
       "      <td>75.0</td>\n",
       "      <td>90.0</td>\n",
       "      <td>0.654630</td>\n",
       "      <td>0.007303</td>\n",
       "      <td>0.0</td>\n",
       "      <td>1.0</td>\n",
       "      <td>2.0</td>\n",
       "      <td>3.0</td>\n",
       "      <td>151.0</td>\n",
       "      <td>262.0</td>\n",
       "      <td>6.0</td>\n",
       "      <td>4.0</td>\n",
       "      <td>651.096007</td>\n",
       "      <td>794.068414</td>\n",
       "      <td>93.0</td>\n",
       "      <td>119.0</td>\n",
       "      <td>4.370982</td>\n",
       "      <td>4.484220</td>\n",
       "    </tr>\n",
       "    <tr>\n",
       "      <th>11Eternity11</th>\n",
       "      <td>30.0</td>\n",
       "      <td>44.0</td>\n",
       "      <td>3.0</td>\n",
       "      <td>5.0</td>\n",
       "      <td>0.008003</td>\n",
       "      <td>0.012141</td>\n",
       "      <td>0.0</td>\n",
       "      <td>1.0</td>\n",
       "      <td>4.0</td>\n",
       "      <td>2.0</td>\n",
       "      <td>32.0</td>\n",
       "      <td>45.0</td>\n",
       "      <td>303.5</td>\n",
       "      <td>338.0</td>\n",
       "      <td>1.924942</td>\n",
       "      <td>4.992049</td>\n",
       "      <td>10.0</td>\n",
       "      <td>4.0</td>\n",
       "      <td>1.959248</td>\n",
       "      <td>0.392379</td>\n",
       "    </tr>\n",
       "    <tr>\n",
       "      <th>127W111</th>\n",
       "      <td>4455.0</td>\n",
       "      <td>338.0</td>\n",
       "      <td>201.0</td>\n",
       "      <td>50.0</td>\n",
       "      <td>0.004329</td>\n",
       "      <td>0.005220</td>\n",
       "      <td>1.0</td>\n",
       "      <td>0.0</td>\n",
       "      <td>4.0</td>\n",
       "      <td>3.0</td>\n",
       "      <td>4468.0</td>\n",
       "      <td>342.0</td>\n",
       "      <td>2.0</td>\n",
       "      <td>0.0</td>\n",
       "      <td>252.437766</td>\n",
       "      <td>98.900671</td>\n",
       "      <td>556.0</td>\n",
       "      <td>121.0</td>\n",
       "      <td>2.982068</td>\n",
       "      <td>4.017254</td>\n",
       "    </tr>\n",
       "  </tbody>\n",
       "</table>\n",
       "</div>"
      ],
      "text/plain": [
       "             comment          date         latency              new         \\\n",
       "before         False  True   False True      False     True   False  True    \n",
       "user                                                                         \n",
       "-glove-       2071.0  477.0  110.0  18.0  0.000370  0.000990  393.0  105.0   \n",
       "0xF8E8        6749.0  171.0  300.0  92.0  0.000694  0.210509  437.0   12.0   \n",
       "11 Arlington   140.0  214.0   75.0  90.0  0.654630  0.007303    0.0    1.0   \n",
       "11Eternity11    30.0   44.0    3.0   5.0  0.008003  0.012141    0.0    1.0   \n",
       "127W111       4455.0  338.0  201.0  50.0  0.004329  0.005220    1.0    0.0   \n",
       "\n",
       "                ns         revid        sizediff          timestamp  \\\n",
       "before       False True    False  True     False  True        False   \n",
       "user                                                                  \n",
       "-glove-       10.0   6.0  2088.0  513.0    116.5   76.0  419.420822   \n",
       "0xF8E8        12.0   9.0  6874.0  200.0      1.0   33.0  629.739525   \n",
       "11 Arlington   2.0   3.0   151.0  262.0      6.0    4.0  651.096007   \n",
       "11Eternity11   4.0   2.0    32.0   45.0    303.5  338.0    1.924942   \n",
       "127W111        4.0   3.0  4468.0  342.0      2.0    0.0  252.437766   \n",
       "\n",
       "                           title          entropy            \n",
       "before             True    False  True      False     True   \n",
       "user                                                         \n",
       "-glove-        59.882488  1556.0  329.0  7.092238  5.471321  \n",
       "0xF8E8        590.664329  5867.0   95.0  8.513509  3.860003  \n",
       "11 Arlington  794.068414    93.0  119.0  4.370982  4.484220  \n",
       "11Eternity11    4.992049    10.0    4.0  1.959248  0.392379  \n",
       "127W111        98.900671   556.0  121.0  2.982068  4.017254  "
      ]
     },
     "execution_count": 245,
     "metadata": {},
     "output_type": "execute_result"
    }
   ],
   "source": [
    "_agg = {'revid':len,'title':pd.Series.nunique,'sizediff':np.median,'ns':pd.Series.nunique,'latency':np.median,\n",
    "        'timestamp':lambda x: (x.max() - x.min())/np.timedelta64(1,'D'),'date':pd.Series.nunique,'new':np.sum,\n",
    "        'comment':lambda x:np.sum(x.notnull())}\n",
    "before_after_agg = all_user_contribs.groupby(['user','before']).agg(_agg)\n",
    "before_after_agg = before_after_agg.unstack(1).sort_index(axis=1)\n",
    "\n",
    "# Compute entropy\n",
    "user_article_beforeafter_revs = all_user_contribs.groupby(['user','before','title']).agg({'revid':len})['revid']\n",
    "rev_fraction = user_article_beforeafter_revs.unstack(1).fillna(0).div(user_article_beforeafter_revs.sum(level=[0,1]).unstack(1))\n",
    "entropy_stats = rev_fraction.reset_index().groupby('user').agg({False:stats.entropy,True:stats.entropy})\n",
    "\n",
    "before_after_agg[('entropy',False)] = entropy_stats[False]\n",
    "before_after_agg[('entropy',True)] = entropy_stats[True]\n",
    "\n",
    "before_after_agg.head()"
   ]
  },
  {
   "cell_type": "code",
   "execution_count": 271,
   "metadata": {},
   "outputs": [
    {
     "data": {
      "text/plain": [
       "1075"
      ]
     },
     "execution_count": 271,
     "metadata": {},
     "output_type": "execute_result"
    }
   ],
   "source": [
    "len(all_user_contribs['user'].unique())"
   ]
  },
  {
   "cell_type": "code",
   "execution_count": 272,
   "metadata": {},
   "outputs": [
    {
     "name": "stdout",
     "output_type": "stream",
     "text": [
      "\n",
      "-------------\n",
      "comment\n",
      "-------------\n",
      "Before mean: 1851.68 ± 5293.7\n",
      "After mean : 5399.38 ± 11952.0\n",
      "ANOVA F: 78.50 (p = 0.000)\n",
      "Kruskal H: 215.4 (p = 0.000)\n",
      "\n",
      "-------------\n",
      "date\n",
      "-------------\n",
      "Before mean: 153.16 ± 181.0\n",
      "After mean : 263.52 ± 213.7\n",
      "ANOVA F: 165.38 (p = 0.000)\n",
      "Kruskal H: 246.8 (p = 0.000)\n",
      "\n",
      "-------------\n",
      "entropy\n",
      "-------------\n",
      "Before mean: 4.68 ± 1.8\n",
      "After mean : 5.89 ± 1.8\n",
      "ANOVA F: 234.86 (p = 0.000)\n",
      "Kruskal H: 198.5 (p = 0.000)\n",
      "\n",
      "-------------\n",
      "latency\n",
      "-------------\n",
      "Before mean: 0.39 ± 5.4\n",
      "After mean : 0.11 ± 1.5\n",
      "ANOVA F: 2.81 (p = 0.094)\n",
      "Kruskal H: 24.0 (p = 0.000)\n",
      "\n",
      "-------------\n",
      "new\n",
      "-------------\n",
      "Before mean: 183.13 ± 1436.7\n",
      "After mean : 496.70 ± 1621.8\n",
      "ANOVA F: 22.31 (p = 0.000)\n",
      "Kruskal H: 77.4 (p = 0.000)\n",
      "\n",
      "-------------\n",
      "ns\n",
      "-------------\n",
      "Before mean: 6.48 ± 3.6\n",
      "After mean : 8.38 ± 4.2\n",
      "ANOVA F: 122.38 (p = 0.000)\n",
      "Kruskal H: 103.8 (p = 0.000)\n",
      "\n",
      "-------------\n",
      "revid\n",
      "-------------\n",
      "Before mean: 2186.62 ± 5771.7\n",
      "After mean : 5979.93 ± 12478.8\n",
      "ANOVA F: 81.12 (p = 0.000)\n",
      "Kruskal H: 226.3 (p = 0.000)\n",
      "\n",
      "-------------\n",
      "sizediff\n",
      "-------------\n",
      "Before mean: 69.69 ± 384.8\n",
      "After mean : 60.40 ± 125.1\n",
      "ANOVA F: 0.56 (p = 0.454)\n",
      "Kruskal H: 0.7 (p = 0.396)\n",
      "\n",
      "-------------\n",
      "timestamp\n",
      "-------------\n",
      "Before mean: 482.84 ± 352.2\n",
      "After mean : 542.98 ± 259.9\n",
      "ANOVA F: 20.11 (p = 0.000)\n",
      "Kruskal H: 22.9 (p = 0.000)\n",
      "\n",
      "-------------\n",
      "title\n",
      "-------------\n",
      "Before mean: 943.93 ± 4097.5\n",
      "After mean : 3095.95 ± 8032.7\n",
      "ANOVA F: 60.69 (p = 0.000)\n",
      "Kruskal H: 217.5 (p = 0.000)\n"
     ]
    }
   ],
   "source": [
    "stats_d = {}\n",
    "\n",
    "for _var in sorted(before_after_agg.columns.levels[0]):\n",
    "    _before = before_after_agg.loc[:,idx[_var,1]].replace({-np.inf:np.nan}).dropna()\n",
    "    _after = before_after_agg.loc[:,idx[_var,0]].replace({-np.inf:np.nan}).dropna()\n",
    "\n",
    "    F,p_F = stats.f_oneway(_before,_after)\n",
    "    H,p_H = stats.kruskal(_before,_after)\n",
    "    \n",
    "    print(\"\\n-------------\\n{0}\\n-------------\".format(_var))\n",
    "    print(\"Before mean: {0:.2f} ± {1:.1f}\\nAfter mean : {2:.2f} ± {3:.1f}\\nANOVA F: {4:.2f} (p = {5:.3f})\\nKruskal H: {6:.1f} (p = {7:.3f})\".format(_before.mean(),_before.std(),_after.mean(),_after.std(),F,p_F,H,p_H))\n",
    "    stats_d[_var] = {}\n",
    "    \n",
    "    if _before.mean() >= 100 or _after.mean() >= 100:\n",
    "        stats_d[_var]['Before'] = '{0:.0f} ± {1:.0f}'.format(_before.mean(),_before.std())\n",
    "        stats_d[_var]['After'] = '{0:.0f} ± {1:.0f}'.format(_after.mean(),_after.std())\n",
    "    else:\n",
    "        stats_d[_var]['Before'] = '{0:.2f} ± {1:.2f}'.format(_before.mean(),_before.std())\n",
    "        stats_d[_var]['After'] = '{0:.2f} ± {1:.2f}'.format(_after.mean(),_after.std())\n",
    "    \n",
    "    if p_H >= 0.01 and p_H < 0.05:\n",
    "        stats_d[_var]['H-test'] = '{0:.1f}*'.format(H)\n",
    "    elif p_H >= 0.001 and p_H < 0.001:\n",
    "        stats_d[_var]['H-test'] = '{0:.1f}**'.format(H)\n",
    "    elif p_H < 0.001:\n",
    "        stats_d[_var]['H-test'] = '{0:.1f}***'.format(H)\n",
    "    else:\n",
    "        stats_d[_var]['H-test'] = '{0:.1f}'.format(H)"
   ]
  },
  {
   "cell_type": "code",
   "execution_count": 259,
   "metadata": {},
   "outputs": [
    {
     "name": "stdout",
     "output_type": "stream",
     "text": [
      "\\begin{tabular}{llll}\n",
      "\\toprule\n",
      "{} &          Before &           After &    H-test \\\\\n",
      "\\midrule\n",
      "comment   &     1852 ± 5294 &    5399 ± 11952 &  215.4*** \\\\\n",
      "date      &       153 ± 181 &       264 ± 214 &  246.8*** \\\\\n",
      "entropy   &     4.68 ± 1.80 &     5.89 ± 1.83 &  198.5*** \\\\\n",
      "latency   &     0.39 ± 5.36 &     0.11 ± 1.46 &   24.0*** \\\\\n",
      "new       &      183 ± 1437 &      497 ± 1622 &   77.4*** \\\\\n",
      "ns        &     6.48 ± 3.62 &     8.38 ± 4.25 &  103.8*** \\\\\n",
      "revid     &     2187 ± 5772 &    5980 ± 12479 &  226.3*** \\\\\n",
      "sizediff  &  69.69 ± 384.81 &  60.40 ± 125.09 &       0.7 \\\\\n",
      "timestamp &       483 ± 352 &       543 ± 260 &   22.9*** \\\\\n",
      "title     &      944 ± 4098 &     3096 ± 8033 &  217.5*** \\\\\n",
      "\\bottomrule\n",
      "\\end{tabular}\n",
      "\n"
     ]
    }
   ],
   "source": [
    "print(pd.DataFrame(stats_d).T[['Before','After','H-test']].to_latex())"
   ]
  },
  {
   "cell_type": "code",
   "execution_count": 244,
   "metadata": {
    "collapsed": true
   },
   "outputs": [],
   "source": []
  },
  {
   "cell_type": "code",
   "execution_count": null,
   "metadata": {
    "collapsed": true
   },
   "outputs": [],
   "source": []
  }
 ],
 "metadata": {
  "kernelspec": {
   "display_name": "Python 3",
   "language": "python",
   "name": "python3"
  },
  "language_info": {
   "codemirror_mode": {
    "name": "ipython",
    "version": 3
   },
   "file_extension": ".py",
   "mimetype": "text/x-python",
   "name": "python",
   "nbconvert_exporter": "python",
   "pygments_lexer": "ipython3",
   "version": "3.7.4"
  }
 },
 "nbformat": 4,
 "nbformat_minor": 1
}
